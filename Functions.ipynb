{
 "cells": [
  {
   "cell_type": "markdown",
   "id": "49f65af5",
   "metadata": {},
   "source": [
    "## Functions"
   ]
  },
  {
   "cell_type": "code",
   "execution_count": 1,
   "id": "a6a16a8b",
   "metadata": {},
   "outputs": [],
   "source": [
    "# basic example"
   ]
  },
  {
   "cell_type": "code",
   "execution_count": 2,
   "id": "2481956c",
   "metadata": {},
   "outputs": [],
   "source": [
    "def say_hello():\n",
    "    \"\"\"Display greeting\"\"\"\n",
    "    print(\"Hello. :/\")"
   ]
  },
  {
   "cell_type": "code",
   "execution_count": 3,
   "id": "803591f9",
   "metadata": {},
   "outputs": [
    {
     "data": {
      "text/plain": [
       "<function __main__.say_hello()>"
      ]
     },
     "execution_count": 3,
     "metadata": {},
     "output_type": "execute_result"
    }
   ],
   "source": [
    "say_hello"
   ]
  },
  {
   "cell_type": "code",
   "execution_count": 4,
   "id": "b3263e46",
   "metadata": {},
   "outputs": [
    {
     "name": "stdout",
     "output_type": "stream",
     "text": [
      "Hello. :/\n"
     ]
    }
   ],
   "source": [
    "say_hello()"
   ]
  },
  {
   "cell_type": "code",
   "execution_count": 8,
   "id": "c4eaa4e8",
   "metadata": {},
   "outputs": [],
   "source": [
    "def say_hello(name):\n",
    "    \"\"\"greets by name\"\"\"\n",
    "    print(f\"Heya {name}!\")"
   ]
  },
  {
   "cell_type": "code",
   "execution_count": 9,
   "id": "0b303dcf",
   "metadata": {},
   "outputs": [
    {
     "name": "stdout",
     "output_type": "stream",
     "text": [
      "Heya micah!\n"
     ]
    }
   ],
   "source": [
    "say_hello(\"micah\")"
   ]
  },
  {
   "cell_type": "code",
   "execution_count": 11,
   "id": "63899259",
   "metadata": {},
   "outputs": [],
   "source": [
    "names = [\"snap\", \"crackle\", \"pop\"]"
   ]
  },
  {
   "cell_type": "code",
   "execution_count": 12,
   "id": "ce023b3b",
   "metadata": {},
   "outputs": [
    {
     "name": "stdout",
     "output_type": "stream",
     "text": [
      "Heya snap!\n",
      "Heya crackle!\n",
      "Heya pop!\n"
     ]
    }
   ],
   "source": [
    "for name in names:\n",
    "    say_hello(name)"
   ]
  },
  {
   "cell_type": "code",
   "execution_count": 13,
   "id": "a39d9723",
   "metadata": {},
   "outputs": [],
   "source": [
    "# positional args"
   ]
  },
  {
   "cell_type": "code",
   "execution_count": 15,
   "id": "390add37",
   "metadata": {},
   "outputs": [],
   "source": [
    "def describe_author(name, genre):\n",
    "    \"\"\"describes author by genre\"\"\"\n",
    "    print(f\"{name.title()} writes {genre}.\")"
   ]
  },
  {
   "cell_type": "code",
   "execution_count": 17,
   "id": "666db2e8",
   "metadata": {},
   "outputs": [
    {
     "name": "stdout",
     "output_type": "stream",
     "text": [
      "Gibbon writes history.\n"
     ]
    }
   ],
   "source": [
    "describe_author(\"gibbon\", \"history\")"
   ]
  },
  {
   "cell_type": "code",
   "execution_count": 18,
   "id": "debb5c35",
   "metadata": {},
   "outputs": [],
   "source": [
    "authors = [(\"gibbon\", \"history\"), (\"rumi\",\"poetry\"), (\"plato\",\"philosophy\")]"
   ]
  },
  {
   "cell_type": "code",
   "execution_count": 19,
   "id": "bd73a903",
   "metadata": {},
   "outputs": [
    {
     "name": "stdout",
     "output_type": "stream",
     "text": [
      "Gibbon writes history.\n",
      "Rumi writes poetry.\n",
      "Plato writes philosophy.\n"
     ]
    }
   ],
   "source": [
    "for author in authors:\n",
    "    describe_author(author[0], author[1])"
   ]
  },
  {
   "cell_type": "code",
   "execution_count": 20,
   "id": "5ef48e0e",
   "metadata": {},
   "outputs": [],
   "source": [
    "def describe_author_2(name = \"Dickens\", genre = \"fiction\"):\n",
    "    print(f\"{name.title()} writes {genre}.\")"
   ]
  },
  {
   "cell_type": "code",
   "execution_count": 21,
   "id": "61ea2f39",
   "metadata": {},
   "outputs": [
    {
     "name": "stdout",
     "output_type": "stream",
     "text": [
      "Dickens writes fiction.\n"
     ]
    }
   ],
   "source": [
    "describe_author_2()"
   ]
  },
  {
   "cell_type": "code",
   "execution_count": 23,
   "id": "a63325ec",
   "metadata": {},
   "outputs": [
    {
     "name": "stdout",
     "output_type": "stream",
     "text": [
      "Gibbon writes history.\n"
     ]
    }
   ],
   "source": [
    "describe_author_2(name = \"gibbon\", genre = \"history\")"
   ]
  },
  {
   "cell_type": "code",
   "execution_count": 24,
   "id": "6d0810c3",
   "metadata": {},
   "outputs": [],
   "source": [
    "# return values\""
   ]
  },
  {
   "cell_type": "code",
   "execution_count": 25,
   "id": "ba18fbb3",
   "metadata": {},
   "outputs": [],
   "source": [
    "def format_name(first, last):\n",
    "    name = f\"{first.title()} {last.title()}\"\n",
    "    return name"
   ]
  },
  {
   "cell_type": "code",
   "execution_count": 27,
   "id": "7324c7cf",
   "metadata": {},
   "outputs": [
    {
     "data": {
      "text/plain": [
       "'Friedrich Nietzsche'"
      ]
     },
     "execution_count": 27,
     "metadata": {},
     "output_type": "execute_result"
    }
   ],
   "source": [
    "format_name(first = \"friedrich\", last = \"nietzsche\")"
   ]
  },
  {
   "cell_type": "code",
   "execution_count": 28,
   "id": "686220e0",
   "metadata": {},
   "outputs": [],
   "source": [
    "philosopher = format_name(first = \"friedrich\", last = \"nietzsche\")"
   ]
  },
  {
   "cell_type": "code",
   "execution_count": 29,
   "id": "4a303ff7",
   "metadata": {},
   "outputs": [
    {
     "name": "stdout",
     "output_type": "stream",
     "text": [
      "Friedrich Nietzsche\n"
     ]
    }
   ],
   "source": [
    "print(philosopher)"
   ]
  },
  {
   "cell_type": "code",
   "execution_count": null,
   "id": "f2c451a2",
   "metadata": {},
   "outputs": [],
   "source": []
  }
 ],
 "metadata": {
  "kernelspec": {
   "display_name": "Python 3 (ipykernel)",
   "language": "python",
   "name": "python3"
  },
  "language_info": {
   "codemirror_mode": {
    "name": "ipython",
    "version": 3
   },
   "file_extension": ".py",
   "mimetype": "text/x-python",
   "name": "python",
   "nbconvert_exporter": "python",
   "pygments_lexer": "ipython3",
   "version": "3.9.12"
  }
 },
 "nbformat": 4,
 "nbformat_minor": 5
}
