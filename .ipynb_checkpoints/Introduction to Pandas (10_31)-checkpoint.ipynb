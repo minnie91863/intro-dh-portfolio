{
 "cells": [
  {
   "cell_type": "markdown",
   "id": "e0bb4b4f",
   "metadata": {},
   "source": [
    "# An introduction to `pandas`\n",
    "\n",
    "\n",
    "'Give someone a dataset, feed them for a day. Teach someone to create a dataset, feed them for a lifetime' -- me\n"
   ]
  },
  {
   "cell_type": "markdown",
   "id": "f91e2c3d",
   "metadata": {},
   "source": [
    "## What is `pandas` and why does it matter?"
   ]
  },
  {
   "cell_type": "markdown",
   "id": "6d21f8d1",
   "metadata": {},
   "source": [
    "`pandas` is a Python library that provides a couple new data structures that give users much more flexibility when reading in or exporting data. The main way that we will interact with `pandas` is through the pre-defined `DataFrame` object. `DataFrame`s are a very different data structure than what you may be used to from this class or other classes. It is most similar to a SQL database or an Excel spreadsheet in that it expects 'tabular data' (data that can be arranged in a table). \n",
    "\n",
    "`pandas` is very unique in that it is not just written in Python but also an intermediate language between C and Python called `Cython`. This feature means that `pandas` has all of the ease of a Python library, while also utilizing all of the speed and efficiency of C. Thus, `pandas` has become a critical component in data science, data analytics and, of course, natural language process and the digital humanities. "
   ]
  },
  {
   "cell_type": "code",
   "execution_count": 1,
   "id": "624b9177",
   "metadata": {},
   "outputs": [],
   "source": [
    "import pandas as pd"
   ]
  },
  {
   "cell_type": "markdown",
   "id": "f0e48897",
   "metadata": {},
   "source": [
    "You will almost always see `pandas` imported like this. Although the beginning looks normal, this `as` keyword tells Python we intend to use the shorthand `pd` to stand in for `pandas`. Importantly, we cannot use `pandas`, if we import it like this. We can only use `pd`. See below:"
   ]
  },
  {
   "cell_type": "code",
   "execution_count": 2,
   "id": "57761065",
   "metadata": {},
   "outputs": [
    {
     "data": {
      "text/plain": [
       "<module 'pandas' from '/Users/pnadel01/miniconda3/lib/python3.9/site-packages/pandas/__init__.py'>"
      ]
     },
     "execution_count": 2,
     "metadata": {},
     "output_type": "execute_result"
    }
   ],
   "source": [
    "pd"
   ]
  },
  {
   "cell_type": "code",
   "execution_count": 3,
   "id": "fdc50e5c",
   "metadata": {},
   "outputs": [
    {
     "ename": "NameError",
     "evalue": "name 'pandas' is not defined",
     "output_type": "error",
     "traceback": [
      "\u001b[0;31m---------------------------------------------------------------------------\u001b[0m",
      "\u001b[0;31mNameError\u001b[0m                                 Traceback (most recent call last)",
      "Input \u001b[0;32mIn [3]\u001b[0m, in \u001b[0;36m<cell line: 1>\u001b[0;34m()\u001b[0m\n\u001b[0;32m----> 1\u001b[0m \u001b[43mpandas\u001b[49m\n",
      "\u001b[0;31mNameError\u001b[0m: name 'pandas' is not defined"
     ]
    }
   ],
   "source": [
    "pandas"
   ]
  },
  {
   "cell_type": "markdown",
   "id": "353b1af1",
   "metadata": {},
   "source": [
    "We get a `NameError` because we told Python to import `pandas` as `pd`, so `pd` is the only name that works."
   ]
  },
  {
   "cell_type": "markdown",
   "id": "c8227367",
   "metadata": {},
   "source": [
    "## Sample datasets for your final projects"
   ]
  },
  {
   "cell_type": "markdown",
   "id": "789c4c44",
   "metadata": {},
   "source": [
    "For your final project, you'll need to use your a new dataset. At your disposal are a couple datasets that I have put together for you: https://github.com/pnadelofficial/datasets. They are in varying states of cleanness and ease of use in order to simulate a dataset you might find in the wild. Feel free to use any of these for your final project or the make one yourself."
   ]
  },
  {
   "cell_type": "markdown",
   "id": "5e1a3b67",
   "metadata": {},
   "source": [
    "Today, I'll walk you through using the `lyrics_app` and we'll also get a tour of `pandas` and experiment with data cleaning. "
   ]
  },
  {
   "cell_type": "code",
   "execution_count": 4,
   "id": "cf35420d",
   "metadata": {},
   "outputs": [
    {
     "name": "stdout",
     "output_type": "stream",
     "text": [
      "Requirement already satisfied: wget in /Users/pnadel01/miniconda3/lib/python3.9/site-packages (3.2)\r\n"
     ]
    }
   ],
   "source": [
    "!pip install wget\n",
    "import wget\n",
    "import os\n",
    "\n",
    "# downloading lyrics app\n",
    "if not os.path.isfile('lyrics.py'):\n",
    "    wget.download('https://raw.githubusercontent.com/pnadelofficial/datasets/main/lyrics_app/lyrics.py')\n",
    "    \n",
    "# raise your hand if you get an error here..."
   ]
  },
  {
   "cell_type": "markdown",
   "id": "f44a6d56",
   "metadata": {},
   "source": [
    "This file takes in an artist name and an album name and will return a comma separated values file or `csv` of all of the lyrics in that album. But you must use the command line. So let's see how we can do that from this notebook. "
   ]
  },
  {
   "cell_type": "code",
   "execution_count": 5,
   "id": "9a87f912",
   "metadata": {},
   "outputs": [
    {
     "name": "stdout",
     "output_type": "stream",
     "text": [
      "Searching for \"Revolver\" by The Beatles...\n",
      "Wrote Lyrics_Revolver.json.\n",
      "Data saved\n",
      "Data loaded\n"
     ]
    }
   ],
   "source": [
    "!python lyrics.py 'The Beatles' 'Revolver'\n",
    "# this will save a file called 'The Beatles-Revolver_lyrics.csv' in my directory\n",
    "# will take around a minute"
   ]
  },
  {
   "cell_type": "code",
   "execution_count": 5,
   "id": "303c3658",
   "metadata": {
    "scrolled": true
   },
   "outputs": [
    {
     "data": {
      "text/html": [
       "<div>\n",
       "<style scoped>\n",
       "    .dataframe tbody tr th:only-of-type {\n",
       "        vertical-align: middle;\n",
       "    }\n",
       "\n",
       "    .dataframe tbody tr th {\n",
       "        vertical-align: top;\n",
       "    }\n",
       "\n",
       "    .dataframe thead th {\n",
       "        text-align: right;\n",
       "    }\n",
       "</style>\n",
       "<table border=\"1\" class=\"dataframe\">\n",
       "  <thead>\n",
       "    <tr style=\"text-align: right;\">\n",
       "      <th></th>\n",
       "      <th>song_title</th>\n",
       "      <th>lyrics</th>\n",
       "    </tr>\n",
       "  </thead>\n",
       "  <tbody>\n",
       "    <tr>\n",
       "      <th>0</th>\n",
       "      <td>Taxman</td>\n",
       "      <td>Taxman Lyrics[Intro: Paul McCartney &amp; George H...</td>\n",
       "    </tr>\n",
       "    <tr>\n",
       "      <th>1</th>\n",
       "      <td>Eleanor Rig</td>\n",
       "      <td>Eleanor Rigby Lyrics[Intro: Paul McCartney, Jo...</td>\n",
       "    </tr>\n",
       "    <tr>\n",
       "      <th>2</th>\n",
       "      <td>I'm Only Sleeping</td>\n",
       "      <td>I’m Only Sleeping Lyrics[Verse 1]\\nWhen I wake...</td>\n",
       "    </tr>\n",
       "    <tr>\n",
       "      <th>3</th>\n",
       "      <td>Love You To</td>\n",
       "      <td>Love You To Lyrics[Intro]\\n\\n[Verse 1]\\nEach d...</td>\n",
       "    </tr>\n",
       "    <tr>\n",
       "      <th>4</th>\n",
       "      <td>Here, There and Everywhere</td>\n",
       "      <td>Here, There and Everywhere Lyrics[Intro]\\nTo l...</td>\n",
       "    </tr>\n",
       "    <tr>\n",
       "      <th>5</th>\n",
       "      <td>Yellow Submarine</td>\n",
       "      <td>Yellow Submarine Lyrics[Verse 1: Ringo Starr]\\...</td>\n",
       "    </tr>\n",
       "    <tr>\n",
       "      <th>6</th>\n",
       "      <td>She Said She Said</td>\n",
       "      <td>She Said She Said Lyrics[Verse 1]\\nShe said, \"...</td>\n",
       "    </tr>\n",
       "    <tr>\n",
       "      <th>7</th>\n",
       "      <td>Good Day Sunshine</td>\n",
       "      <td>Good Day Sunshine Lyrics[Chorus]\\nGood day sun...</td>\n",
       "    </tr>\n",
       "    <tr>\n",
       "      <th>8</th>\n",
       "      <td>And Your Bird Can Sing</td>\n",
       "      <td>And Your Bird Can Sing Lyrics[Verse 1]\\nYou te...</td>\n",
       "    </tr>\n",
       "    <tr>\n",
       "      <th>9</th>\n",
       "      <td>For No One</td>\n",
       "      <td>For No One Lyrics[Verse 1]\\nYour day breaks, y...</td>\n",
       "    </tr>\n",
       "    <tr>\n",
       "      <th>10</th>\n",
       "      <td>Doctor Robert</td>\n",
       "      <td>Doctor Robert Lyrics[Verse 1]\\nRing my friend,...</td>\n",
       "    </tr>\n",
       "    <tr>\n",
       "      <th>11</th>\n",
       "      <td>I Want to Tell You</td>\n",
       "      <td>I Want to Tell You Lyrics[Verse 1]\\nI want to ...</td>\n",
       "    </tr>\n",
       "    <tr>\n",
       "      <th>12</th>\n",
       "      <td>Got to Get You into My Life</td>\n",
       "      <td>Got to Get You into My Life Lyrics[Verse 1]\\nI...</td>\n",
       "    </tr>\n",
       "    <tr>\n",
       "      <th>13</th>\n",
       "      <td>Tomorrow Never Knows</td>\n",
       "      <td>Tomorrow Never Knows Lyrics[Verse 1]\\nTurn off...</td>\n",
       "    </tr>\n",
       "  </tbody>\n",
       "</table>\n",
       "</div>"
      ],
      "text/plain": [
       "                     song_title  \\\n",
       "0                        Taxman   \n",
       "1                   Eleanor Rig   \n",
       "2             I'm Only Sleeping   \n",
       "3                   Love You To   \n",
       "4    Here, There and Everywhere   \n",
       "5              Yellow Submarine   \n",
       "6             She Said She Said   \n",
       "7             Good Day Sunshine   \n",
       "8        And Your Bird Can Sing   \n",
       "9                    For No One   \n",
       "10                Doctor Robert   \n",
       "11           I Want to Tell You   \n",
       "12  Got to Get You into My Life   \n",
       "13         Tomorrow Never Knows   \n",
       "\n",
       "                                               lyrics  \n",
       "0   Taxman Lyrics[Intro: Paul McCartney & George H...  \n",
       "1   Eleanor Rigby Lyrics[Intro: Paul McCartney, Jo...  \n",
       "2   I’m Only Sleeping Lyrics[Verse 1]\\nWhen I wake...  \n",
       "3   Love You To Lyrics[Intro]\\n\\n[Verse 1]\\nEach d...  \n",
       "4   Here, There and Everywhere Lyrics[Intro]\\nTo l...  \n",
       "5   Yellow Submarine Lyrics[Verse 1: Ringo Starr]\\...  \n",
       "6   She Said She Said Lyrics[Verse 1]\\nShe said, \"...  \n",
       "7   Good Day Sunshine Lyrics[Chorus]\\nGood day sun...  \n",
       "8   And Your Bird Can Sing Lyrics[Verse 1]\\nYou te...  \n",
       "9   For No One Lyrics[Verse 1]\\nYour day breaks, y...  \n",
       "10  Doctor Robert Lyrics[Verse 1]\\nRing my friend,...  \n",
       "11  I Want to Tell You Lyrics[Verse 1]\\nI want to ...  \n",
       "12  Got to Get You into My Life Lyrics[Verse 1]\\nI...  \n",
       "13  Tomorrow Never Knows Lyrics[Verse 1]\\nTurn off...  "
      ]
     },
     "execution_count": 5,
     "metadata": {},
     "output_type": "execute_result"
    }
   ],
   "source": [
    "# read in as a DataFrame\n",
    "revolver = pd.read_csv('The Beatles-Revolver_lyrics.csv')\n",
    "revolver"
   ]
  },
  {
   "cell_type": "code",
   "execution_count": 6,
   "id": "6aab1cec",
   "metadata": {},
   "outputs": [
    {
     "data": {
      "text/plain": [
       "pandas.core.frame.DataFrame"
      ]
     },
     "execution_count": 6,
     "metadata": {},
     "output_type": "execute_result"
    }
   ],
   "source": [
    "type(revolver)"
   ]
  },
  {
   "cell_type": "code",
   "execution_count": 9,
   "id": "27d3352b",
   "metadata": {},
   "outputs": [],
   "source": [
    "revolver?"
   ]
  },
  {
   "cell_type": "markdown",
   "id": "f361f7ab",
   "metadata": {},
   "source": [
    "This is a `DataFrame`. As we see above, we can create one from a `csv` file, but we will also see how we can take a `dict` or `list` and convert it into a `DataFrame` in our next class."
   ]
  },
  {
   "cell_type": "markdown",
   "id": "a37bb979",
   "metadata": {},
   "source": [
    "Now let's take a look at what the output is. We can do that by first selecting the column we want to look at, in this case `lyrics`, and then selecting the row, in this case the first row (index = 0).\n",
    "\n",
    "In `pandas`, there are two ways of selecting a column: \n",
    "* `revolver['lyrics']`\n",
    "* `revolver.lyrics`\n",
    "\n",
    "These will not just produce the same thing, but actually refer to the same process in computer memory.\n",
    "\n",
    "To select a row, we just need to put the index position of the row we want in square brackets after the column, just like in a list. See below:"
   ]
  },
  {
   "cell_type": "code",
   "execution_count": 7,
   "id": "ce2ad4b0",
   "metadata": {},
   "outputs": [
    {
     "data": {
      "text/plain": [
       "0     Taxman Lyrics[Intro: Paul McCartney & George H...\n",
       "1     Eleanor Rigby Lyrics[Intro: Paul McCartney, Jo...\n",
       "2     I’m Only Sleeping Lyrics[Verse 1]\\nWhen I wake...\n",
       "3     Love You To Lyrics[Intro]\\n\\n[Verse 1]\\nEach d...\n",
       "4     Here, There and Everywhere Lyrics[Intro]\\nTo l...\n",
       "5     Yellow Submarine Lyrics[Verse 1: Ringo Starr]\\...\n",
       "6     She Said She Said Lyrics[Verse 1]\\nShe said, \"...\n",
       "7     Good Day Sunshine Lyrics[Chorus]\\nGood day sun...\n",
       "8     And Your Bird Can Sing Lyrics[Verse 1]\\nYou te...\n",
       "9     For No One Lyrics[Verse 1]\\nYour day breaks, y...\n",
       "10    Doctor Robert Lyrics[Verse 1]\\nRing my friend,...\n",
       "11    I Want to Tell You Lyrics[Verse 1]\\nI want to ...\n",
       "12    Got to Get You into My Life Lyrics[Verse 1]\\nI...\n",
       "13    Tomorrow Never Knows Lyrics[Verse 1]\\nTurn off...\n",
       "Name: lyrics, dtype: object"
      ]
     },
     "execution_count": 7,
     "metadata": {},
     "output_type": "execute_result"
    }
   ],
   "source": [
    "# selecting a column\n",
    "revolver.lyrics # equivalent to revolver['lyrics']"
   ]
  },
  {
   "cell_type": "code",
   "execution_count": 8,
   "id": "c6954c48",
   "metadata": {},
   "outputs": [
    {
     "data": {
      "text/plain": [
       "\"Taxman Lyrics[Intro: Paul McCartney & George Harrison]\\nOne, two, three, four\\nOne, two—  (One, two, three, four!)\\n\\n[Verse 1]\\nLet me tell you how it will be\\nThere's one for you, nineteen for me\\nCause I'm the taxman\\nYeah, I'm the taxman\\n\\n[Verse 2]\\nShould five percent appear too small\\nBe thankful, I don't take it all\\nCause I'm the taxman\\nYeah, I'm the taxman\\n[Bridge]\\n(If you drive a car, car) I'll tax the street\\n(If you try to sit, sit) I'll tax your seat\\n(If you get too cold, cold) I'll tax the heat\\n(If you take a walk, walk) I'll tax your feet\\nTaxman\\n\\n[Guitar Solo: Paul McCartney]\\n\\n[Refrain]\\nCause I'm the taxman\\nYeah, I'm the taxman\\n\\n[Verse 3]\\nDon't ask me what I want it for\\n(Haha, Mr. Wilson)\\nIf you don't want to pay some more\\n(Haha, Mr. Heath)\\nCause I'm the taxman\\nYeah, I'm the taxman\\n\\n[Verse 4]\\nNow my advice for those who die\\n(Taxman!)\\nDeclare the pennies on your eyes\\n(Taxman!)\\nCause I'm the taxman\\nYeah, I'm the taxman\\nYou might also like[Outro]\\nAnd you're working for no one but me (Taxman!)10Embed\""
      ]
     },
     "execution_count": 8,
     "metadata": {},
     "output_type": "execute_result"
    }
   ],
   "source": [
    "# indexing just like in a list\n",
    "revolver.lyrics[0]"
   ]
  },
  {
   "cell_type": "markdown",
   "id": "556f9d82",
   "metadata": {},
   "source": [
    "This output looks pretty messy. In this case, there is a lot of text that indicates what's going on in the song itself, but all we want is the text of the lyrics. We're going to have to 'clean' it.\n",
    "\n",
    "If you want to continue in computer science, data science or the digital humanities, data cleaning is something you will have to confront. No dataset is perfectly clean and prepared for the task you want to do with it. Instead we can use `pandas` to manipulate the data into any form that is convenient for us to work with.  "
   ]
  },
  {
   "cell_type": "code",
   "execution_count": 10,
   "id": "2d96de57",
   "metadata": {},
   "outputs": [],
   "source": [
    "taxman = revolver.lyrics[0] # make a variable for later"
   ]
  },
  {
   "cell_type": "markdown",
   "id": "2cde57d9",
   "metadata": {},
   "source": [
    "Below I'm going to use a package called `re` or regular expressions. This is a very old programming/text analysis language which we can use in Python to navigate through strings easier. It may look intimidating now, but once you use it more, it will make a lot of sense and it will be clear why it's been around almost as long as computing itself.\n",
    "\n",
    "Nothing is a substitute for learning regex, but I find it difficult to introduce to students because it has a high learning curving. This website: https://www.autoregex.xyz/ is a great tool to get started with regex. It uses state of the art sentence transformers (something we may learn about at the very end of this course) to convert an English prompt into a regular expression. Let's try it now for selecting all of the text between square brackets. "
   ]
  },
  {
   "cell_type": "code",
   "execution_count": 12,
   "id": "3a39b213",
   "metadata": {},
   "outputs": [
    {
     "data": {
      "text/plain": [
       "\"Taxman Lyrics\\nOne, two, three, four\\nOne, two—  (One, two, three, four!)\\n\\n\\nLet me tell you how it will be\\nThere's one for you, nineteen for me\\nCause I'm the taxman\\nYeah, I'm the taxman\\n\\n\\nShould five percent appear too small\\nBe thankful, I don't take it all\\nCause I'm the taxman\\nYeah, I'm the taxman\\n\\n(If you drive a car, car) I'll tax the street\\n(If you try to sit, sit) I'll tax your seat\\n(If you get too cold, cold) I'll tax the heat\\n(If you take a walk, walk) I'll tax your feet\\nTaxman\\n\\n\\n\\n\\nCause I'm the taxman\\nYeah, I'm the taxman\\n\\n\\nDon't ask me what I want it for\\n(Haha, Mr. Wilson)\\nIf you don't want to pay some more\\n(Haha, Mr. Heath)\\nCause I'm the taxman\\nYeah, I'm the taxman\\n\\n\\nNow my advice for those who die\\n(Taxman!)\\nDeclare the pennies on your eyes\\n(Taxman!)\\nCause I'm the taxman\\nYeah, I'm the taxman\\nYou might also like\\nAnd you're working for no one but me (Taxman!)10Embed\""
      ]
     },
     "execution_count": 12,
     "metadata": {},
     "output_type": "execute_result"
    }
   ],
   "source": [
    "# let's get rid of all of the text between square brackets\n",
    "import re \n",
    "re.sub('(\\[.*\\])','',taxman)"
   ]
  },
  {
   "cell_type": "markdown",
   "id": "59320b88",
   "metadata": {},
   "source": [
    "Let's break that down:\n",
    "* re.sub: This is the substitute function in `re`. It works very similarly to `replace` in Python. It takes three arguments which are below\n",
    "* Argument 1: a pattern or what's sometimes called a 'regular expression'. This is just a string, but to the `re` package it means something more. Taking a closer look at this one:\n",
    "\n",
    "`(`: opens capture group\n",
    "\n",
    "`\\[`: looks for the `[` character, as we know the square bracket has meaning in Python (and other programming languages) so we need to add the backslash to tell `re` that we are looking for the square bracket and not creating a Python list\n",
    "\n",
    "`.*`: looks for any character as many times as possible\n",
    "\n",
    "`\\]`: again we have to use the backslash to specify that we are looking for the end bracket character\n",
    "\n",
    "`)`: ends capture group\n",
    "\n",
    "* Argument 2: a replacement string, that is what do we want to substitute our pattern with\n",
    "* Argument 3: the string we want to change\n",
    "\n",
    "Another great regex tool is https://regex101.com/ which allows you to test different patterns to make sure that you are matching what you want to be matching. Both this site and the other one from above are great tools for getting started with regex, but no website or algorithm can replace the practice needed to master regex."
   ]
  },
  {
   "cell_type": "code",
   "execution_count": 14,
   "id": "e725f63c",
   "metadata": {},
   "outputs": [
    {
     "data": {
      "text/plain": [
       "['One, two, three, four',\n",
       " 'One, two—  (One, two, three, four!)',\n",
       " '',\n",
       " '',\n",
       " 'Let me tell you how it will be',\n",
       " \"There's one for you, nineteen for me\",\n",
       " \"Cause I'm the taxman\",\n",
       " \"Yeah, I'm the taxman\",\n",
       " '',\n",
       " '',\n",
       " 'Should five percent appear too small',\n",
       " \"Be thankful, I don't take it all\",\n",
       " \"Cause I'm the taxman\",\n",
       " \"Yeah, I'm the taxman\",\n",
       " '',\n",
       " \"(If you drive a car, car) I'll tax the street\",\n",
       " \"(If you try to sit, sit) I'll tax your seat\",\n",
       " \"(If you get too cold, cold) I'll tax the heat\",\n",
       " \"(If you take a walk, walk) I'll tax your feet\",\n",
       " 'Taxman',\n",
       " '',\n",
       " '',\n",
       " '',\n",
       " '',\n",
       " \"Cause I'm the taxman\",\n",
       " \"Yeah, I'm the taxman\",\n",
       " '',\n",
       " '',\n",
       " \"Don't ask me what I want it for\",\n",
       " '(Haha, Mr. Wilson)',\n",
       " \"If you don't want to pay some more\",\n",
       " '(Haha, Mr. Heath)',\n",
       " \"Cause I'm the taxman\",\n",
       " \"Yeah, I'm the taxman\",\n",
       " '',\n",
       " '',\n",
       " 'Now my advice for those who die',\n",
       " '(Taxman!)',\n",
       " 'Declare the pennies on your eyes',\n",
       " '(Taxman!)',\n",
       " \"Cause I'm the taxman\",\n",
       " \"Yeah, I'm the taxman\",\n",
       " 'You might also like',\n",
       " \"And you're working for no one but me (Taxman!)10Embed\"]"
      ]
     },
     "execution_count": 14,
     "metadata": {},
     "output_type": "execute_result"
    }
   ],
   "source": [
    "# what else? well, let's get rid of the 'Taxman Lyrics' at the beginning\n",
    "# we see it's followed by a new line (\\n), so we can split on that character\n",
    "# this has the added benefit of removing all of the new line characters (\\n)\n",
    "re.sub('(\\[.*\\])','',taxman).split('\\n')[1:]"
   ]
  },
  {
   "cell_type": "code",
   "execution_count": 12,
   "id": "325ad94f",
   "metadata": {},
   "outputs": [
    {
     "data": {
      "text/plain": [
       "\"One, two, three, four One, two—  (One, two, three, four!)   Let me tell you how it will be There's one for you, nineteen for me Cause I'm the taxman Yeah, I'm the taxman   Should five percent appear too small Be thankful, I don't take it all Cause I'm the taxman Yeah, I'm the taxman  (If you drive a car, car) I'll tax the street (If you try to sit, sit) I'll tax your seat (If you get too cold, cold) I'll tax the heat (If you take a walk, walk) I'll tax your feet Taxman     Cause I'm the taxman Yeah, I'm the taxman   Don't ask me what I want it for (Haha, Mr. Wilson) If you don't want to pay some more (Haha, Mr. Heath) Cause I'm the taxman Yeah, I'm the taxman   Now my advice for those who die (Taxman!) Declare the pennies on your eyes (Taxman!) Cause I'm the taxman Yeah, I'm the taxman You might also like And you're working for no one but me (Taxman!)10Embed\""
      ]
     },
     "execution_count": 12,
     "metadata": {},
     "output_type": "execute_result"
    }
   ],
   "source": [
    "# turn the list back into a string\n",
    "taxman_clean = ' '.join(re.sub('(\\[.*\\])','',taxman).split('\\n')[1:])\n",
    "taxman_clean"
   ]
  },
  {
   "cell_type": "code",
   "execution_count": 13,
   "id": "9a9ed461",
   "metadata": {},
   "outputs": [
    {
     "data": {
      "text/plain": [
       "\"One, two, three, four One, two—  (One, two, three, four!)   Let me tell you how it will be There's one for you, nineteen for me Cause I'm the taxman Yeah, I'm the taxman   Should five percent appear too small Be thankful, I don't take it all Cause I'm the taxman Yeah, I'm the taxman  (If you drive a car, car) I'll tax the street (If you try to sit, sit) I'll tax your seat (If you get too cold, cold) I'll tax the heat (If you take a walk, walk) I'll tax your feet Taxman     Cause I'm the taxman Yeah, I'm the taxman   Don't ask me what I want it for (Haha, Mr. Wilson) If you don't want to pay some more (Haha, Mr. Heath) Cause I'm the taxman Yeah, I'm the taxman   Now my advice for those who die (Taxman!) Declare the pennies on your eyes (Taxman!) Cause I'm the taxman Yeah, I'm the taxman You might also like And you're working for no one but me (Taxman!)\""
      ]
     },
     "execution_count": 13,
     "metadata": {},
     "output_type": "execute_result"
    }
   ],
   "source": [
    "# the last thing is the weird '10Embed' thing\n",
    "# let's make a new regular expression for that\n",
    "re.sub('\\d+Embed','',taxman_clean) # \\d means any digit, + means any amount of times"
   ]
  },
  {
   "cell_type": "code",
   "execution_count": 14,
   "id": "7b4caab0",
   "metadata": {},
   "outputs": [
    {
     "data": {
      "text/plain": [
       "\"One, two, three, four One, two—  (One, two, three, four!)   Let me tell you how it will be There's one for you, nineteen for me Cause I'm the taxman Yeah, I'm the taxman   Should five percent appear too small Be thankful, I don't take it all Cause I'm the taxman Yeah, I'm the taxman  (If you drive a car, car) I'll tax the street (If you try to sit, sit) I'll tax your seat (If you get too cold, cold) I'll tax the heat (If you take a walk, walk) I'll tax your feet Taxman     Cause I'm the taxman Yeah, I'm the taxman   Don't ask me what I want it for (Haha, Mr. Wilson) If you don't want to pay some more (Haha, Mr. Heath) Cause I'm the taxman Yeah, I'm the taxman   Now my advice for those who die (Taxman!) Declare the pennies on your eyes (Taxman!) Cause I'm the taxman Yeah, I'm the taxman You might also like And you're working for no one but me (Taxman!)\""
      ]
     },
     "execution_count": 14,
     "metadata": {},
     "output_type": "execute_result"
    }
   ],
   "source": [
    "taxman_clean = re.sub('\\d+Embed','',taxman_clean)\n",
    "taxman_clean"
   ]
  },
  {
   "cell_type": "code",
   "execution_count": 15,
   "id": "579a524c",
   "metadata": {},
   "outputs": [],
   "source": [
    "# now turn it into a function so we can try it out on other songs\n",
    "def clean_lyrics(lyrics):\n",
    "    clean = re.sub('(\\[.*\\])','',lyrics).split('\\n')[1:]\n",
    "    clean = ' '.join(clean)\n",
    "    clean = re.sub('\\d+Embed','',clean)\n",
    "    return clean.strip() # strip takes out any leading or ending spaces"
   ]
  },
  {
   "cell_type": "code",
   "execution_count": 16,
   "id": "9c9a1d99",
   "metadata": {},
   "outputs": [
    {
     "data": {
      "text/plain": [
       "\"Ah, look at all the lonely people! Ah, look at all the lonely people!  Eleanor Rigby Picks up the rice in the church where a wedding has been Lives in a dream Waits at the window Wearing the face that she keeps in a jar by the door Who is it for?  All the lonely people Where do they all come from? All the lonely people Where do they all belong?  Father McKenzie Writing the words of a sermon that no one will hear No one comes near Look at him working Darning his socks in the night when there's nobody there What does he care?   All the lonely people Where do they all come from? All the lonely people Where do they all belong?   Ah, look at all the lonely people! Ah, look at all the lonely people!  Eleanor Rigby Died in the church and was buried along with her name Nobody came Father McKenzie Wiping the dirt from his hands as he walks from the grave No one was saved You might also like All the lonely people (Ah, look at all the lonely people!) Where do they all come from? All the lonely people (Ah, look at all the lonely people!) Where do they all belong?\""
      ]
     },
     "execution_count": 16,
     "metadata": {},
     "output_type": "execute_result"
    }
   ],
   "source": [
    "# works for Eleanor Rigby!\n",
    "clean_lyrics(revolver.lyrics[1])"
   ]
  },
  {
   "cell_type": "markdown",
   "id": "11c997f7",
   "metadata": {},
   "source": [
    "In fact, this function will work for all of the songs in our `DataFrame`. And this is a very common pattern to confront in data cleaning: you'll have a column of unclean text and a function that will clean it. Thankfully, `pandas` gives us a method, called `apply`, that will apply this `clean_lyrics` function to every row in our `lyrics` column."
   ]
  },
  {
   "cell_type": "code",
   "execution_count": 20,
   "id": "f05153b0",
   "metadata": {},
   "outputs": [
    {
     "data": {
      "text/plain": [
       "0     One, two, three, four One, two—  (One, two, th...\n",
       "1     Ah, look at all the lonely people! Ah, look at...\n",
       "2     When I wake up early in the morning Lift my he...\n",
       "3     Each day just goes so fast I turn around, it's...\n",
       "4     To lead a better life, I need my love to be he...\n",
       "5     In the town where I was born Lived a man who s...\n",
       "6     She said, \"I know what it's like to be dead I ...\n",
       "7     Good day sunshine Good day sunshine Good day s...\n",
       "8     You tell me that you've got everything you wan...\n",
       "9     Your day breaks, your mind aches You find that...\n",
       "10    Ring my friend, I said you'd call Doctor Rober...\n",
       "11    I want to tell you My head is filled with thin...\n",
       "12    I was alone, I took a ride I didn't know what ...\n",
       "13    Turn off your mind, relax and float downstream...\n",
       "Name: lyrics, dtype: object"
      ]
     },
     "execution_count": 20,
     "metadata": {},
     "output_type": "execute_result"
    }
   ],
   "source": [
    "revolver.lyrics.apply(clean_lyrics) # apply takes a function as an argument"
   ]
  },
  {
   "cell_type": "code",
   "execution_count": 23,
   "id": "3fdc58cf",
   "metadata": {},
   "outputs": [
    {
     "data": {
      "text/plain": [
       "\"When I wake up early in the morning Lift my head, I'm still yawning When I'm in the middle of a dream Stay in bed, float up stream (Float up stream)   Please, don't wake me, no, don't shake me Leave me where I am, I'm only sleeping   Everybody seems to think I'm lazy I don't mind, I think they're crazy Running everywhere at such a speed Till they find there's no need (There's no need)  Please, don't spoil my day, I'm miles away And after all, I'm only sleeping     Keeping an eye on the world going by my window Taking my time   Lying there and staring at the ceiling Waiting for a sleepy feeling    Please, don't spoil my day, I'm miles away And after all, I'm only sleeping   Yawn, Paul! *Yawns*   Keeping an eye on the world going by my window Taking my time You might also like When I wake up early in the morning Lift my head, I'm still yawning When I'm in the middle of a dream Stay in bed, float up stream (Float up stream)   Please, don't wake me, no, don't shake me Leave me where I am, I'm only sleeping\""
      ]
     },
     "execution_count": 23,
     "metadata": {},
     "output_type": "execute_result"
    }
   ],
   "source": [
    "revolver.lyrics.apply(clean_lyrics)[2]\n",
    "# etc..."
   ]
  },
  {
   "cell_type": "code",
   "execution_count": 24,
   "id": "96ce58c8",
   "metadata": {},
   "outputs": [],
   "source": [
    "# you can overwrite a column in a DataFrame the same way you would for a variable\n",
    "revolver['lyrics'] = revolver['lyrics'].apply(clean_lyrics)"
   ]
  },
  {
   "cell_type": "code",
   "execution_count": 25,
   "id": "2d9a2a64",
   "metadata": {},
   "outputs": [
    {
     "data": {
      "text/html": [
       "<div>\n",
       "<style scoped>\n",
       "    .dataframe tbody tr th:only-of-type {\n",
       "        vertical-align: middle;\n",
       "    }\n",
       "\n",
       "    .dataframe tbody tr th {\n",
       "        vertical-align: top;\n",
       "    }\n",
       "\n",
       "    .dataframe thead th {\n",
       "        text-align: right;\n",
       "    }\n",
       "</style>\n",
       "<table border=\"1\" class=\"dataframe\">\n",
       "  <thead>\n",
       "    <tr style=\"text-align: right;\">\n",
       "      <th></th>\n",
       "      <th>song_title</th>\n",
       "      <th>lyrics</th>\n",
       "    </tr>\n",
       "  </thead>\n",
       "  <tbody>\n",
       "    <tr>\n",
       "      <th>0</th>\n",
       "      <td>Taxman</td>\n",
       "      <td>One, two, three, four One, two—  (One, two, th...</td>\n",
       "    </tr>\n",
       "    <tr>\n",
       "      <th>1</th>\n",
       "      <td>Eleanor Rig</td>\n",
       "      <td>Ah, look at all the lonely people! Ah, look at...</td>\n",
       "    </tr>\n",
       "    <tr>\n",
       "      <th>2</th>\n",
       "      <td>I'm Only Sleeping</td>\n",
       "      <td>When I wake up early in the morning Lift my he...</td>\n",
       "    </tr>\n",
       "    <tr>\n",
       "      <th>3</th>\n",
       "      <td>Love You To</td>\n",
       "      <td>Each day just goes so fast I turn around, it's...</td>\n",
       "    </tr>\n",
       "    <tr>\n",
       "      <th>4</th>\n",
       "      <td>Here, There and Everywhere</td>\n",
       "      <td>To lead a better life, I need my love to be he...</td>\n",
       "    </tr>\n",
       "    <tr>\n",
       "      <th>5</th>\n",
       "      <td>Yellow Submarine</td>\n",
       "      <td>In the town where I was born Lived a man who s...</td>\n",
       "    </tr>\n",
       "    <tr>\n",
       "      <th>6</th>\n",
       "      <td>She Said She Said</td>\n",
       "      <td>She said, \"I know what it's like to be dead I ...</td>\n",
       "    </tr>\n",
       "    <tr>\n",
       "      <th>7</th>\n",
       "      <td>Good Day Sunshine</td>\n",
       "      <td>Good day sunshine Good day sunshine Good day s...</td>\n",
       "    </tr>\n",
       "    <tr>\n",
       "      <th>8</th>\n",
       "      <td>And Your Bird Can Sing</td>\n",
       "      <td>You tell me that you've got everything you wan...</td>\n",
       "    </tr>\n",
       "    <tr>\n",
       "      <th>9</th>\n",
       "      <td>For No One</td>\n",
       "      <td>Your day breaks, your mind aches You find that...</td>\n",
       "    </tr>\n",
       "    <tr>\n",
       "      <th>10</th>\n",
       "      <td>Doctor Robert</td>\n",
       "      <td>Ring my friend, I said you'd call Doctor Rober...</td>\n",
       "    </tr>\n",
       "    <tr>\n",
       "      <th>11</th>\n",
       "      <td>I Want to Tell You</td>\n",
       "      <td>I want to tell you My head is filled with thin...</td>\n",
       "    </tr>\n",
       "    <tr>\n",
       "      <th>12</th>\n",
       "      <td>Got to Get You into My Life</td>\n",
       "      <td>I was alone, I took a ride I didn't know what ...</td>\n",
       "    </tr>\n",
       "    <tr>\n",
       "      <th>13</th>\n",
       "      <td>Tomorrow Never Knows</td>\n",
       "      <td>Turn off your mind, relax and float downstream...</td>\n",
       "    </tr>\n",
       "  </tbody>\n",
       "</table>\n",
       "</div>"
      ],
      "text/plain": [
       "                     song_title  \\\n",
       "0                        Taxman   \n",
       "1                   Eleanor Rig   \n",
       "2             I'm Only Sleeping   \n",
       "3                   Love You To   \n",
       "4    Here, There and Everywhere   \n",
       "5              Yellow Submarine   \n",
       "6             She Said She Said   \n",
       "7             Good Day Sunshine   \n",
       "8        And Your Bird Can Sing   \n",
       "9                    For No One   \n",
       "10                Doctor Robert   \n",
       "11           I Want to Tell You   \n",
       "12  Got to Get You into My Life   \n",
       "13         Tomorrow Never Knows   \n",
       "\n",
       "                                               lyrics  \n",
       "0   One, two, three, four One, two—  (One, two, th...  \n",
       "1   Ah, look at all the lonely people! Ah, look at...  \n",
       "2   When I wake up early in the morning Lift my he...  \n",
       "3   Each day just goes so fast I turn around, it's...  \n",
       "4   To lead a better life, I need my love to be he...  \n",
       "5   In the town where I was born Lived a man who s...  \n",
       "6   She said, \"I know what it's like to be dead I ...  \n",
       "7   Good day sunshine Good day sunshine Good day s...  \n",
       "8   You tell me that you've got everything you wan...  \n",
       "9   Your day breaks, your mind aches You find that...  \n",
       "10  Ring my friend, I said you'd call Doctor Rober...  \n",
       "11  I want to tell you My head is filled with thin...  \n",
       "12  I was alone, I took a ride I didn't know what ...  \n",
       "13  Turn off your mind, relax and float downstream...  "
      ]
     },
     "execution_count": 25,
     "metadata": {},
     "output_type": "execute_result"
    }
   ],
   "source": [
    "# our (mostly) clean DataFrame\n",
    "revolver"
   ]
  },
  {
   "cell_type": "markdown",
   "id": "0767d3ae",
   "metadata": {},
   "source": [
    "You may have to do more cleaning for your own project. How much or how little we clean is based on what we want to do with the text after it is clean. In the next few classes, we'll learn some advanced techniques in NLP, all of which require a clean text as an input. This walkthrough should get you started on the fundementals, but if you have any questions, specific or general, let me know!\n",
    "\n",
    "Learn more about `pandas`: https://pandas.pydata.org/docs/user_guide/index.html#user-guide\n",
    "\n",
    "Learn more about `re`: https://docs.python.org/3/library/re.html, https://www.rexegg.com/regex-quickstart.html"
   ]
  }
 ],
 "metadata": {
  "kernelspec": {
   "display_name": "Python 3 (ipykernel)",
   "language": "python",
   "name": "python3"
  },
  "language_info": {
   "codemirror_mode": {
    "name": "ipython",
    "version": 3
   },
   "file_extension": ".py",
   "mimetype": "text/x-python",
   "name": "python",
   "nbconvert_exporter": "python",
   "pygments_lexer": "ipython3",
   "version": "3.9.12"
  }
 },
 "nbformat": 4,
 "nbformat_minor": 5
}
