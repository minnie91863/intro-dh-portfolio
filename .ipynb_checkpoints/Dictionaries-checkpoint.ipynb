{
 "cells": [
  {
   "cell_type": "code",
   "execution_count": 1,
   "id": "6fd35e71",
   "metadata": {},
   "outputs": [],
   "source": [
    "# simple example"
   ]
  },
  {
   "cell_type": "code",
   "execution_count": 2,
   "id": "c6dd7abd",
   "metadata": {},
   "outputs": [],
   "source": [
    "Butler = {'genre': 'science fiction', 'award': 'hugo'}"
   ]
  },
  {
   "cell_type": "code",
   "execution_count": 3,
   "id": "6be291ce",
   "metadata": {},
   "outputs": [
    {
     "name": "stdout",
     "output_type": "stream",
     "text": [
      "science fiction\n"
     ]
    }
   ],
   "source": [
    "print(Butler['genre'])"
   ]
  },
  {
   "cell_type": "code",
   "execution_count": 6,
   "id": "85fa746a",
   "metadata": {},
   "outputs": [
    {
     "name": "stdout",
     "output_type": "stream",
     "text": [
      "hugo\n"
     ]
    }
   ],
   "source": [
    "print(Butler['award'])"
   ]
  },
  {
   "cell_type": "code",
   "execution_count": 7,
   "id": "fe24602a",
   "metadata": {},
   "outputs": [],
   "source": [
    "Butler['birth_year'] = 1947"
   ]
  },
  {
   "cell_type": "code",
   "execution_count": 8,
   "id": "233a989c",
   "metadata": {},
   "outputs": [
    {
     "data": {
      "text/plain": [
       "{'genre': 'science fiction', 'award': 'hugo', 'birth_year': 1947}"
      ]
     },
     "execution_count": 8,
     "metadata": {},
     "output_type": "execute_result"
    }
   ],
   "source": [
    "Butler"
   ]
  },
  {
   "cell_type": "code",
   "execution_count": 9,
   "id": "5e0491d0",
   "metadata": {},
   "outputs": [],
   "source": [
    "Robinson = {}"
   ]
  },
  {
   "cell_type": "code",
   "execution_count": 14,
   "id": "5a810b3d",
   "metadata": {},
   "outputs": [],
   "source": [
    "Robinson['genre'] = 'science fiction'\n",
    "Robinson['award'] = 'hugo'\n",
    "Robinson['birth_year'] = 1952"
   ]
  },
  {
   "cell_type": "code",
   "execution_count": 15,
   "id": "290621ab",
   "metadata": {},
   "outputs": [
    {
     "data": {
      "text/plain": [
       "{'genre': 'science fiction', 'award': 'hugo', 'birth_year': 1952}"
      ]
     },
     "execution_count": 15,
     "metadata": {},
     "output_type": "execute_result"
    }
   ],
   "source": [
    "Robinson"
   ]
  },
  {
   "cell_type": "code",
   "execution_count": 16,
   "id": "e067d5b9",
   "metadata": {},
   "outputs": [
    {
     "name": "stdout",
     "output_type": "stream",
     "text": [
      "key: genre\n",
      "value: science fiction\n",
      "key: award\n",
      "value: hugo\n",
      "key: birth_year\n",
      "value: 1952\n"
     ]
    }
   ],
   "source": [
    "for key, value in Robinson.items():\n",
    "    print(f\"key: {key}\")\n",
    "    print(f\"value: {value}\")"
   ]
  },
  {
   "cell_type": "code",
   "execution_count": 17,
   "id": "6895c0c3",
   "metadata": {},
   "outputs": [
    {
     "name": "stdout",
     "output_type": "stream",
     "text": [
      "genre\n",
      "award\n",
      "birth_year\n"
     ]
    }
   ],
   "source": [
    "for key in Robinson.keys():\n",
    "    print(key)"
   ]
  },
  {
   "cell_type": "code",
   "execution_count": null,
   "id": "994eccd7",
   "metadata": {},
   "outputs": [],
   "source": []
  },
  {
   "cell_type": "code",
   "execution_count": 19,
   "id": "e906fc91",
   "metadata": {},
   "outputs": [
    {
     "name": "stdout",
     "output_type": "stream",
     "text": [
      "science fiction\n",
      "hugo\n",
      "1952\n"
     ]
    }
   ],
   "source": [
    "for  value in Robinson.values():\n",
    "    print(value)"
   ]
  },
  {
   "cell_type": "code",
   "execution_count": 20,
   "id": "0b1962c1",
   "metadata": {},
   "outputs": [],
   "source": [
    "sf_authors  = [Butler, Robinson]"
   ]
  },
  {
   "cell_type": "code",
   "execution_count": 21,
   "id": "e0975106",
   "metadata": {},
   "outputs": [
    {
     "data": {
      "text/plain": [
       "[{'genre': 'science fiction', 'award': 'hugo', 'birth_year': 1947},\n",
       " {'genre': 'science fiction', 'award': 'hugo', 'birth_year': 1952}]"
      ]
     },
     "execution_count": 21,
     "metadata": {},
     "output_type": "execute_result"
    }
   ],
   "source": [
    "sf_authors"
   ]
  },
  {
   "cell_type": "code",
   "execution_count": 23,
   "id": "93c44e6c",
   "metadata": {},
   "outputs": [
    {
     "data": {
      "text/plain": [
       "{'genre': 'science fiction', 'award': 'hugo', 'birth_year': 1947}"
      ]
     },
     "execution_count": 23,
     "metadata": {},
     "output_type": "execute_result"
    }
   ],
   "source": [
    "sf_authors[0]"
   ]
  },
  {
   "cell_type": "code",
   "execution_count": 26,
   "id": "1f2bcc7f",
   "metadata": {},
   "outputs": [
    {
     "name": "stdout",
     "output_type": "stream",
     "text": [
      "1947\n"
     ]
    }
   ],
   "source": [
    "Butler_born = sf_authors[0]['birth_year']\n",
    "print(Butler_born)"
   ]
  },
  {
   "cell_type": "code",
   "execution_count": null,
   "id": "1c6e9f0a",
   "metadata": {},
   "outputs": [],
   "source": []
  }
 ],
 "metadata": {
  "kernelspec": {
   "display_name": "Python 3 (ipykernel)",
   "language": "python",
   "name": "python3"
  },
  "language_info": {
   "codemirror_mode": {
    "name": "ipython",
    "version": 3
   },
   "file_extension": ".py",
   "mimetype": "text/x-python",
   "name": "python",
   "nbconvert_exporter": "python",
   "pygments_lexer": "ipython3",
   "version": "3.9.12"
  }
 },
 "nbformat": 4,
 "nbformat_minor": 5
}
