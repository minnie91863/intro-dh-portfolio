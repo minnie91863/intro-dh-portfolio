{
 "cells": [
  {
   "cell_type": "markdown",
   "id": "98d521a1",
   "metadata": {},
   "source": [
    "## Linked Jazz"
   ]
  },
  {
   "cell_type": "markdown",
   "id": "0d564541",
   "metadata": {},
   "source": [
    "### Source"
   ]
  },
  {
   "cell_type": "markdown",
   "id": "a215b141",
   "metadata": {},
   "source": [
    "[https://linkedjazz.org/](https://linkedjazz.org/)"
   ]
  },
  {
   "cell_type": "markdown",
   "id": "e27ece1d",
   "metadata": {},
   "source": [
    "### Evaluation"
   ]
  },
  {
   "cell_type": "markdown",
   "id": "68a8a7f0",
   "metadata": {},
   "source": [
    "LinkedJazz is a website that aims to provide a comprehensive and interconnected resource for researchers, educators, and enthusiasts of jazz music. Linked Jazz is directed by Prof. Cristina Pattuelli from the Pratt Institute School of Library Information Science. The project is backed and supported by a multitude of institutions, including the Semantic Lab at Pratt, Rutgers Institute for Jazz Studies Archives, Smithsonian Jazz Oral Histories, the Hamilton College Jazz archive, and many other universities such as UCLA and UMich to name a few.\n",
    "\n",
    "One of the standout features of LinkedJazz is its extensive database of jazz musicians, recordings, and events. The database is searchable by various criteria, such as musician name, instrument, and record label, with detailed information about each artist and recording. The database also includes links to external sources, such as Wikipedia and AllMusic, which provides additional information and context. A key benefit of this resource is the ability to quickly discern connections and trends between different jazz artists and musicians. This removes the need to research the correlations between musicians individually and allows for an immediate distant read.  \n",
    "\n",
    "\n"
   ]
  },
  {
   "cell_type": "markdown",
   "id": "6f1b92be",
   "metadata": {},
   "source": [
    "Another useful feature of the website is its collection of jazz ontologies. These ontologies provide a consistent and standardized way of representing information about jazz, which makes it easier to search and analyze the data. The visual animations and links between each musician creates a fun and engaging website experience. All the information about each artist is largely intuitive, with a helpful menu at the top that offers some pre-set visualizations of the data. The strongest tool, in my opinion, is the “Dynamic” option, that lets the user construct their own map by selecting which musicians to showcase. Links are then automatically displayed between the selected artists.\n",
    "\n"
   ]
  },
  {
   "cell_type": "markdown",
   "id": "6aac161d",
   "metadata": {},
   "source": [
    "This website helps to more easily answer questions regarding musicians’ relations to one another, particularly in their work. A visualization tool such as this allows for an easy distant reading of jazz music history. It can also prompt new questions that may not be immediately evident without this tool--questions regarding culture, identity, gender, and diaspora. \n",
    "\n",
    "The only improvement I see with this website is if it’s possible to optimize the network visualization. When I opened the visualization on my laptop, the website ran a bit slowly with all the animations. The resource may be more accessible if there were a way to turn off the unnecessary, although enjoyable, animations. \n",
    "\n",
    "Overall, LinkedJazz is a valuable resource for anyone interested in learning about notable jazz musicians and other related individuals and their complex history. Its extensive database and structured ontologies make it an indispensable tool for researchers, and its user-friendly design makes it accessible to a wider audience."
   ]
  },
  {
   "cell_type": "code",
   "execution_count": null,
   "id": "3e5b2aa1",
   "metadata": {},
   "outputs": [],
   "source": []
  }
 ],
 "metadata": {
  "kernelspec": {
   "display_name": "Python 3 (ipykernel)",
   "language": "python",
   "name": "python3"
  },
  "language_info": {
   "codemirror_mode": {
    "name": "ipython",
    "version": 3
   },
   "file_extension": ".py",
   "mimetype": "text/x-python",
   "name": "python",
   "nbconvert_exporter": "python",
   "pygments_lexer": "ipython3",
   "version": "3.9.13"
  }
 },
 "nbformat": 4,
 "nbformat_minor": 5
}
