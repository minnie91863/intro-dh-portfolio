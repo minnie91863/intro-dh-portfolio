{
 "cells": [
  {
   "cell_type": "markdown",
   "metadata": {},
   "source": [
    "# In-Class Challenge\n",
    "Remove \"stop words\" from the text below. Stop words are words like definite articles, prepositions, demonstrative pronouns, etc. Your final result should be a string without any stop words.\n",
    "\n",
    "Hint: you will need to figure out how to convert a list to a string."
   ]
  },
  {
   "cell_type": "code",
<<<<<<< HEAD
   "execution_count": 1,
=======
   "execution_count": null,
>>>>>>> 9728c59c0d8ca2866129ea4fb8db0344b2099ed3
   "metadata": {},
   "outputs": [],
   "source": [
    "text = \"In the second century of the Christian era, the empire of Rome comprehended the fairest part of the earth, and the most civilised portion of mankind. The frontiers of that extensive monarchy were guarded by ancient renown and disciplined valour. The gentle, but powerful, influence of laws and manners had gradually cemented the union of the provinces.\""
   ]
<<<<<<< HEAD
  },
  {
   "cell_type": "code",
   "execution_count": 6,
   "metadata": {},
   "outputs": [],
   "source": [
    "# list of stops\n",
    "stops = ['the', 'and', 'of', 'at', 'in', 'but', 'by', 'that', 'had']"
   ]
  },
  {
   "cell_type": "code",
   "execution_count": 7,
   "metadata": {},
   "outputs": [],
   "source": [
    "# tokenize the text\n",
    "tokenized_text = text.split(\" \")"
   ]
  },
  {
   "cell_type": "code",
   "execution_count": 8,
   "metadata": {},
   "outputs": [
    {
     "data": {
      "text/plain": [
       "['In',\n",
       " 'the',\n",
       " 'second',\n",
       " 'century',\n",
       " 'of',\n",
       " 'the',\n",
       " 'Christian',\n",
       " 'era,',\n",
       " 'the',\n",
       " 'empire',\n",
       " 'of',\n",
       " 'Rome',\n",
       " 'comprehended',\n",
       " 'the',\n",
       " 'fairest',\n",
       " 'part',\n",
       " 'of',\n",
       " 'the',\n",
       " 'earth,',\n",
       " 'and',\n",
       " 'the',\n",
       " 'most',\n",
       " 'civilised',\n",
       " 'portion',\n",
       " 'of',\n",
       " 'mankind.',\n",
       " 'The',\n",
       " 'frontiers',\n",
       " 'of',\n",
       " 'that',\n",
       " 'extensive',\n",
       " 'monarchy',\n",
       " 'were',\n",
       " 'guarded',\n",
       " 'by',\n",
       " 'ancient',\n",
       " 'renown',\n",
       " 'and',\n",
       " 'disciplined',\n",
       " 'valour.',\n",
       " 'The',\n",
       " 'gentle,',\n",
       " 'but',\n",
       " 'powerful,',\n",
       " 'influence',\n",
       " 'of',\n",
       " 'laws',\n",
       " 'and',\n",
       " 'manners',\n",
       " 'had',\n",
       " 'gradually',\n",
       " 'cemented',\n",
       " 'the',\n",
       " 'union',\n",
       " 'of',\n",
       " 'the',\n",
       " 'provinces.']"
      ]
     },
     "execution_count": 8,
     "metadata": {},
     "output_type": "execute_result"
    }
   ],
   "source": [
    "tokenized_text"
   ]
  },
  {
   "cell_type": "code",
   "execution_count": 13,
   "metadata": {},
   "outputs": [],
   "source": [
    "# remove stops\n",
    "for token in tokenized_text:\n",
    "    if token or token.title() in stops:\n",
    "        tokenized_text.remove(token)"
   ]
  },
  {
   "cell_type": "code",
   "execution_count": 14,
   "metadata": {},
   "outputs": [
    {
     "data": {
      "text/plain": [
       "['second',\n",
       " 'Christian',\n",
       " 'empire',\n",
       " 'comprehended',\n",
       " 'part',\n",
       " 'earth,',\n",
       " 'most',\n",
       " 'portion',\n",
       " 'that',\n",
       " 'monarchy',\n",
       " 'guarded',\n",
       " 'renown',\n",
       " 'valour.',\n",
       " 'The',\n",
       " 'gentle,',\n",
       " 'influence',\n",
       " 'manners',\n",
       " 'cemented',\n",
       " 'union',\n",
       " 'provinces.']"
      ]
     },
     "execution_count": 14,
     "metadata": {},
     "output_type": "execute_result"
    }
   ],
   "source": [
    "tokenized_text"
   ]
  },
  {
   "cell_type": "code",
   "execution_count": 15,
   "metadata": {},
   "outputs": [],
   "source": [
    "# put back into string\n",
    "result = \" \".join(tokenized_text)"
   ]
  },
  {
   "cell_type": "code",
   "execution_count": 16,
   "metadata": {},
   "outputs": [
    {
     "data": {
      "text/plain": [
       "'second Christian empire comprehended part earth, most portion that monarchy guarded renown valour. The gentle, influence manners cemented union provinces.'"
      ]
     },
     "execution_count": 16,
     "metadata": {},
     "output_type": "execute_result"
    }
   ],
   "source": [
    "result"
   ]
  },
  {
   "cell_type": "code",
   "execution_count": 18,
   "metadata": {},
   "outputs": [],
   "source": [
    "#new list approach\n",
    "tokens_no_stops = []\n",
    "for token in tokenized_text:\n",
    "    if token.lower() not in stops:\n",
    "        tokens_no_stops.append(token)"
   ]
  },
  {
   "cell_type": "code",
   "execution_count": 19,
   "metadata": {},
   "outputs": [],
   "source": [
    "result = \" \". join(tokens_no_stops)\n"
   ]
  },
  {
   "cell_type": "code",
   "execution_count": 20,
   "metadata": {},
   "outputs": [
    {
     "data": {
      "text/plain": [
       "'second Christian empire comprehended part earth, most portion monarchy guarded renown valour. gentle, influence manners cemented union provinces.'"
      ]
     },
     "execution_count": 20,
     "metadata": {},
     "output_type": "execute_result"
    }
   ],
   "source": [
    "result\n"
   ]
  },
  {
   "cell_type": "code",
   "execution_count": null,
   "metadata": {},
   "outputs": [],
   "source": []
=======
>>>>>>> 9728c59c0d8ca2866129ea4fb8db0344b2099ed3
  }
 ],
 "metadata": {
  "kernelspec": {
   "display_name": "Python 3 (ipykernel)",
   "language": "python",
   "name": "python3"
  },
  "language_info": {
   "codemirror_mode": {
    "name": "ipython",
    "version": 3
   },
   "file_extension": ".py",
   "mimetype": "text/x-python",
   "name": "python",
   "nbconvert_exporter": "python",
   "pygments_lexer": "ipython3",
<<<<<<< HEAD
   "version": "3.9.12"
=======
   "version": "3.8.5"
>>>>>>> 9728c59c0d8ca2866129ea4fb8db0344b2099ed3
  }
 },
 "nbformat": 4,
 "nbformat_minor": 4
}
