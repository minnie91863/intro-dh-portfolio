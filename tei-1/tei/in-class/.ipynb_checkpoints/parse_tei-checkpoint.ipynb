{
 "cells": [
  {
   "cell_type": "markdown",
   "id": "b279cff9",
   "metadata": {},
   "source": [
    "# Parsing a TEI Document"
   ]
  },
  {
   "cell_type": "markdown",
   "id": "4863b54d",
   "metadata": {},
   "source": [
    "## Brief Introduction to TEI"
   ]
  },
  {
   "cell_type": "markdown",
   "id": "681154a5",
   "metadata": {},
   "source": [
    "The Text Encoding Initiative (TEI) is both a standard for encoding texts to be machine actionable and an organization that oversees the TEI standards. \n",
    "\n",
    "As standard, TEI provides a uniform way for humanities scholars to encode literary and documentary texts in a uniform way allowing them to be machine actionable for display, searching, or processing. TEI is a set of tags that piggy-back on basic XML.\n",
    "\n",
    "To learn more, please see the following:\n",
    "* [Text Encoding Initiative Home Page](https://tei-c.org/)\n",
    "* [What is the TEI from the Women Writers Project](https://www.wwp.northeastern.edu/outreach/seminars/tei.html)\n",
    "* [TEI By Example Project](https://teibyexample.org/)\n",
    "* [Introduction to XML](https://www.w3schools.com/xml/xml_whatis.asp)\n"
   ]
  },
  {
   "cell_type": "markdown",
   "id": "8b63af3b",
   "metadata": {},
   "source": [
    "## Parsing TEI"
   ]
  },
  {
   "cell_type": "code",
   "execution_count": null,
   "id": "e1763d24",
   "metadata": {},
   "outputs": [],
   "source": [
    "# imports\n"
   ]
  },
  {
   "cell_type": "code",
   "execution_count": null,
   "id": "6c5ad335",
   "metadata": {},
   "outputs": [],
   "source": [
    "# load xml file\n"
   ]
  },
  {
   "cell_type": "code",
   "execution_count": null,
   "id": "c6d44348",
   "metadata": {},
   "outputs": [],
   "source": [
    "# use BeatifulSoup to instntiate tei object\n"
   ]
  },
  {
   "cell_type": "code",
   "execution_count": null,
   "id": "d47eb421",
   "metadata": {},
   "outputs": [],
   "source": [
    "# find all margin notes\n"
   ]
  },
  {
   "cell_type": "code",
   "execution_count": null,
   "id": "80dd9118",
   "metadata": {},
   "outputs": [],
   "source": [
    "# clean margin notes and add to a list\n"
   ]
  },
  {
   "cell_type": "code",
   "execution_count": null,
   "id": "a27fe407",
   "metadata": {},
   "outputs": [],
   "source": [
    "# convert list to dataframe\n"
   ]
  },
  {
   "cell_type": "code",
   "execution_count": null,
   "id": "264eada3",
   "metadata": {},
   "outputs": [],
   "source": [
    "# check dataframe\n"
   ]
  },
  {
   "cell_type": "code",
   "execution_count": null,
   "id": "0343fcbc",
   "metadata": {},
   "outputs": [],
   "source": [
    "# save datafram as csv\n"
   ]
  }
 ],
 "metadata": {
  "kernelspec": {
   "display_name": "Python 3 (ipykernel)",
   "language": "python",
   "name": "python3"
  },
  "language_info": {
   "codemirror_mode": {
    "name": "ipython",
    "version": 3
   },
   "file_extension": ".py",
   "mimetype": "text/x-python",
   "name": "python",
   "nbconvert_exporter": "python",
   "pygments_lexer": "ipython3",
   "version": "3.9.13"
  }
 },
 "nbformat": 4,
 "nbformat_minor": 5
}
