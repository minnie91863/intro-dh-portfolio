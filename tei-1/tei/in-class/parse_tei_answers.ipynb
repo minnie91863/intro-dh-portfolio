{
 "cells": [
  {
   "cell_type": "markdown",
   "id": "1cacd9a7",
   "metadata": {},
   "source": [
    "# Parsing a TEI Document"
   ]
  },
  {
   "cell_type": "markdown",
   "id": "10c2a7d1",
   "metadata": {},
   "source": [
    "## Brief Introduction to TEI"
   ]
  },
  {
   "cell_type": "markdown",
   "id": "2dd5d64b",
   "metadata": {},
   "source": [
    "The Text Encoding Initiative (TEI) is both a standard for encoding texts to be machine actionable and an organization that oversees the TEI standards. \n",
    "\n",
    "As standard, TEI provides a uniform way for humanities scholars to encode literary and documentary texts in a uniform way allowing them to be machine actionable for display, searching, or processing. TEI is a set of tags that piggy-back on basic XML.\n",
    "\n",
    "To learn more, please see the following:\n",
    "* [Text Encoding Initiative Home Page](https://tei-c.org/)\n",
    "* [What is the TEI from the Women Writers Project](https://www.wwp.northeastern.edu/outreach/seminars/tei.html)\n",
    "* [TEI By Example Project](https://teibyexample.org/)\n",
    "* [Introduction to XML](https://www.w3schools.com/xml/xml_whatis.asp)\n"
   ]
  },
  {
   "cell_type": "markdown",
   "id": "45520022",
   "metadata": {},
   "source": [
    "## Parsing TEI"
   ]
  },
  {
   "cell_type": "code",
   "execution_count": null,
   "id": "f45b96a5",
   "metadata": {},
   "outputs": [],
   "source": [
    "# imports\n",
    "from bs4 import BeautifulSoup\n",
    "import re\n",
    "import pandas as pd"
   ]
  },
  {
   "cell_type": "code",
   "execution_count": null,
   "id": "b50f1711",
   "metadata": {},
   "outputs": [],
   "source": [
    "# load xml file\n",
    "with open('gibbon.xml', encoding='utf8', mode='r') as f:\n",
    "    tei_string = f.read()"
   ]
  },
  {
   "cell_type": "code",
   "execution_count": null,
   "id": "8f9da4fb",
   "metadata": {},
   "outputs": [],
   "source": [
    "# use BeatifulSoup to instntiate tei object\n",
    "tei_object = BeautifulSoup(tei_string)"
   ]
  },
  {
   "cell_type": "code",
   "execution_count": null,
   "id": "6fcc4e82",
   "metadata": {},
   "outputs": [],
   "source": [
    "# find all margin notes\n",
    "margin_notes = tei_object.find_all('note', attrs={'place': 'margin'})"
   ]
  },
  {
   "cell_type": "code",
   "execution_count": null,
   "id": "a13d7eb9",
   "metadata": {},
   "outputs": [],
   "source": [
    "# clean margin notes and add to a list\n",
    "clean_margin_notes = []\n",
    "for margin_note in margin_notes:\n",
    "    margin_note = re.sub(r'[\\ \\n]{2,}', '', margin_note.text)  # remove excess space\n",
    "    clean_margin_notes.append(margin_note)"
   ]
  },
  {
   "cell_type": "code",
   "execution_count": null,
   "id": "8d71f3db",
   "metadata": {},
   "outputs": [],
   "source": [
    "# convert list to dataframe\n",
    "margin_notes_df = pd.DataFrame(clean_margin_notes)"
   ]
  },
  {
   "cell_type": "code",
   "execution_count": null,
   "id": "9c62cc90",
   "metadata": {},
   "outputs": [],
   "source": [
    "# check dataframe\n",
    "margin_notes_df.head()"
   ]
  },
  {
   "cell_type": "code",
   "execution_count": null,
   "id": "5104dba8",
   "metadata": {},
   "outputs": [],
   "source": [
    "# save datafram as csv\n",
    "margin_notes_df.to_csv('margin_notes.csv')"
   ]
  }
 ],
 "metadata": {
  "kernelspec": {
   "display_name": "Python 3 (ipykernel)",
   "language": "python",
   "name": "python3"
  },
  "language_info": {
   "codemirror_mode": {
    "name": "ipython",
    "version": 3
   },
   "file_extension": ".py",
   "mimetype": "text/x-python",
   "name": "python",
   "nbconvert_exporter": "python",
   "pygments_lexer": "ipython3",
   "version": "3.9.13"
  }
 },
 "nbformat": 4,
 "nbformat_minor": 5
}
