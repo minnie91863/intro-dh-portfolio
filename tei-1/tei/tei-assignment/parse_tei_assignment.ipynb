{
 "cells": [
  {
   "cell_type": "markdown",
   "id": "b279cff9",
   "metadata": {},
   "source": [
    "# Parsing a TEI Document - Assignment"
   ]
  },
  {
   "cell_type": "markdown",
   "id": "4863b54d",
   "metadata": {},
   "source": [
    "## Instructions"
   ]
  },
  {
   "cell_type": "markdown",
   "id": "681154a5",
   "metadata": {},
   "source": [
    "1. Parse the tei text of Gibbon's _Decline and Fall_ as found in `gibbon.xml`.\n",
    "2. Extract all the footnotes and remove extraneous white space.\n",
    "3. Place footnotes in a dataframe.\n",
    "4. Save the dataframe as a csv file."
   ]
  },
  {
   "cell_type": "markdown",
   "id": "8b63af3b",
   "metadata": {},
   "source": [
    "## Parsing TEI"
   ]
  },
  {
   "cell_type": "code",
   "execution_count": null,
   "id": "e1763d24",
   "metadata": {},
   "outputs": [],
   "source": [
    "# imports\n"
   ]
  },
  {
   "cell_type": "code",
   "execution_count": null,
   "id": "6c5ad335",
   "metadata": {},
   "outputs": [],
   "source": [
    "# load xml file\n"
   ]
  },
  {
   "cell_type": "code",
   "execution_count": null,
   "id": "c6d44348",
   "metadata": {},
   "outputs": [],
   "source": [
    "# use BeatifulSoup to instntiate tei object\n"
   ]
  },
  {
   "cell_type": "code",
   "execution_count": null,
   "id": "d47eb421",
   "metadata": {},
   "outputs": [],
   "source": [
    "# find all margin notes\n"
   ]
  },
  {
   "cell_type": "code",
   "execution_count": null,
   "id": "80dd9118",
   "metadata": {},
   "outputs": [],
   "source": [
    "# clean margin notes and add to a list\n"
   ]
  },
  {
   "cell_type": "code",
   "execution_count": null,
   "id": "a27fe407",
   "metadata": {},
   "outputs": [],
   "source": [
    "# convert list to dataframe\n"
   ]
  },
  {
   "cell_type": "code",
   "execution_count": null,
   "id": "264eada3",
   "metadata": {},
   "outputs": [],
   "source": [
    "# check dataframe\n"
   ]
  },
  {
   "cell_type": "code",
   "execution_count": null,
   "id": "0343fcbc",
   "metadata": {},
   "outputs": [],
   "source": [
    "# save datafram as csv\n"
   ]
  }
 ],
 "metadata": {
  "kernelspec": {
   "display_name": "Python 3 (ipykernel)",
   "language": "python",
   "name": "python3"
  },
  "language_info": {
   "codemirror_mode": {
    "name": "ipython",
    "version": 3
   },
   "file_extension": ".py",
   "mimetype": "text/x-python",
   "name": "python",
   "nbconvert_exporter": "python",
   "pygments_lexer": "ipython3",
   "version": "3.9.13"
  }
 },
 "nbformat": 4,
 "nbformat_minor": 5
}
