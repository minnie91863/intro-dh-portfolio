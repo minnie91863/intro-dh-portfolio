{
 "cells": [
  {
   "cell_type": "code",
   "execution_count": 17,
   "id": "9f0616de",
   "metadata": {},
   "outputs": [],
   "source": [
    "import spacy\n",
    "import csv\n",
    "import pandas as pd"
   ]
  },
  {
   "cell_type": "markdown",
   "id": "2cb4acb6",
   "metadata": {},
   "source": [
    "Isolating work just in the Fine Arts department"
   ]
  },
  {
   "cell_type": "code",
   "execution_count": 8,
   "id": "c4011a83",
   "metadata": {},
   "outputs": [],
   "source": [
    "with open('cmoa.csv', 'rt', encoding = 'utf8') as inp, open('cmoa_fine_art.csv', 'wt', encoding = 'utf8') as out:\n",
    "    writer = csv.writer(out)\n",
    "    for row in csv.reader(inp):\n",
    "        if row[10] != \"Fine Arts\":\n",
    "            writer.writerow(row)"
   ]
  },
  {
   "cell_type": "markdown",
   "id": "21a10999",
   "metadata": {},
   "source": [
    "Mady silly mistake of using the wrong index, so I'll try to isolate Fine Arts again"
   ]
  },
  {
   "cell_type": "code",
   "execution_count": 9,
   "id": "c3f07574",
   "metadata": {},
   "outputs": [],
   "source": [
    "with open('cmoa.csv', 'rt', encoding = 'utf8') as inp, open('cmoa_fine_art.csv', 'wt', encoding = 'utf8') as out:\n",
    "    writer = csv.writer(out)\n",
    "    for row in csv.reader(inp):\n",
    "        if row[9] != \"Fine Arts\":\n",
    "            writer.writerow(row)"
   ]
  },
  {
   "cell_type": "markdown",
   "id": "67d3cbb9",
   "metadata": {},
   "source": [
    "Still having issues, realized operation was incorrect"
   ]
  },
  {
   "cell_type": "code",
   "execution_count": 20,
   "id": "25c5af18",
   "metadata": {},
   "outputs": [],
   "source": [
    "# out = open('cmoa_fine_art.csv', 'wt', encoding = 'utf8')\n",
    "# writer = csv.writer(out)\n",
    "# inp = open('cmoa.csv', 'rt', encoding = 'utf8')\n",
    "# row = row in csv.reader(inp)\n",
    "# writer.writerow(row)\n",
    "\n",
    "with open('cmoa.csv', 'rt', encoding = 'utf8') as inp, open('cmoa_fine_art.csv', 'wt', encoding = 'utf8') as out:\n",
    "#     heading = next(inp)\n",
    "    writer = csv.writer(out)\n",
    "#     writer.writerow(heading)\n",
    "    for row in csv.reader(inp):\n",
    "        if row[9] == \"Fine Arts\":\n",
    "            writer.writerow(row)"
   ]
  },
  {
   "cell_type": "markdown",
   "id": "6f35729b",
   "metadata": {},
   "source": [
    "At a glance, it seems like each row has an arbitrary row of whitespace separating each of the rows that have information, so I'll attempt to remove those"
   ]
  },
  {
   "cell_type": "code",
   "execution_count": 27,
   "id": "3583c4fc",
   "metadata": {},
   "outputs": [],
   "source": [
    "df = pd.read_csv('cmoa_fine_art.csv')\n",
    "df.to_csv('cmoa_fine_art1.csv', index = False)"
   ]
  },
  {
   "cell_type": "markdown",
   "id": "a9d4d2a2",
   "metadata": {},
   "source": [
    "I also need to remove any \"Notes\" since they may cause issues in the csv file format."
   ]
  },
  {
   "cell_type": "code",
   "execution_count": 28,
   "id": "7935f6ca",
   "metadata": {},
   "outputs": [],
   "source": [
    "with open('cmoa_fine_art1.csv', 'rt', encoding = 'utf8') as inp, open('cmoa_fine_art2.csv', 'wt', encoding = 'utf8') as out:\n",
    "    writer = csv.writer(out)\n",
    "    for row in csv.reader(inp):\n",
    "        if row[0] != \"Notes:\" and row[0][0] != '[':\n",
    "            writer.writerow(row)"
   ]
  },
  {
   "cell_type": "code",
   "execution_count": 23,
   "id": "5bd225bd",
   "metadata": {},
   "outputs": [],
   "source": [
    "# with open('cmoa_fine_art.csv', 'rt', encoding = 'utf8') as inp, open('cmoa_fine_art_1.csv', 'wt', encoding = 'utf8') as out:\n",
    "#     writer = csv.writer(out)\n",
    "#     for row in csv.reader(inp):\n",
    "#         if row != \"\\n\":\n",
    "#             writer.writerow(row)"
   ]
  },
  {
   "cell_type": "markdown",
   "id": "2d50148a",
   "metadata": {},
   "source": [
    "After attempting to also copy over the header of the csv file, I realized it would be quicker to simploy copy and paste it manually"
   ]
  },
  {
   "cell_type": "code",
   "execution_count": null,
   "id": "d6b0c7f1",
   "metadata": {},
   "outputs": [],
   "source": []
  }
 ],
 "metadata": {
  "kernelspec": {
   "display_name": "Python 3 (ipykernel)",
   "language": "python",
   "name": "python3"
  },
  "language_info": {
   "codemirror_mode": {
    "name": "ipython",
    "version": 3
   },
   "file_extension": ".py",
   "mimetype": "text/x-python",
   "name": "python",
   "nbconvert_exporter": "python",
   "pygments_lexer": "ipython3",
   "version": "3.9.13"
  }
 },
 "nbformat": 4,
 "nbformat_minor": 5
}
