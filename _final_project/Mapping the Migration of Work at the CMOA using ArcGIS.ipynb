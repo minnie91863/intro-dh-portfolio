{
 "cells": [
  {
   "cell_type": "markdown",
   "id": "95e22d1b",
   "metadata": {},
   "source": [
    "# Mapping the Migration of Work at the CMOA using ArcGIS"
   ]
  },
  {
   "cell_type": "markdown",
   "id": "0cc457a9",
   "metadata": {},
   "source": [
    "## Overview"
   ]
  },
  {
   "cell_type": "markdown",
   "id": "05c174bd",
   "metadata": {},
   "source": [
    "Archives, libraries, and museums  document, preserve, and inform us on our complex histories. They provide insight into our heritage, our evolution, and our interests. They inform our behavior, pass down generations of knowledge, and illustrate our experiences through a myriad of mediums. They provide insight into what it has meant to be human, and what it may mean now. It is without a doubt that recording our history has affected how we interact with the world, whether that be culturally, politically, or spiritually. \n",
    "\n",
    "Museums serve as resources, often for the public, which  investigate all descriptions of human behavior. For my final project, I would like to consider the logistics behind the pieces that are displayed and shared at museums. Who has the authority to inform the public with their collection? How can one define the ethics behind developing a collection? Why do we place value on the pieces that are preserved, displayed, and studied? I would like to mention that I am no expert in museum studies, so there may be notable debates and solutions  surrounding these questions that I am not aware of. I plan to research, at an introductory level, the issue of piece/artifact  migration for the sake of a museum collection. \n",
    "\n",
    "I will be investigating the geographical distribution of the origins of works and artifacts in museums by completing a shallow case study on the Carnegie Museum of Art (CMOA). The dataset I will be using (https://github.com/cmoa/collection )  includes information on approximately 28269 objects across all departments of the museum, with details such as the title, creation date, medium, physical location, dimensions, and artist biography. I plan to use the GIS tool ArcGIS to create a visual of these geographical distances between where the artist came from and where the work now lies. I expect most of the works’ physical locations to be generalized to the location of the CMOA  and the artist origins to be spread across the globe, potentially with more origins from North America and Europe.  \n",
    "\n",
    "While I had initially intended on exploring the collection of the British Museum, as its nation state holds a long and complex history of colonization, I was unable to find a database of their collection which included cleaned data about each piece and its geographical origin. The datasets I found for the British Museum collection seemed to be outdated and inaccessible (https://github.com/culturehack/data-tool/blob/master/sources/37251018-British-Museum-object-catalog.md ). Their website (https://www.britishmuseum.org/collection ) proved to be helpful for close readings at specific artifacts, but difficult for a computer to do a distant read. I was ultimately limited by my ability to webscrape, so I opted to use the collection at the CMOA. This may not give as much of a historically significant look into the migration of artifacts/work, but we can also consider an analysis of artists’ works, the artists’ origins, and the type of work they created using the same visualization techniques with the CMOA dataset.\n",
    "\n",
    "It’s important to note that the British Museum provides some context on its website addressing “How objects come into the collection” (https://www.britishmuseum.org/about-us/british-museum-story/collecting-histories ). While it is crucial to take British colonial history into great consideration when interpreting and visualizing these distances between the work’s estimated or known origin and the British Museum, the complexity of their colonial history extends beyond the scope of this project.\n",
    "\n",
    "Moreover, the museum is sponsored by the UK Parliament's  Department for Digital, Culture, Media & Sport (https://www.britishmuseum.org/about-us/governance#:~:text=The%20British%20Museum%20is%20a,(Opens%20in%20new%20window). ) as an additional factor to consider, whereas the CMOA is backed by the Carnegie Institute (https://cmoa.org/ ), which is a private academic institution. As a government-directed collection, the curation of objects within the British Museum directly represents how the country wishes to be perceived. This applies not only to other countries, but also internally between Scotland, Wales, Northern Ireland, and England, which has its own  nuanced history of power dynamics and culture. \n",
    "\n",
    "The British Museum’s collection website cites their first acquisition as the purchase of Sir Hans Sloane’s collection with the 1753 Act of Parliament. The website acknowledges that “[s]ome ways in which objects entered the British Museum are no longer current or acceptable”. This prompts discourse regarding where these items belong, and in whose possession they should be. Some may argue that since many, if not the vast majority, of these artifacts were stolen from their places of origin as a byproduct of British colonization, they should be unconditionally returned to their respective origins, if known. Others consider it to be beneficial that such artifacts are preserved in the museum  and are available for public viewing. Questions regarding postcolonial theory come into play.\n",
    "\n",
    "Issues on colonialism may not be as relevant to CMOA’s collection. Instead, we can consider a more general read on what’s deemed valuable and representative of art history in the Western world. It’s unlikely that the origin of every work in the CMOA is known, since a piece may be imagined, realized, and curated in different locations. For the sake of simplicity, I will be generalizing the work’s origin to the documented origin of the artist. By doing so, certain trends may arise describing the differences in work created in different locations, and potential reasonings behind the migration of the works. \n",
    "\n",
    "Representation holds incredible power in the public landscape. Especially when it comes to museums, which are typically well-respected and held to a high standard, the pieces and artifacts presented directly correlate to what’s assigned value. By observing the movement and migration of work in the CMOA, we can grasp a general understanding of which geographical regions are deemed as museum-worthy in the United States Northeast.  \n",
    "\n",
    "What can be inferred by mapping and visualizing the distance between an artifact or artwork’s physical location and its potential origin? Let’s investigate.\n"
   ]
  },
  {
   "cell_type": "markdown",
   "id": "a65c2e82",
   "metadata": {},
   "source": [
    "## Data Preparation"
   ]
  },
  {
   "cell_type": "markdown",
   "id": "d73cba41",
   "metadata": {},
   "source": [
    "For this project, not much preparation was needed for cleaning the data. If I had successfully web-scraped the British Museum’s collection, I would have been required to clean the data, since the website formatting and other variables add complexity to making the information organized and readable by a computer. However, due to technical restraints, I will be using an already-prepared .csv dataset of the works at CMOA. My data preparation will be all for the sake of narrowing the scope of the dataset "
   ]
  },
  {
   "cell_type": "markdown",
   "id": "f8d7d80e",
   "metadata": {},
   "source": [
    "Since the dataset I used for this project is much larger than what ArcGIS is capable of holding on one layer, I needed to create a hosted layer to separate out the information in my .csv to be able to import the information. I followed the steps outlined here. \n",
    "https://doc.arcgis.com/en/arcgis-online/manage-data/publish-features.htm\n",
    "\n",
    "At a quick glance at the .csv, the locations of the artists’ birth and death origins are not always provided, and are listed in the format of “city, country”. Their nationality is also provided when available. Since my locations are not provided as latitude/longitude coordinates, I used a special ArcGIS function that required the use of credits (of which I automatically had 2000 provided by Tufts). In order to simplify the project, I will be generalizing the origin of the work as the birthplace of the artist, since it is the closest point of information we can use from the dataset to generalize where the work originated from.\n",
    "\n",
    "By using the artists’ birthplaces and nationalities, rather than mapping the migration of the work as I had initially hoped to do, this project will instead provide a visualization of the representation of work and artists at the CMOA. However, I wanted to visualize as many relevant options as I could, so I listed the location information as present in multiple fields. This way, I could also include the artists’ nationality and place of death. \n",
    "\n",
    "Out of the entire dataset, there were only 244 location matches of the 28269 items. In this case, if I wanted to track all of the work in the dataset, I would need to manually mark the locations to the places on the map for every missed option. The first unmatched location, for instance, listed what was supposed to be New York City, New York as Newyork, Argyll, and Bute, Scotland. \n",
    "\n",
    "On the other hand, some of the matched cases were only partially accurate, since some artists had multiple nationalities. In this case where the artist was British and Italian, ArcGIS was only able to recognize the Italian part, since their birth and death places were both in Italy. \n",
    "\n",
    "Clearly, this dataset still needs much more refinement. I decided from this point to scrap the hosted feature layers I had just attempted to make, and instead work on cleaning up the data. In order to make the dataset easier to use for this assignment, I narrowed the scope even further by only considering work listed under the “Fine Arts” department, and only considering the artists’ nationalities. For artists that have multiple nationalities, I will be arbitrarily selecting the first one listed. \n"
   ]
  },
  {
   "cell_type": "markdown",
   "id": "3b2289be",
   "metadata": {},
   "source": [
    "Please refer to the code section below to walkthorugh the steps on how I prepared the csv file to fit the scope of this project"
   ]
  },
  {
   "cell_type": "markdown",
   "id": "1ee33b9c",
   "metadata": {},
   "source": [
    "TODO (Insert photos here of data preparation process in arcgis)"
   ]
  },
  {
   "cell_type": "markdown",
   "id": "1557633d",
   "metadata": {},
   "source": [
    "To visualize the distance between these aritsts' origins and CMOA, I also included a layer that only had the coordinates of the CMOA so I could run a distance analysis built into ArcGIS"
   ]
  },
  {
   "cell_type": "markdown",
   "id": "8bf639d2",
   "metadata": {},
   "source": [
    "## Code"
   ]
  },
  {
   "cell_type": "markdown",
   "id": "e40c8cef",
   "metadata": {},
   "source": [
    "For the unabridged version of the code, please review the file \"Data Preparation\" in my portfolio github repo."
   ]
  },
  {
   "cell_type": "code",
   "execution_count": null,
   "id": "78170094",
   "metadata": {},
   "outputs": [],
   "source": [
    "import spacy\n",
    "import csv\n",
    "import pandas as pd"
   ]
  },
  {
   "cell_type": "markdown",
   "id": "1383f9ca",
   "metadata": {},
   "source": [
    "Isolating work just in the Fine Arts department"
   ]
  },
  {
   "cell_type": "code",
   "execution_count": null,
   "id": "828236db",
   "metadata": {},
   "outputs": [],
   "source": [
    "with open('cmoa.csv', 'rt', encoding = 'utf8') as inp, open('cmoa_fine_art.csv', 'wt', encoding = 'utf8') as out:\n",
    "    writer = csv.writer(out)\n",
    "    for row in csv.reader(inp):\n",
    "        if row[9] == \"Fine Arts\":\n",
    "            writer.writerow(row)"
   ]
  },
  {
   "cell_type": "markdown",
   "id": "841d489b",
   "metadata": {},
   "source": [
    "At a glance, it seems like each row has an arbitrary row of whitespace separating each of the rows that have information, so I'll attempt to remove those"
   ]
  },
  {
   "cell_type": "code",
   "execution_count": null,
   "id": "f4abd7df",
   "metadata": {},
   "outputs": [],
   "source": [
    "df = pd.read_csv('cmoa_fine_art.csv')\n",
    "df.to_csv('cmoa_fine_art1.csv', index = False)"
   ]
  },
  {
   "cell_type": "markdown",
   "id": "23dbc0d3",
   "metadata": {},
   "source": [
    "I also need to remove any \"Notes\" since they may cause issues in the csv file format."
   ]
  },
  {
   "cell_type": "code",
   "execution_count": null,
   "id": "63e6a6bc",
   "metadata": {},
   "outputs": [],
   "source": [
    "df = pd.read_csv('cmoa_fine_art1.csv', error_bad_lines = False).dropna()\n",
    "df.to_csv('cmoa_fine_art2.csv', index = False)"
   ]
  },
  {
   "cell_type": "markdown",
   "id": "d54554ea",
   "metadata": {},
   "source": [
    "After attempting to also copy over the header of the csv file, I realized it would be quicker to simploy copy and paste it manually"
   ]
  },
  {
   "cell_type": "markdown",
   "id": "73cb4593",
   "metadata": {},
   "source": [
    "Let's also remove all the rows that do not include a nationality, which is at index 24. Alternatively, we can reference that information with the \"nationality\" key word"
   ]
  },
  {
   "cell_type": "code",
   "execution_count": null,
   "id": "d3099b44",
   "metadata": {},
   "outputs": [],
   "source": [
    "filter = df[\"nationality\"] != \"\"\n",
    "df_clean = df[filter]"
   ]
  },
  {
   "cell_type": "code",
   "execution_count": null,
   "id": "b5ce7008",
   "metadata": {},
   "outputs": [],
   "source": [
    "df.to_csv('cmoa_fine_art3.csv', index = False)"
   ]
  },
  {
   "cell_type": "markdown",
   "id": "2e5164dd",
   "metadata": {},
   "source": [
    "Let's compare the lengths of the csv files to see if any changes were made"
   ]
  },
  {
   "cell_type": "code",
   "execution_count": null,
   "id": "55956010",
   "metadata": {},
   "outputs": [],
   "source": [
    "original = pd.read_csv('cmoa.csv')\n",
    "results0 = pd.read_csv('cmoa_fine_art.csv')\n",
    "results1 = pd.read_csv('cmoa_fine_art1.csv')\n",
    "results2 = pd.read_csv('cmoa_fine_art2.csv')\n",
    "results3 = pd.read_csv('cmoa_fine_art3.csv')"
   ]
  },
  {
   "cell_type": "code",
   "execution_count": null,
   "id": "6e87434c",
   "metadata": {},
   "outputs": [],
   "source": [
    "print(len(original))\n",
    "print(len(results0))\n",
    "print(len(results1))\n",
    "print(len(results2))\n",
    "print(len(results3))"
   ]
  },
  {
   "cell_type": "markdown",
   "id": "c758b70c",
   "metadata": {},
   "source": [
    "28269\n",
    "8972\n",
    "8972\n",
    "1177\n",
    "1177\n"
   ]
  },
  {
   "cell_type": "markdown",
   "id": "c4bea384",
   "metadata": {},
   "source": [
    "While some of the cleaning may have been done incorrectly or may have been repetative, the resulting 1177 rows is now much more usable than the original 28269 for this project-- 4.16% of the number of pieces we began with!\n",
    "\n",
    "The largest change was when I reduced the scope from the entire collection to the Fine Arts department. This superficially showcases the proportion of work in the CMOA that is considered as Fine Art (although what can be defined as such is an entirely separate discussion). Interestingly enough, in this dataset, Contemporary Art is labelled as a separate department. I can therefore infer that the work in the Fine Arts department is somewhat historical."
   ]
  },
  {
   "cell_type": "code",
   "execution_count": null,
   "id": "d3068cbb",
   "metadata": {},
   "outputs": [],
   "source": [
    "df = pd.read_csv(\"cmoa_fine_art3.csv\")\n",
    "df.loc[:, \"nationality\"]"
   ]
  },
  {
   "cell_type": "markdown",
   "id": "0fae52b8",
   "metadata": {},
   "source": [
    "Below, I'm printing out specific information to get a glance at how usable the information is in order to narrow down what I include in my hosted feature layer"
   ]
  },
  {
   "cell_type": "code",
   "execution_count": null,
   "id": "470fd5c6",
   "metadata": {},
   "outputs": [],
   "source": [
    "df.loc[:, \"death_place\"]"
   ]
  },
  {
   "cell_type": "markdown",
   "id": "5d033405",
   "metadata": {},
   "source": [
    "I'm going to try to input the nationality data into ArcGIS to see if it can recognize the phrasing as a location. If not, I will need to continue to process the data to convert the nationality to a location. If all ese fails, I may need to use alternative methods to visualize this dataset."
   ]
  },
  {
   "cell_type": "markdown",
   "id": "af3d6cf3",
   "metadata": {},
   "source": [
    "While ArcGIS was able to recognize more locations this time around, it still struggled to handle multiple nationalities, and misinterpreted many as incorrect locations. This means I need to either continue cleaning the naitonalities data, or use an alternative data point such as the birth location.\n",
    "\n",
    "Let's do a quick test on ArcGIS using the birth location instead"
   ]
  },
  {
   "cell_type": "markdown",
   "id": "6821b936",
   "metadata": {},
   "source": [
    "ArcGIS handleded the birth_place information much better, and only struggled to match up Tokyo. Since there weren't many unmatched plots, I went ahead and matched those manually. After this process, 221 of the 1176 works remained unmatched. In my cleaning process, since I didn't focus on birth_place, I didn't remove the values that had null or blank fiends for the birth_place. The remainig 221 works did not have birth_place information, so for the sake of this assignment they will be left out."
   ]
  },
  {
   "cell_type": "markdown",
   "id": "42b770c0",
   "metadata": {},
   "source": [
    "## Artifact"
   ]
  },
  {
   "cell_type": "markdown",
   "id": "198ac761",
   "metadata": {},
   "source": [
    "Below are screencaptures of my resulting GIS visualization on the artists represented in the CMOA collection's fine art department compared to the location of the CMOA adn world GDPs from 1960-2016."
   ]
  },
  {
   "cell_type": "markdown",
   "id": "c266aba6",
   "metadata": {},
   "source": [
    "A link to my ArcGIS map can be found here\n",
    "\n",
    "https://tuftsgis.maps.arcgis.com/apps/webappviewer/index.html?id=ad3872fe290d4bdaa0b55dcd9df75bc5\n"
   ]
  },
  {
   "cell_type": "markdown",
   "id": "ff42fe30",
   "metadata": {},
   "source": [
    "## Analysis"
   ]
  },
  {
   "cell_type": "markdown",
   "id": "442c0d97",
   "metadata": {},
   "source": [
    "The results of mapping out the birthplaces of the Fine Art artists in the CMOA dataset reveal some strong trends. \n",
    "\n",
    "The majority of the artists whose work is considered to be in the Fine Art department were born in Europe, more specifically Western Europe. It’s important to note that each pin represents a work, and not the artist. Therefore, certain locations have multiple pins, since some artists have multiple works in the CMOA collection. This distant read leaves me questioning the definition of fine art, and why it was distinct from contemporary art in the dataset--what does this showcase about the CMOA’s value system, or how it defines historical significance? \n",
    "\n",
    "The preservation and physical documentation of history through art --the backbone of museums--is not practiced equally across the globe, which may also impact whose work is represented at the CMOA. The map visualizes which regions of the world favor this form of historical documentation, and which regions the CMOA considers worth representing. Boundaries such as culture, language, and politics may also impact who the CMOA includes in their collection.\n",
    "\n",
    "I included an online layer of the world GDP from the past few decades to compare with the edited CMOA dataset. Considering the correlation between fine art with modern economic wealth, there is somewhat of a link between areas of economic power and areas whose history in the form of fine art is considered valuable enough to be preserved in the Western lens. It’s interesting to see these value systems align, considering that both definitions of value by the CMOA and World Bank, headquartered in Washington D.C., are under American eyes. Through this pattern, one can infer that economic and historic values are closely related in the United States. \n",
    "\n"
   ]
  },
  {
   "cell_type": "markdown",
   "id": "ddccc3b5",
   "metadata": {},
   "source": [
    "## Conclusion"
   ]
  },
  {
   "cell_type": "markdown",
   "id": "63ea3358",
   "metadata": {},
   "source": [
    "\n",
    "Although these results did not offer insight into British colonialism, they did provide equally interesting results. I originally planned to investigate the migration of artwork. Instead, I ended up with a wonderful visualization of representation in museums, considerations on how the CMOA defines fine art, and questions about how the United States assigns value, therefore affecting the education of the general public. Who and what gets represented in higher institutions such as museums can impact their and other groups' social reputations. It is up to the musem to decide how they want to curate their view of past and present,  authentically or not."
   ]
  }
 ],
 "metadata": {
  "kernelspec": {
   "display_name": "Python 3 (ipykernel)",
   "language": "python",
   "name": "python3"
  },
  "language_info": {
   "codemirror_mode": {
    "name": "ipython",
    "version": 3
   },
   "file_extension": ".py",
   "mimetype": "text/x-python",
   "name": "python",
   "nbconvert_exporter": "python",
   "pygments_lexer": "ipython3",
   "version": "3.9.13"
  }
 },
 "nbformat": 4,
 "nbformat_minor": 5
}
