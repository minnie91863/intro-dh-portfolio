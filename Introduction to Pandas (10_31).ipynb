{
 "cells": [
  {
   "cell_type": "markdown",
   "id": "e0bb4b4f",
   "metadata": {},
   "source": [
    "# An introduction to `pandas`\n",
    "\n",
    "\n",
    "'Give someone a dataset, feed them for a day. Teach someone to create a dataset, feed them for a lifetime' -- me\n"
   ]
  },
  {
   "cell_type": "markdown",
   "id": "f91e2c3d",
   "metadata": {},
   "source": [
    "## What is `pandas` and why does it matter?"
   ]
  },
  {
   "cell_type": "markdown",
   "id": "6d21f8d1",
   "metadata": {},
   "source": [
    "`pandas` is a Python library that provides a couple new data structures that give users much more flexibility when reading in or exporting data. The main way that we will interact with `pandas` is through the pre-defined `DataFrame` object. `DataFrame`s are a very different data structure than what you may be used to from this class or other classes. It is most similar to a SQL database or an Excel spreadsheet in that it expects 'tabular data' (data that can be arranged in a table). \n",
    "\n",
    "`pandas` is very unique in that it is not just written in Python but also an intermediate language between C and Python called `Cython`. This feature means that `pandas` has all of the ease of a Python library, while also utilizing all of the speed and efficiency of C. Thus, `pandas` has become a critical component in data science, data analytics and, of course, natural language process and the digital humanities. "
   ]
  },
  {
   "cell_type": "code",
   "execution_count": 1,
   "id": "624b9177",
   "metadata": {},
   "outputs": [],
   "source": [
    "import pandas as pd"
   ]
  },
  {
   "cell_type": "markdown",
   "id": "f0e48897",
   "metadata": {},
   "source": [
    "You will almost always see `pandas` imported like this. Although the beginning looks normal, this `as` keyword tells Python we intend to use the shorthand `pd` to stand in for `pandas`. Importantly, we cannot use `pandas`, if we import it like this. We can only use `pd`. See below:"
   ]
  },
  {
   "cell_type": "code",
   "execution_count": 2,
   "id": "57761065",
   "metadata": {},
   "outputs": [
    {
     "data": {
      "text/plain": [
       "<module 'pandas' from 'C:\\\\Users\\\\Minnie\\\\anaconda3\\\\lib\\\\site-packages\\\\pandas\\\\__init__.py'>"
      ]
     },
     "execution_count": 2,
     "metadata": {},
     "output_type": "execute_result"
    }
   ],
   "source": [
    "pd"
   ]
  },
  {
   "cell_type": "code",
   "execution_count": 3,
   "id": "fdc50e5c",
   "metadata": {},
   "outputs": [
    {
     "ename": "NameError",
     "evalue": "name 'pandas' is not defined",
     "output_type": "error",
     "traceback": [
      "\u001b[1;31m---------------------------------------------------------------------------\u001b[0m",
      "\u001b[1;31mNameError\u001b[0m                                 Traceback (most recent call last)",
      "Input \u001b[1;32mIn [3]\u001b[0m, in \u001b[0;36m<cell line: 1>\u001b[1;34m()\u001b[0m\n\u001b[1;32m----> 1\u001b[0m \u001b[43mpandas\u001b[49m\n",
      "\u001b[1;31mNameError\u001b[0m: name 'pandas' is not defined"
     ]
    }
   ],
   "source": [
    "pandas"
   ]
  },
  {
   "cell_type": "markdown",
   "id": "353b1af1",
   "metadata": {},
   "source": [
    "We get a `NameError` because we told Python to import `pandas` as `pd`, so `pd` is the only name that works."
   ]
  },
  {
   "cell_type": "markdown",
   "id": "c8227367",
   "metadata": {},
   "source": [
    "## Sample datasets for your final projects"
   ]
  },
  {
   "cell_type": "markdown",
   "id": "789c4c44",
   "metadata": {},
   "source": [
    "For your final project, you'll need to use your a new dataset. At your disposal are a couple datasets that I have put together for you: https://github.com/pnadelofficial/datasets. They are in varying states of cleanness and ease of use in order to simulate a dataset you might find in the wild. Feel free to use any of these for your final project or the make one yourself."
   ]
  },
  {
   "cell_type": "markdown",
   "id": "5e1a3b67",
   "metadata": {},
   "source": [
    "Today, I'll walk you through using the `lyrics_app` and we'll also get a tour of `pandas` and experiment with data cleaning. "
   ]
  },
  {
   "cell_type": "code",
   "execution_count": 4,
   "id": "cf35420d",
   "metadata": {},
   "outputs": [
    {
     "name": "stdout",
     "output_type": "stream",
     "text": [
      "Collecting wget\n",
      "  Downloading wget-3.2.zip (10 kB)\n",
      "Building wheels for collected packages: wget\n",
      "  Building wheel for wget (setup.py): started\n",
      "  Building wheel for wget (setup.py): finished with status 'done'\n",
      "  Created wheel for wget: filename=wget-3.2-py3-none-any.whl size=9675 sha256=4e03a94af52557c4af3912300f39cdd9972f4282ae8bb93849a09344d5e58419\n",
      "  Stored in directory: c:\\users\\minnie\\appdata\\local\\pip\\cache\\wheels\\04\\5f\\3e\\46cc37c5d698415694d83f607f833f83f0149e49b3af9d0f38\n",
      "Successfully built wget\n",
      "Installing collected packages: wget\n",
      "Successfully installed wget-3.2\n"
     ]
    }
   ],
   "source": [
    "!pip install wget\n",
    "import wget\n",
    "import os\n",
    "\n",
    "# downloading lyrics app\n",
    "if not os.path.isfile('lyrics.py'):\n",
    "    wget.download('https://raw.githubusercontent.com/pnadelofficial/datasets/main/lyrics_app/lyrics.py')\n",
    "    \n",
    "# raise your hand if you get an error here..."
   ]
  },
  {
   "cell_type": "markdown",
   "id": "f44a6d56",
   "metadata": {},
   "source": [
    "This file takes in an artist name and an album name and will return a comma separated values file or `csv` of all of the lyrics in that album. But you must use the command line. So let's see how we can do that from this notebook. "
   ]
  },
  {
   "cell_type": "code",
   "execution_count": 5,
   "id": "9a87f912",
   "metadata": {},
   "outputs": [
    {
     "name": "stdout",
     "output_type": "stream",
     "text": [
      "Collecting lyricsgenius\n",
      "  Downloading lyricsgenius-3.0.1-py3-none-any.whl (59 kB)\n",
      "Requirement already satisfied: requests>=2.20.0 in c:\\users\\minnie\\anaconda3\\lib\\site-packages (from lyricsgenius) (2.27.1)\n",
      "Requirement already satisfied: beautifulsoup4>=4.6.0 in c:\\users\\minnie\\anaconda3\\lib\\site-packages (from lyricsgenius) (4.11.1)\n",
      "Requirement already satisfied: soupsieve>1.2 in c:\\users\\minnie\\anaconda3\\lib\\site-packages (from beautifulsoup4>=4.6.0->lyricsgenius) (2.3.1)\n",
      "Requirement already satisfied: urllib3<1.27,>=1.21.1 in c:\\users\\minnie\\anaconda3\\lib\\site-packages (from requests>=2.20.0->lyricsgenius) (1.26.9)\n",
      "Requirement already satisfied: charset-normalizer~=2.0.0 in c:\\users\\minnie\\anaconda3\\lib\\site-packages (from requests>=2.20.0->lyricsgenius) (2.0.4)\n",
      "Requirement already satisfied: idna<4,>=2.5 in c:\\users\\minnie\\anaconda3\\lib\\site-packages (from requests>=2.20.0->lyricsgenius) (3.3)\n",
      "Requirement already satisfied: certifi>=2017.4.17 in c:\\users\\minnie\\anaconda3\\lib\\site-packages (from requests>=2.20.0->lyricsgenius) (2021.10.8)\n",
      "Installing collected packages: lyricsgenius\n",
      "Successfully installed lyricsgenius-3.0.1\n",
      "Searching for \"Beatles'\" by 'The...\n",
      "Wrote Lyrics_Beatles.json.\n",
      "Data saved\n",
      "Data loaded\n"
     ]
    }
   ],
   "source": [
    "!python lyrics.py 'The Beatles' 'Revolver'\n",
    "# this will save a file called 'The Beatles-Revolver_lyrics.csv' in my directory\n",
    "# will take around a minute"
   ]
  },
  {
   "cell_type": "code",
   "execution_count": 10,
   "id": "303c3658",
   "metadata": {
    "scrolled": true
   },
   "outputs": [
    {
     "data": {
      "text/html": [
       "<div>\n",
       "<style scoped>\n",
       "    .dataframe tbody tr th:only-of-type {\n",
       "        vertical-align: middle;\n",
       "    }\n",
       "\n",
       "    .dataframe tbody tr th {\n",
       "        vertical-align: top;\n",
       "    }\n",
       "\n",
       "    .dataframe thead th {\n",
       "        text-align: right;\n",
       "    }\n",
       "</style>\n",
       "<table border=\"1\" class=\"dataframe\">\n",
       "  <thead>\n",
       "    <tr style=\"text-align: right;\">\n",
       "      <th></th>\n",
       "      <th>song_title</th>\n",
       "      <th>lyrics</th>\n",
       "    </tr>\n",
       "  </thead>\n",
       "  <tbody>\n",
       "    <tr>\n",
       "      <th>0</th>\n",
       "      <td>I Saw Her Standing There</td>\n",
       "      <td>I Saw Her Standing There Lyrics[Intro: Paul Mc...</td>\n",
       "    </tr>\n",
       "    <tr>\n",
       "      <th>1</th>\n",
       "      <td>Misery</td>\n",
       "      <td>Misery Lyrics[Intro]\\nThe world is treating me...</td>\n",
       "    </tr>\n",
       "    <tr>\n",
       "      <th>2</th>\n",
       "      <td>Anna (Go to Him)</td>\n",
       "      <td>Anna (Go to Him) Lyrics[Verse 1]\\nAnna\\nYou co...</td>\n",
       "    </tr>\n",
       "    <tr>\n",
       "      <th>3</th>\n",
       "      <td>Chains</td>\n",
       "      <td>Chains Lyrics[Chorus]\\nChains, my baby's got m...</td>\n",
       "    </tr>\n",
       "    <tr>\n",
       "      <th>4</th>\n",
       "      <td>Boys</td>\n",
       "      <td>Boys Lyrics[Verse 1]\\nI been told when a boy k...</td>\n",
       "    </tr>\n",
       "    <tr>\n",
       "      <th>...</th>\n",
       "      <td>...</td>\n",
       "      <td>...</td>\n",
       "    </tr>\n",
       "    <tr>\n",
       "      <th>216</th>\n",
       "      <td>The Ballad of John and Yoko</td>\n",
       "      <td>The Ballad of John and Yoko Lyrics[Verse 1: Jo...</td>\n",
       "    </tr>\n",
       "    <tr>\n",
       "      <th>217</th>\n",
       "      <td>Old Brown Shoe</td>\n",
       "      <td>Old Brown Shoe Lyrics[Verse 1]\\nI want a love ...</td>\n",
       "    </tr>\n",
       "    <tr>\n",
       "      <th>218</th>\n",
       "      <td>Across the Universe (Wildlife Version)</td>\n",
       "      <td>Across the Universe (Wildlife Version) Lyrics[...</td>\n",
       "    </tr>\n",
       "    <tr>\n",
       "      <th>219</th>\n",
       "      <td>Let It Be (Single Version)</td>\n",
       "      <td>Let It Be (Single Version) Lyrics[Verse 1]\\nWh...</td>\n",
       "    </tr>\n",
       "    <tr>\n",
       "      <th>220</th>\n",
       "      <td>You Know My Name (Look Up the Number)</td>\n",
       "      <td>You Know My Name (Look Up the Number) Lyrics[I...</td>\n",
       "    </tr>\n",
       "  </tbody>\n",
       "</table>\n",
       "<p>221 rows × 2 columns</p>\n",
       "</div>"
      ],
      "text/plain": [
       "                                 song_title  \\\n",
       "0                  I Saw Her Standing There   \n",
       "1                                    Misery   \n",
       "2                          Anna (Go to Him)   \n",
       "3                                    Chains   \n",
       "4                                      Boys   \n",
       "..                                      ...   \n",
       "216             The Ballad of John and Yoko   \n",
       "217                          Old Brown Shoe   \n",
       "218  Across the Universe (Wildlife Version)   \n",
       "219              Let It Be (Single Version)   \n",
       "220   You Know My Name (Look Up the Number)   \n",
       "\n",
       "                                                lyrics  \n",
       "0    I Saw Her Standing There Lyrics[Intro: Paul Mc...  \n",
       "1    Misery Lyrics[Intro]\\nThe world is treating me...  \n",
       "2    Anna (Go to Him) Lyrics[Verse 1]\\nAnna\\nYou co...  \n",
       "3    Chains Lyrics[Chorus]\\nChains, my baby's got m...  \n",
       "4    Boys Lyrics[Verse 1]\\nI been told when a boy k...  \n",
       "..                                                 ...  \n",
       "216  The Ballad of John and Yoko Lyrics[Verse 1: Jo...  \n",
       "217  Old Brown Shoe Lyrics[Verse 1]\\nI want a love ...  \n",
       "218  Across the Universe (Wildlife Version) Lyrics[...  \n",
       "219  Let It Be (Single Version) Lyrics[Verse 1]\\nWh...  \n",
       "220  You Know My Name (Look Up the Number) Lyrics[I...  \n",
       "\n",
       "[221 rows x 2 columns]"
      ]
     },
     "execution_count": 10,
     "metadata": {},
     "output_type": "execute_result"
    }
   ],
   "source": [
    "# read in as a DataFrame\n",
    "revolver = pd.read_csv(\"'The-Beatles'_lyrics.csv\")\n",
    "revolver"
   ]
  },
  {
   "cell_type": "code",
   "execution_count": 11,
   "id": "6aab1cec",
   "metadata": {},
   "outputs": [
    {
     "data": {
      "text/plain": [
       "pandas.core.frame.DataFrame"
      ]
     },
     "execution_count": 11,
     "metadata": {},
     "output_type": "execute_result"
    }
   ],
   "source": [
    "type(revolver)"
   ]
  },
  {
   "cell_type": "code",
   "execution_count": 12,
   "id": "27d3352b",
   "metadata": {},
   "outputs": [],
   "source": [
    "revolver?"
   ]
  },
  {
   "cell_type": "markdown",
   "id": "f361f7ab",
   "metadata": {},
   "source": [
    "This is a `DataFrame`. As we see above, we can create one from a `csv` file, but we will also see how we can take a `dict` or `list` and convert it into a `DataFrame` in our next class."
   ]
  },
  {
   "cell_type": "markdown",
   "id": "a37bb979",
   "metadata": {},
   "source": [
    "Now let's take a look at what the output is. We can do that by first selecting the column we want to look at, in this case `lyrics`, and then selecting the row, in this case the first row (index = 0).\n",
    "\n",
    "In `pandas`, there are two ways of selecting a column: \n",
    "* `revolver['lyrics']`\n",
    "* `revolver.lyrics`\n",
    "\n",
    "These will not just produce the same thing, but actually refer to the same process in computer memory.\n",
    "\n",
    "To select a row, we just need to put the index position of the row we want in square brackets after the column, just like in a list. See below:"
   ]
  },
  {
   "cell_type": "code",
   "execution_count": 13,
   "id": "ce2ad4b0",
   "metadata": {},
   "outputs": [
    {
     "data": {
      "text/plain": [
       "0      I Saw Her Standing There Lyrics[Intro: Paul Mc...\n",
       "1      Misery Lyrics[Intro]\\nThe world is treating me...\n",
       "2      Anna (Go to Him) Lyrics[Verse 1]\\nAnna\\nYou co...\n",
       "3      Chains Lyrics[Chorus]\\nChains, my baby's got m...\n",
       "4      Boys Lyrics[Verse 1]\\nI been told when a boy k...\n",
       "                             ...                        \n",
       "216    The Ballad of John and Yoko Lyrics[Verse 1: Jo...\n",
       "217    Old Brown Shoe Lyrics[Verse 1]\\nI want a love ...\n",
       "218    Across the Universe (Wildlife Version) Lyrics[...\n",
       "219    Let It Be (Single Version) Lyrics[Verse 1]\\nWh...\n",
       "220    You Know My Name (Look Up the Number) Lyrics[I...\n",
       "Name: lyrics, Length: 221, dtype: object"
      ]
     },
     "execution_count": 13,
     "metadata": {},
     "output_type": "execute_result"
    }
   ],
   "source": [
    "# selecting a column\n",
    "revolver.lyrics # equivalent to revolver['lyrics']"
   ]
  },
  {
   "cell_type": "code",
   "execution_count": 14,
   "id": "c6954c48",
   "metadata": {},
   "outputs": [
    {
     "data": {
      "text/plain": [
       "'I Saw Her Standing There Lyrics[Intro: Paul McCartney]\\nOne, two, three, four!\\n[Verse 1: Paul McCartney, McCartney & John Lennon]\\nWell, she was just seventeen and you know what I mean\\nAnd the way she looked was way beyond compare\\nSo how could I dance with another? (Oh)\\nWhen I saw her standing there?\\n\\n[Verse 2: Paul McCartney, McCartney & John Lennon]\\nWell, she looked at me, and I, I could see\\nThat before too long, I\\'d fall in love with her\\nShe wouldn\\'t dance with another (Woah)\\nWhen I saw her standing there\\n[Bridge: Paul McCartney & John Lennon]\\nWell, my heart went \"boom\" when I crossed that room\\nAnd I held her hand in mine\\n\\n[Verse 3: Paul McCartney, McCartney & John Lennon]\\nWell, we danced through the night, and we held each other tight\\nAnd before too long, I fell in love with her\\nNow, I\\'ll never dance with another (Woah)\\nSince I saw her standing there\\n\\n[Guitar Solo: George Harrison]\\n\\n[Bridge: Paul McCartney & John Lennon]\\nWell, my heart went \"boom\" when I crossed that room\\nAnd I held her hand in mine\\n\\n[Verse 3: Paul McCartney, McCartney & John Lennon]\\nOh, we danced through the night, and we held each other tight\\nAnd before too long, I fell in love with her\\nNow I\\'ll never dance with another (Oh)\\nSince I saw her standing there\\n\\n[Outro: Paul McCartney & John Lennon]\\nOh, since I saw her standing there\\nYeah, well, since I saw her standing thereYou might also like21Embed'"
      ]
     },
     "execution_count": 14,
     "metadata": {},
     "output_type": "execute_result"
    }
   ],
   "source": [
    "# indexing just like in a list\n",
    "revolver.lyrics[0]"
   ]
  },
  {
   "cell_type": "markdown",
   "id": "556f9d82",
   "metadata": {},
   "source": [
    "This output looks pretty messy. In this case, there is a lot of text that indicates what's going on in the song itself, but all we want is the text of the lyrics. We're going to have to 'clean' it.\n",
    "\n",
    "If you want to continue in computer science, data science or the digital humanities, data cleaning is something you will have to confront. No dataset is perfectly clean and prepared for the task you want to do with it. Instead we can use `pandas` to manipulate the data into any form that is convenient for us to work with.  "
   ]
  },
  {
   "cell_type": "code",
   "execution_count": 15,
   "id": "2d96de57",
   "metadata": {},
   "outputs": [],
   "source": [
    "taxman = revolver.lyrics[0] # make a variable for later"
   ]
  },
  {
   "cell_type": "markdown",
   "id": "2cde57d9",
   "metadata": {},
   "source": [
    "Below I'm going to use a package called `re` or regular expressions. This is a very old programming/text analysis language which we can use in Python to navigate through strings easier. It may look intimidating now, but once you use it more, it will make a lot of sense and it will be clear why it's been around almost as long as computing itself.\n",
    "\n",
    "Nothing is a substitute for learning regex, but I find it difficult to introduce to students because it has a high learning curving. This website: https://www.autoregex.xyz/ is a great tool to get started with regex. It uses state of the art sentence transformers (something we may learn about at the very end of this course) to convert an English prompt into a regular expression. Let's try it now for selecting all of the text between square brackets. "
   ]
  },
  {
   "cell_type": "code",
   "execution_count": 16,
   "id": "3a39b213",
   "metadata": {},
   "outputs": [
    {
     "data": {
      "text/plain": [
       "'I Saw Her Standing There Lyrics\\nOne, two, three, four!\\n\\nWell, she was just seventeen and you know what I mean\\nAnd the way she looked was way beyond compare\\nSo how could I dance with another? (Oh)\\nWhen I saw her standing there?\\n\\n\\nWell, she looked at me, and I, I could see\\nThat before too long, I\\'d fall in love with her\\nShe wouldn\\'t dance with another (Woah)\\nWhen I saw her standing there\\n\\nWell, my heart went \"boom\" when I crossed that room\\nAnd I held her hand in mine\\n\\n\\nWell, we danced through the night, and we held each other tight\\nAnd before too long, I fell in love with her\\nNow, I\\'ll never dance with another (Woah)\\nSince I saw her standing there\\n\\n\\n\\n\\nWell, my heart went \"boom\" when I crossed that room\\nAnd I held her hand in mine\\n\\n\\nOh, we danced through the night, and we held each other tight\\nAnd before too long, I fell in love with her\\nNow I\\'ll never dance with another (Oh)\\nSince I saw her standing there\\n\\n\\nOh, since I saw her standing there\\nYeah, well, since I saw her standing thereYou might also like21Embed'"
      ]
     },
     "execution_count": 16,
     "metadata": {},
     "output_type": "execute_result"
    }
   ],
   "source": [
    "# let's get rid of all of the text between square brackets\n",
    "import re \n",
    "re.sub('(\\[.*\\])','',taxman)"
   ]
  },
  {
   "cell_type": "markdown",
   "id": "59320b88",
   "metadata": {},
   "source": [
    "Let's break that down:\n",
    "* re.sub: This is the substitute function in `re`. It works very similarly to `replace` in Python. It takes three arguments which are below\n",
    "* Argument 1: a pattern or what's sometimes called a 'regular expression'. This is just a string, but to the `re` package it means something more. Taking a closer look at this one:\n",
    "\n",
    "`(`: opens capture group\n",
    "\n",
    "`\\[`: looks for the `[` character, as we know the square bracket has meaning in Python (and other programming languages) so we need to add the backslash to tell `re` that we are looking for the square bracket and not creating a Python list\n",
    "\n",
    "`.*`: looks for any character as many times as possible\n",
    "\n",
    "`\\]`: again we have to use the backslash to specify that we are looking for the end bracket character\n",
    "\n",
    "`)`: ends capture group\n",
    "\n",
    "* Argument 2: a replacement string, that is what do we want to substitute our pattern with\n",
    "* Argument 3: the string we want to change\n",
    "\n",
    "Another great regex tool is https://regex101.com/ which allows you to test different patterns to make sure that you are matching what you want to be matching. Both this site and the other one from above are great tools for getting started with regex, but no website or algorithm can replace the practice needed to master regex."
   ]
  },
  {
   "cell_type": "code",
   "execution_count": 17,
   "id": "e725f63c",
   "metadata": {},
   "outputs": [
    {
     "data": {
      "text/plain": [
       "['One, two, three, four!',\n",
       " '',\n",
       " 'Well, she was just seventeen and you know what I mean',\n",
       " 'And the way she looked was way beyond compare',\n",
       " 'So how could I dance with another? (Oh)',\n",
       " 'When I saw her standing there?',\n",
       " '',\n",
       " '',\n",
       " 'Well, she looked at me, and I, I could see',\n",
       " \"That before too long, I'd fall in love with her\",\n",
       " \"She wouldn't dance with another (Woah)\",\n",
       " 'When I saw her standing there',\n",
       " '',\n",
       " 'Well, my heart went \"boom\" when I crossed that room',\n",
       " 'And I held her hand in mine',\n",
       " '',\n",
       " '',\n",
       " 'Well, we danced through the night, and we held each other tight',\n",
       " 'And before too long, I fell in love with her',\n",
       " \"Now, I'll never dance with another (Woah)\",\n",
       " 'Since I saw her standing there',\n",
       " '',\n",
       " '',\n",
       " '',\n",
       " '',\n",
       " 'Well, my heart went \"boom\" when I crossed that room',\n",
       " 'And I held her hand in mine',\n",
       " '',\n",
       " '',\n",
       " 'Oh, we danced through the night, and we held each other tight',\n",
       " 'And before too long, I fell in love with her',\n",
       " \"Now I'll never dance with another (Oh)\",\n",
       " 'Since I saw her standing there',\n",
       " '',\n",
       " '',\n",
       " 'Oh, since I saw her standing there',\n",
       " 'Yeah, well, since I saw her standing thereYou might also like21Embed']"
      ]
     },
     "execution_count": 17,
     "metadata": {},
     "output_type": "execute_result"
    }
   ],
   "source": [
    "# what else? well, let's get rid of the 'Taxman Lyrics' at the beginning\n",
    "# we see it's followed by a new line (\\n), so we can split on that character\n",
    "# this has the added benefit of removing all of the new line characters (\\n)\n",
    "re.sub('(\\[.*\\])','',taxman).split('\\n')[1:]"
   ]
  },
  {
   "cell_type": "code",
   "execution_count": 18,
   "id": "325ad94f",
   "metadata": {},
   "outputs": [
    {
     "data": {
      "text/plain": [
       "'One, two, three, four!  Well, she was just seventeen and you know what I mean And the way she looked was way beyond compare So how could I dance with another? (Oh) When I saw her standing there?   Well, she looked at me, and I, I could see That before too long, I\\'d fall in love with her She wouldn\\'t dance with another (Woah) When I saw her standing there  Well, my heart went \"boom\" when I crossed that room And I held her hand in mine   Well, we danced through the night, and we held each other tight And before too long, I fell in love with her Now, I\\'ll never dance with another (Woah) Since I saw her standing there     Well, my heart went \"boom\" when I crossed that room And I held her hand in mine   Oh, we danced through the night, and we held each other tight And before too long, I fell in love with her Now I\\'ll never dance with another (Oh) Since I saw her standing there   Oh, since I saw her standing there Yeah, well, since I saw her standing thereYou might also like21Embed'"
      ]
     },
     "execution_count": 18,
     "metadata": {},
     "output_type": "execute_result"
    }
   ],
   "source": [
    "# turn the list back into a string\n",
    "taxman_clean = ' '.join(re.sub('(\\[.*\\])','',taxman).split('\\n')[1:])\n",
    "taxman_clean"
   ]
  },
  {
   "cell_type": "code",
   "execution_count": 19,
   "id": "9a9ed461",
   "metadata": {},
   "outputs": [
    {
     "data": {
      "text/plain": [
       "'One, two, three, four!  Well, she was just seventeen and you know what I mean And the way she looked was way beyond compare So how could I dance with another? (Oh) When I saw her standing there?   Well, she looked at me, and I, I could see That before too long, I\\'d fall in love with her She wouldn\\'t dance with another (Woah) When I saw her standing there  Well, my heart went \"boom\" when I crossed that room And I held her hand in mine   Well, we danced through the night, and we held each other tight And before too long, I fell in love with her Now, I\\'ll never dance with another (Woah) Since I saw her standing there     Well, my heart went \"boom\" when I crossed that room And I held her hand in mine   Oh, we danced through the night, and we held each other tight And before too long, I fell in love with her Now I\\'ll never dance with another (Oh) Since I saw her standing there   Oh, since I saw her standing there Yeah, well, since I saw her standing thereYou might also like'"
      ]
     },
     "execution_count": 19,
     "metadata": {},
     "output_type": "execute_result"
    }
   ],
   "source": [
    "# the last thing is the weird '10Embed' thing\n",
    "# let's make a new regular expression for that\n",
    "re.sub('\\d+Embed','',taxman_clean) # \\d means any digit, + means any amount of times"
   ]
  },
  {
   "cell_type": "code",
   "execution_count": 20,
   "id": "7b4caab0",
   "metadata": {},
   "outputs": [
    {
     "data": {
      "text/plain": [
       "'One, two, three, four!  Well, she was just seventeen and you know what I mean And the way she looked was way beyond compare So how could I dance with another? (Oh) When I saw her standing there?   Well, she looked at me, and I, I could see That before too long, I\\'d fall in love with her She wouldn\\'t dance with another (Woah) When I saw her standing there  Well, my heart went \"boom\" when I crossed that room And I held her hand in mine   Well, we danced through the night, and we held each other tight And before too long, I fell in love with her Now, I\\'ll never dance with another (Woah) Since I saw her standing there     Well, my heart went \"boom\" when I crossed that room And I held her hand in mine   Oh, we danced through the night, and we held each other tight And before too long, I fell in love with her Now I\\'ll never dance with another (Oh) Since I saw her standing there   Oh, since I saw her standing there Yeah, well, since I saw her standing thereYou might also like'"
      ]
     },
     "execution_count": 20,
     "metadata": {},
     "output_type": "execute_result"
    }
   ],
   "source": [
    "taxman_clean = re.sub('\\d+Embed','',taxman_clean)\n",
    "taxman_clean"
   ]
  },
  {
   "cell_type": "code",
   "execution_count": 21,
   "id": "579a524c",
   "metadata": {},
   "outputs": [],
   "source": [
    "# now turn it into a function so we can try it out on other songs\n",
    "def clean_lyrics(lyrics):\n",
    "    clean = re.sub('(\\[.*\\])','',lyrics).split('\\n')[1:]\n",
    "    clean = ' '.join(clean)\n",
    "    clean = re.sub('\\d+Embed','',clean)\n",
    "    return clean.strip() # strip takes out any leading or ending spaces"
   ]
  },
  {
   "cell_type": "code",
   "execution_count": 22,
   "id": "9c9a1d99",
   "metadata": {},
   "outputs": [
    {
     "data": {
      "text/plain": [
       "\"The world is treating me bad, misery   I'm the kind of guy Who never used to cry The world is treating me bad, misery   I've lost her now for sure I won't see her no more It's gonna be a drag, misery  I'll remember all the little things we've done Can't she see she'll always be the only one, only one  Send her back to me 'Cause everyone can see Without her I will be in misery  I'll remember all the little things we've done She’ll remember and she’ll miss her only one, lonely one  Send her back to me 'Cause everyone can see Without her I will be in misery (Oh oh oh) In misery (Ooh ooh) My misery (La la la la la la) MiseryYou might also like\""
      ]
     },
     "execution_count": 22,
     "metadata": {},
     "output_type": "execute_result"
    }
   ],
   "source": [
    "# works for Eleanor Rigby!\n",
    "clean_lyrics(revolver.lyrics[1])"
   ]
  },
  {
   "cell_type": "markdown",
   "id": "11c997f7",
   "metadata": {},
   "source": [
    "In fact, this function will work for all of the songs in our `DataFrame`. And this is a very common pattern to confront in data cleaning: you'll have a column of unclean text and a function that will clean it. Thankfully, `pandas` gives us a method, called `apply`, that will apply this `clean_lyrics` function to every row in our `lyrics` column."
   ]
  },
  {
   "cell_type": "code",
   "execution_count": 23,
   "id": "f05153b0",
   "metadata": {},
   "outputs": [
    {
     "ename": "TypeError",
     "evalue": "expected string or bytes-like object",
     "output_type": "error",
     "traceback": [
      "\u001b[1;31m---------------------------------------------------------------------------\u001b[0m",
      "\u001b[1;31mTypeError\u001b[0m                                 Traceback (most recent call last)",
      "Input \u001b[1;32mIn [23]\u001b[0m, in \u001b[0;36m<cell line: 1>\u001b[1;34m()\u001b[0m\n\u001b[1;32m----> 1\u001b[0m \u001b[43mrevolver\u001b[49m\u001b[38;5;241;43m.\u001b[39;49m\u001b[43mlyrics\u001b[49m\u001b[38;5;241;43m.\u001b[39;49m\u001b[43mapply\u001b[49m\u001b[43m(\u001b[49m\u001b[43mclean_lyrics\u001b[49m\u001b[43m)\u001b[49m\n",
      "File \u001b[1;32m~\\anaconda3\\lib\\site-packages\\pandas\\core\\series.py:4433\u001b[0m, in \u001b[0;36mSeries.apply\u001b[1;34m(self, func, convert_dtype, args, **kwargs)\u001b[0m\n\u001b[0;32m   4323\u001b[0m \u001b[38;5;28;01mdef\u001b[39;00m \u001b[38;5;21mapply\u001b[39m(\n\u001b[0;32m   4324\u001b[0m     \u001b[38;5;28mself\u001b[39m,\n\u001b[0;32m   4325\u001b[0m     func: AggFuncType,\n\u001b[1;32m   (...)\u001b[0m\n\u001b[0;32m   4328\u001b[0m     \u001b[38;5;241m*\u001b[39m\u001b[38;5;241m*\u001b[39mkwargs,\n\u001b[0;32m   4329\u001b[0m ) \u001b[38;5;241m-\u001b[39m\u001b[38;5;241m>\u001b[39m DataFrame \u001b[38;5;241m|\u001b[39m Series:\n\u001b[0;32m   4330\u001b[0m     \u001b[38;5;124;03m\"\"\"\u001b[39;00m\n\u001b[0;32m   4331\u001b[0m \u001b[38;5;124;03m    Invoke function on values of Series.\u001b[39;00m\n\u001b[0;32m   4332\u001b[0m \n\u001b[1;32m   (...)\u001b[0m\n\u001b[0;32m   4431\u001b[0m \u001b[38;5;124;03m    dtype: float64\u001b[39;00m\n\u001b[0;32m   4432\u001b[0m \u001b[38;5;124;03m    \"\"\"\u001b[39;00m\n\u001b[1;32m-> 4433\u001b[0m     \u001b[38;5;28;01mreturn\u001b[39;00m \u001b[43mSeriesApply\u001b[49m\u001b[43m(\u001b[49m\u001b[38;5;28;43mself\u001b[39;49m\u001b[43m,\u001b[49m\u001b[43m \u001b[49m\u001b[43mfunc\u001b[49m\u001b[43m,\u001b[49m\u001b[43m \u001b[49m\u001b[43mconvert_dtype\u001b[49m\u001b[43m,\u001b[49m\u001b[43m \u001b[49m\u001b[43margs\u001b[49m\u001b[43m,\u001b[49m\u001b[43m \u001b[49m\u001b[43mkwargs\u001b[49m\u001b[43m)\u001b[49m\u001b[38;5;241;43m.\u001b[39;49m\u001b[43mapply\u001b[49m\u001b[43m(\u001b[49m\u001b[43m)\u001b[49m\n",
      "File \u001b[1;32m~\\anaconda3\\lib\\site-packages\\pandas\\core\\apply.py:1082\u001b[0m, in \u001b[0;36mSeriesApply.apply\u001b[1;34m(self)\u001b[0m\n\u001b[0;32m   1078\u001b[0m \u001b[38;5;28;01mif\u001b[39;00m \u001b[38;5;28misinstance\u001b[39m(\u001b[38;5;28mself\u001b[39m\u001b[38;5;241m.\u001b[39mf, \u001b[38;5;28mstr\u001b[39m):\n\u001b[0;32m   1079\u001b[0m     \u001b[38;5;66;03m# if we are a string, try to dispatch\u001b[39;00m\n\u001b[0;32m   1080\u001b[0m     \u001b[38;5;28;01mreturn\u001b[39;00m \u001b[38;5;28mself\u001b[39m\u001b[38;5;241m.\u001b[39mapply_str()\n\u001b[1;32m-> 1082\u001b[0m \u001b[38;5;28;01mreturn\u001b[39;00m \u001b[38;5;28;43mself\u001b[39;49m\u001b[38;5;241;43m.\u001b[39;49m\u001b[43mapply_standard\u001b[49m\u001b[43m(\u001b[49m\u001b[43m)\u001b[49m\n",
      "File \u001b[1;32m~\\anaconda3\\lib\\site-packages\\pandas\\core\\apply.py:1137\u001b[0m, in \u001b[0;36mSeriesApply.apply_standard\u001b[1;34m(self)\u001b[0m\n\u001b[0;32m   1131\u001b[0m         values \u001b[38;5;241m=\u001b[39m obj\u001b[38;5;241m.\u001b[39mastype(\u001b[38;5;28mobject\u001b[39m)\u001b[38;5;241m.\u001b[39m_values\n\u001b[0;32m   1132\u001b[0m         \u001b[38;5;66;03m# error: Argument 2 to \"map_infer\" has incompatible type\u001b[39;00m\n\u001b[0;32m   1133\u001b[0m         \u001b[38;5;66;03m# \"Union[Callable[..., Any], str, List[Union[Callable[..., Any], str]],\u001b[39;00m\n\u001b[0;32m   1134\u001b[0m         \u001b[38;5;66;03m# Dict[Hashable, Union[Union[Callable[..., Any], str],\u001b[39;00m\n\u001b[0;32m   1135\u001b[0m         \u001b[38;5;66;03m# List[Union[Callable[..., Any], str]]]]]\"; expected\u001b[39;00m\n\u001b[0;32m   1136\u001b[0m         \u001b[38;5;66;03m# \"Callable[[Any], Any]\"\u001b[39;00m\n\u001b[1;32m-> 1137\u001b[0m         mapped \u001b[38;5;241m=\u001b[39m \u001b[43mlib\u001b[49m\u001b[38;5;241;43m.\u001b[39;49m\u001b[43mmap_infer\u001b[49m\u001b[43m(\u001b[49m\n\u001b[0;32m   1138\u001b[0m \u001b[43m            \u001b[49m\u001b[43mvalues\u001b[49m\u001b[43m,\u001b[49m\n\u001b[0;32m   1139\u001b[0m \u001b[43m            \u001b[49m\u001b[43mf\u001b[49m\u001b[43m,\u001b[49m\u001b[43m  \u001b[49m\u001b[38;5;66;43;03m# type: ignore[arg-type]\u001b[39;49;00m\n\u001b[0;32m   1140\u001b[0m \u001b[43m            \u001b[49m\u001b[43mconvert\u001b[49m\u001b[38;5;241;43m=\u001b[39;49m\u001b[38;5;28;43mself\u001b[39;49m\u001b[38;5;241;43m.\u001b[39;49m\u001b[43mconvert_dtype\u001b[49m\u001b[43m,\u001b[49m\n\u001b[0;32m   1141\u001b[0m \u001b[43m        \u001b[49m\u001b[43m)\u001b[49m\n\u001b[0;32m   1143\u001b[0m \u001b[38;5;28;01mif\u001b[39;00m \u001b[38;5;28mlen\u001b[39m(mapped) \u001b[38;5;129;01mand\u001b[39;00m \u001b[38;5;28misinstance\u001b[39m(mapped[\u001b[38;5;241m0\u001b[39m], ABCSeries):\n\u001b[0;32m   1144\u001b[0m     \u001b[38;5;66;03m# GH#43986 Need to do list(mapped) in order to get treated as nested\u001b[39;00m\n\u001b[0;32m   1145\u001b[0m     \u001b[38;5;66;03m#  See also GH#25959 regarding EA support\u001b[39;00m\n\u001b[0;32m   1146\u001b[0m     \u001b[38;5;28;01mreturn\u001b[39;00m obj\u001b[38;5;241m.\u001b[39m_constructor_expanddim(\u001b[38;5;28mlist\u001b[39m(mapped), index\u001b[38;5;241m=\u001b[39mobj\u001b[38;5;241m.\u001b[39mindex)\n",
      "File \u001b[1;32m~\\anaconda3\\lib\\site-packages\\pandas\\_libs\\lib.pyx:2870\u001b[0m, in \u001b[0;36mpandas._libs.lib.map_infer\u001b[1;34m()\u001b[0m\n",
      "Input \u001b[1;32mIn [21]\u001b[0m, in \u001b[0;36mclean_lyrics\u001b[1;34m(lyrics)\u001b[0m\n\u001b[0;32m      2\u001b[0m \u001b[38;5;28;01mdef\u001b[39;00m \u001b[38;5;21mclean_lyrics\u001b[39m(lyrics):\n\u001b[1;32m----> 3\u001b[0m     clean \u001b[38;5;241m=\u001b[39m \u001b[43mre\u001b[49m\u001b[38;5;241;43m.\u001b[39;49m\u001b[43msub\u001b[49m\u001b[43m(\u001b[49m\u001b[38;5;124;43m'\u001b[39;49m\u001b[38;5;124;43m(\u001b[39;49m\u001b[38;5;124;43m\\\u001b[39;49m\u001b[38;5;124;43m[.*\u001b[39;49m\u001b[38;5;124;43m\\\u001b[39;49m\u001b[38;5;124;43m])\u001b[39;49m\u001b[38;5;124;43m'\u001b[39;49m\u001b[43m,\u001b[49m\u001b[38;5;124;43m'\u001b[39;49m\u001b[38;5;124;43m'\u001b[39;49m\u001b[43m,\u001b[49m\u001b[43mlyrics\u001b[49m\u001b[43m)\u001b[49m\u001b[38;5;241m.\u001b[39msplit(\u001b[38;5;124m'\u001b[39m\u001b[38;5;130;01m\\n\u001b[39;00m\u001b[38;5;124m'\u001b[39m)[\u001b[38;5;241m1\u001b[39m:]\n\u001b[0;32m      4\u001b[0m     clean \u001b[38;5;241m=\u001b[39m \u001b[38;5;124m'\u001b[39m\u001b[38;5;124m \u001b[39m\u001b[38;5;124m'\u001b[39m\u001b[38;5;241m.\u001b[39mjoin(clean)\n\u001b[0;32m      5\u001b[0m     clean \u001b[38;5;241m=\u001b[39m re\u001b[38;5;241m.\u001b[39msub(\u001b[38;5;124m'\u001b[39m\u001b[38;5;124m\\\u001b[39m\u001b[38;5;124md+Embed\u001b[39m\u001b[38;5;124m'\u001b[39m,\u001b[38;5;124m'\u001b[39m\u001b[38;5;124m'\u001b[39m,clean)\n",
      "File \u001b[1;32m~\\anaconda3\\lib\\re.py:210\u001b[0m, in \u001b[0;36msub\u001b[1;34m(pattern, repl, string, count, flags)\u001b[0m\n\u001b[0;32m    203\u001b[0m \u001b[38;5;28;01mdef\u001b[39;00m \u001b[38;5;21msub\u001b[39m(pattern, repl, string, count\u001b[38;5;241m=\u001b[39m\u001b[38;5;241m0\u001b[39m, flags\u001b[38;5;241m=\u001b[39m\u001b[38;5;241m0\u001b[39m):\n\u001b[0;32m    204\u001b[0m     \u001b[38;5;124;03m\"\"\"Return the string obtained by replacing the leftmost\u001b[39;00m\n\u001b[0;32m    205\u001b[0m \u001b[38;5;124;03m    non-overlapping occurrences of the pattern in string by the\u001b[39;00m\n\u001b[0;32m    206\u001b[0m \u001b[38;5;124;03m    replacement repl.  repl can be either a string or a callable;\u001b[39;00m\n\u001b[0;32m    207\u001b[0m \u001b[38;5;124;03m    if a string, backslash escapes in it are processed.  If it is\u001b[39;00m\n\u001b[0;32m    208\u001b[0m \u001b[38;5;124;03m    a callable, it's passed the Match object and must return\u001b[39;00m\n\u001b[0;32m    209\u001b[0m \u001b[38;5;124;03m    a replacement string to be used.\"\"\"\u001b[39;00m\n\u001b[1;32m--> 210\u001b[0m     \u001b[38;5;28;01mreturn\u001b[39;00m \u001b[43m_compile\u001b[49m\u001b[43m(\u001b[49m\u001b[43mpattern\u001b[49m\u001b[43m,\u001b[49m\u001b[43m \u001b[49m\u001b[43mflags\u001b[49m\u001b[43m)\u001b[49m\u001b[38;5;241;43m.\u001b[39;49m\u001b[43msub\u001b[49m\u001b[43m(\u001b[49m\u001b[43mrepl\u001b[49m\u001b[43m,\u001b[49m\u001b[43m \u001b[49m\u001b[43mstring\u001b[49m\u001b[43m,\u001b[49m\u001b[43m \u001b[49m\u001b[43mcount\u001b[49m\u001b[43m)\u001b[49m\n",
      "\u001b[1;31mTypeError\u001b[0m: expected string or bytes-like object"
     ]
    }
   ],
   "source": [
    "revolver.lyrics.apply(clean_lyrics) # apply takes a function as an argument"
   ]
  },
  {
   "cell_type": "code",
   "execution_count": 23,
   "id": "3fdc58cf",
   "metadata": {},
   "outputs": [
    {
     "data": {
      "text/plain": [
       "\"When I wake up early in the morning Lift my head, I'm still yawning When I'm in the middle of a dream Stay in bed, float up stream (Float up stream)   Please, don't wake me, no, don't shake me Leave me where I am, I'm only sleeping   Everybody seems to think I'm lazy I don't mind, I think they're crazy Running everywhere at such a speed Till they find there's no need (There's no need)  Please, don't spoil my day, I'm miles away And after all, I'm only sleeping     Keeping an eye on the world going by my window Taking my time   Lying there and staring at the ceiling Waiting for a sleepy feeling    Please, don't spoil my day, I'm miles away And after all, I'm only sleeping   Yawn, Paul! *Yawns*   Keeping an eye on the world going by my window Taking my time You might also like When I wake up early in the morning Lift my head, I'm still yawning When I'm in the middle of a dream Stay in bed, float up stream (Float up stream)   Please, don't wake me, no, don't shake me Leave me where I am, I'm only sleeping\""
      ]
     },
     "execution_count": 23,
     "metadata": {},
     "output_type": "execute_result"
    }
   ],
   "source": [
    "revolver.lyrics.apply(clean_lyrics)[2]\n",
    "# etc..."
   ]
  },
  {
   "cell_type": "code",
   "execution_count": 24,
   "id": "96ce58c8",
   "metadata": {},
   "outputs": [],
   "source": [
    "# you can overwrite a column in a DataFrame the same way you would for a variable\n",
    "revolver['lyrics'] = revolver['lyrics'].apply(clean_lyrics)"
   ]
  },
  {
   "cell_type": "code",
   "execution_count": 25,
   "id": "2d9a2a64",
   "metadata": {},
   "outputs": [
    {
     "data": {
      "text/html": [
       "<div>\n",
       "<style scoped>\n",
       "    .dataframe tbody tr th:only-of-type {\n",
       "        vertical-align: middle;\n",
       "    }\n",
       "\n",
       "    .dataframe tbody tr th {\n",
       "        vertical-align: top;\n",
       "    }\n",
       "\n",
       "    .dataframe thead th {\n",
       "        text-align: right;\n",
       "    }\n",
       "</style>\n",
       "<table border=\"1\" class=\"dataframe\">\n",
       "  <thead>\n",
       "    <tr style=\"text-align: right;\">\n",
       "      <th></th>\n",
       "      <th>song_title</th>\n",
       "      <th>lyrics</th>\n",
       "    </tr>\n",
       "  </thead>\n",
       "  <tbody>\n",
       "    <tr>\n",
       "      <th>0</th>\n",
       "      <td>Taxman</td>\n",
       "      <td>One, two, three, four One, two—  (One, two, th...</td>\n",
       "    </tr>\n",
       "    <tr>\n",
       "      <th>1</th>\n",
       "      <td>Eleanor Rig</td>\n",
       "      <td>Ah, look at all the lonely people! Ah, look at...</td>\n",
       "    </tr>\n",
       "    <tr>\n",
       "      <th>2</th>\n",
       "      <td>I'm Only Sleeping</td>\n",
       "      <td>When I wake up early in the morning Lift my he...</td>\n",
       "    </tr>\n",
       "    <tr>\n",
       "      <th>3</th>\n",
       "      <td>Love You To</td>\n",
       "      <td>Each day just goes so fast I turn around, it's...</td>\n",
       "    </tr>\n",
       "    <tr>\n",
       "      <th>4</th>\n",
       "      <td>Here, There and Everywhere</td>\n",
       "      <td>To lead a better life, I need my love to be he...</td>\n",
       "    </tr>\n",
       "    <tr>\n",
       "      <th>5</th>\n",
       "      <td>Yellow Submarine</td>\n",
       "      <td>In the town where I was born Lived a man who s...</td>\n",
       "    </tr>\n",
       "    <tr>\n",
       "      <th>6</th>\n",
       "      <td>She Said She Said</td>\n",
       "      <td>She said, \"I know what it's like to be dead I ...</td>\n",
       "    </tr>\n",
       "    <tr>\n",
       "      <th>7</th>\n",
       "      <td>Good Day Sunshine</td>\n",
       "      <td>Good day sunshine Good day sunshine Good day s...</td>\n",
       "    </tr>\n",
       "    <tr>\n",
       "      <th>8</th>\n",
       "      <td>And Your Bird Can Sing</td>\n",
       "      <td>You tell me that you've got everything you wan...</td>\n",
       "    </tr>\n",
       "    <tr>\n",
       "      <th>9</th>\n",
       "      <td>For No One</td>\n",
       "      <td>Your day breaks, your mind aches You find that...</td>\n",
       "    </tr>\n",
       "    <tr>\n",
       "      <th>10</th>\n",
       "      <td>Doctor Robert</td>\n",
       "      <td>Ring my friend, I said you'd call Doctor Rober...</td>\n",
       "    </tr>\n",
       "    <tr>\n",
       "      <th>11</th>\n",
       "      <td>I Want to Tell You</td>\n",
       "      <td>I want to tell you My head is filled with thin...</td>\n",
       "    </tr>\n",
       "    <tr>\n",
       "      <th>12</th>\n",
       "      <td>Got to Get You into My Life</td>\n",
       "      <td>I was alone, I took a ride I didn't know what ...</td>\n",
       "    </tr>\n",
       "    <tr>\n",
       "      <th>13</th>\n",
       "      <td>Tomorrow Never Knows</td>\n",
       "      <td>Turn off your mind, relax and float downstream...</td>\n",
       "    </tr>\n",
       "  </tbody>\n",
       "</table>\n",
       "</div>"
      ],
      "text/plain": [
       "                     song_title  \\\n",
       "0                        Taxman   \n",
       "1                   Eleanor Rig   \n",
       "2             I'm Only Sleeping   \n",
       "3                   Love You To   \n",
       "4    Here, There and Everywhere   \n",
       "5              Yellow Submarine   \n",
       "6             She Said She Said   \n",
       "7             Good Day Sunshine   \n",
       "8        And Your Bird Can Sing   \n",
       "9                    For No One   \n",
       "10                Doctor Robert   \n",
       "11           I Want to Tell You   \n",
       "12  Got to Get You into My Life   \n",
       "13         Tomorrow Never Knows   \n",
       "\n",
       "                                               lyrics  \n",
       "0   One, two, three, four One, two—  (One, two, th...  \n",
       "1   Ah, look at all the lonely people! Ah, look at...  \n",
       "2   When I wake up early in the morning Lift my he...  \n",
       "3   Each day just goes so fast I turn around, it's...  \n",
       "4   To lead a better life, I need my love to be he...  \n",
       "5   In the town where I was born Lived a man who s...  \n",
       "6   She said, \"I know what it's like to be dead I ...  \n",
       "7   Good day sunshine Good day sunshine Good day s...  \n",
       "8   You tell me that you've got everything you wan...  \n",
       "9   Your day breaks, your mind aches You find that...  \n",
       "10  Ring my friend, I said you'd call Doctor Rober...  \n",
       "11  I want to tell you My head is filled with thin...  \n",
       "12  I was alone, I took a ride I didn't know what ...  \n",
       "13  Turn off your mind, relax and float downstream...  "
      ]
     },
     "execution_count": 25,
     "metadata": {},
     "output_type": "execute_result"
    }
   ],
   "source": [
    "# our (mostly) clean DataFrame\n",
    "revolver"
   ]
  },
  {
   "cell_type": "markdown",
   "id": "0767d3ae",
   "metadata": {},
   "source": [
    "You may have to do more cleaning for your own project. How much or how little we clean is based on what we want to do with the text after it is clean. In the next few classes, we'll learn some advanced techniques in NLP, all of which require a clean text as an input. This walkthrough should get you started on the fundementals, but if you have any questions, specific or general, let me know!\n",
    "\n",
    "Learn more about `pandas`: https://pandas.pydata.org/docs/user_guide/index.html#user-guide\n",
    "\n",
    "Learn more about `re`: https://docs.python.org/3/library/re.html, https://www.rexegg.com/regex-quickstart.html"
   ]
  }
 ],
 "metadata": {
  "kernelspec": {
   "display_name": "Python 3 (ipykernel)",
   "language": "python",
   "name": "python3"
  },
  "language_info": {
   "codemirror_mode": {
    "name": "ipython",
    "version": 3
   },
   "file_extension": ".py",
   "mimetype": "text/x-python",
   "name": "python",
   "nbconvert_exporter": "python",
   "pygments_lexer": "ipython3",
   "version": "3.9.12"
  }
 },
 "nbformat": 4,
 "nbformat_minor": 5
}
