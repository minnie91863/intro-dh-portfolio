{
 "cells": [
  {
   "cell_type": "markdown",
   "id": "8fc2cf62",
   "metadata": {},
   "source": [
    "## Hermeneutic vs Quantitative\n",
    "\n",
    "\n",
    "### Reading Reflection No. 5\n",
    "\n",
    "### 30 November 2022"
   ]
  },
  {
   "cell_type": "markdown",
   "id": "720235e2",
   "metadata": {},
   "source": [
    "The second chapter of Geoffrey Rockwell and Stéfan Sinclair’s Hermeneutica,”The Measured Words: How Computers Analyze Text”, addresses the value and limitations of computer software with Natural Language Processing (NLP), and introduces specific examples within computer programming to illustrate these boundaries. To those who are unfamiliar with computer programming, the introduction of digital technologies into humanities may seem like an overwhelmingly powerful substitution to human skill in the field. However, as Rockwell and Sinclair address in this passage, there are striking limitations to what modern computer programs are capable of, and certain skills may be much more efficient if done by human hands. The same applies for the contrary, in which some tasks are near impossible without the help of computer software. \n",
    "\n",
    "One critical point they bring up is that computers are only capable of interpreting information based on a set of guidelines from an outside input--in this case a human--gives them. Therefore, if the guidelines provided are biased, flawed, or incomplete, the resulting data from text analysis using these guidelines will also contain the same issues. Therefore, a computer is limited in its capabilities by the dataset and by the experience of the person utilizing it. \n",
    "\n",
    "Moreover, computers struggle with distinguishing between connotations and subtleties. Rockwell and Sinclair provide the example of how it’s difficult for computers to “[disambiguate] polysemous words”, such as the word “like”, which can be a verb, preposition, noun, conjunction, adverb, or adjective. This poses a challenge for computer programs when it comes to interpreting meaning in text. For this reason, digital NLP holds an advantage with distant reading (quantitative), where trends and relationships are extracted from large data sets, over close reading (hermeneutic), which demands deeper interpretation based on a background and wealth of world experience.  \n",
    "\n",
    "This passage thus poses questions on defining the advantages and disadvantages of NLP. How can researchers best utilize NLP programs in considering overarching ideas that may not be immediately evident in a body of text? What considerations should these researchers take, therefore, in understanding how the quality and context of the given dataset will affect their extracted results? In approaching NLP with these questions in mind, text analysis can be an extremely powerful tool, provided that their results are interpreted holistically. \n"
   ]
  },
  {
   "cell_type": "code",
   "execution_count": null,
   "id": "4156159b",
   "metadata": {},
   "outputs": [],
   "source": []
  }
 ],
 "metadata": {
  "kernelspec": {
   "display_name": "Python 3 (ipykernel)",
   "language": "python",
   "name": "python3"
  },
  "language_info": {
   "codemirror_mode": {
    "name": "ipython",
    "version": 3
   },
   "file_extension": ".py",
   "mimetype": "text/x-python",
   "name": "python",
   "nbconvert_exporter": "python",
   "pygments_lexer": "ipython3",
   "version": "3.9.13"
  }
 },
 "nbformat": 4,
 "nbformat_minor": 5
}
