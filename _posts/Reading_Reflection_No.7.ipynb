{
 "cells": [
  {
   "cell_type": "markdown",
   "id": "05042b4a",
   "metadata": {},
   "source": [
    "## Topic Modeling in DH\n",
    "\n",
    "\n",
    "### Reading Reflection No. 7\n",
    "\n",
    "### 1 December 2022"
   ]
  },
  {
   "cell_type": "markdown",
   "id": "e5620e06",
   "metadata": {},
   "source": [
    "Source: Blei, David. “Topic Modeling and Digital Humanities.” Journal of Digital Humanities. http://journalofdigitalhumanities.org/2-1/topic-modeling-and-digital-humanities-by-david-m-blei/"
   ]
  },
  {
   "cell_type": "markdown",
   "id": "ffe9914b",
   "metadata": {},
   "source": [
    "This passage, “Topic Modeling and Digital Humanities”, offers a succinct and informative summary of topic modeling and how it may be beneficial in the field of digital humanities. David Blei formally defines topic modeling as “a suite of algorithms to discover hidden thematic structure in large collections of text”. In other words, topic modeling is an effective strategy to conduct distant reading on large bodies of text. It can help to isolate key topics by grouping terminology commonly found together (Blei uses the example of “film and politics”. In understanding this, it’s important to consider that topic modeling is in no way a method of analysis; instead, topic modeling is simply a method of grouping together ideas found in a body of text. It is thus up to the reader to conduct closer reading on interpreting the significance behind why certain terms are grouped together, or to use the extracted data to navigate to certain sections of the text that may offer relevant information. \n",
    " \n",
    "Blei also introduces the field of “probabilistic modeling” in this reading, where he unpacks the larger technical background of topic modeling in relation to statistics. He introduces LDA, which essentially performs the reverse of topic modeling, where, if given a body of text, can hypothesize what topical structures could generate it. Blei continues to explore the algorithmic technicalities in topic modeling, noting the many complex details that need to be considered when generating these groupings. By understanding how challenging defining these groupings are, one can better appreciate and consider how accurate using topic modeling would be in backing theories developed in the humanities. \n",
    " \n",
    "Much like the other readings in this course, Blei mentions the caveat that there still must be an experienced humanities scholar to interpret the information that topic modeling can provide. These statistical models cannot be used as evidence for a theory, but instead as a resource that helps guide areas of study in narrowing down what information may or may not be relevant. The backing architecture of the topic model may also greatly impact the results, and, therefore, must be constructed mindfully. To what extent can topic modeling assist humanities research, and what consequences may arise if poorly-developed topic models are depended on in understanding human activity? Just like any other technology in NLP, only educated intentions can bring about educational results.\n"
   ]
  },
  {
   "cell_type": "code",
   "execution_count": null,
   "id": "c6f4558c",
   "metadata": {},
   "outputs": [],
   "source": []
  }
 ],
 "metadata": {
  "kernelspec": {
   "display_name": "Python 3 (ipykernel)",
   "language": "python",
   "name": "python3"
  },
  "language_info": {
   "codemirror_mode": {
    "name": "ipython",
    "version": 3
   },
   "file_extension": ".py",
   "mimetype": "text/x-python",
   "name": "python",
   "nbconvert_exporter": "python",
   "pygments_lexer": "ipython3",
   "version": "3.9.13"
  }
 },
 "nbformat": 4,
 "nbformat_minor": 5
}
