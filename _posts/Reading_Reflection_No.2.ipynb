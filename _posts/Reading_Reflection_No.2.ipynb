{
 "cells": [
  {
   "cell_type": "markdown",
   "id": "1013152a",
   "metadata": {},
   "source": [
    "## The Exponential Growth of Documentation: Vannear Bush’s Insight in “As We May Think”\n",
    "\n",
    "### Reading Reflection No.2\n",
    "\n",
    "### 11 October 2022\n",
    "\n",
    "https://www.theatlantic.com/magazine/archive/1945/07/as-we-may-think/303881/\n",
    "\n",
    "In Vannevar Bush’s article, “As We May Think” in The Atlantic, published in 1945, the author questions the heightened pace at which research and information spreads, and the resulting lack of technologies that were available at the time to record and account for all the new information. It’s important to note the time period in which this article was written and published—right at the end of an analogue era, but before digital technologies were available. Bush predicts that the future will include new methodologies to record data. For the majority of the article, he provides examples of how technologies have rapidly replaced each other, from how photos were originally taken and developed, to the invention of the radio, telephone, and television. He opines with some anxiety that current research will be lost due to recording and information technologies not keeping up, and I find that these observations for a post-war era still remain relevant to the current day. \n",
    "\n",
    "Bush mentions that “the difficulty seems to be; not so much that we publish unduly in view of the extend and variety of present-day interests, but rather that publication has been extended far beyond our present ability to make real use off the record”. He then continues to spend the rest of the article offering example after example of different ways human technologies have developed to compress information further and further. I find that his awe and worry about the abundance of information to be comparable to how one may view the vast expanse of information now freely available to those who have access to the Internet. \n",
    "\n",
    "Bush continues to consider the methods in which humans to record information about ourselves as inefficient and “clumsy” at times. He compares the punch card mechanisms of early-stage computing to be far more efficient, providing examples of how much more rapidly they were able to make mathematical computations. I consider his observations to be interesting because for me, in the year 2022, they seem intuitive and obvious. However, it’s clear that in our history these trends were not always the norm. This way of thinking—of considering information processing improvements in a societal perspective—only began because of the technological improvements that Bush likely lived through. He neglects to consider, however, that our advances are constructed by ourselves, and would ultimately always improve to meet out own informational needs, despite their objective nature. \n",
    "\n",
    "From his observations, it would be narrow-minded of me to suggest that the technological growth of the modern day and these assumptions that there will never be a limiting factor to how much information we can consume are absolute truths. If anything, this reading clearly exemplifies that it is impossible to accurately define what may be needed for the future using current contexts. What will be, if any, the next version of digital humanities? Considering that this field relies on the use of the digital, we can only imagine what will replace this “digital” notion of computing. Is it so unfortunate that not all information will be available to those who can comprehend it, and that, ultimately, society-defining research that may be lost? The pace of technological development is directly scaled to what we are capable of producing. Although some information may be lost in this race, it will almost always be the case that the information we will need will come when we need it. \n",
    "\n",
    "\n"
   ]
  },
  {
   "cell_type": "code",
   "execution_count": null,
   "id": "6cc5c8be",
   "metadata": {},
   "outputs": [],
   "source": []
  }
 ],
 "metadata": {
  "kernelspec": {
   "display_name": "Python 3 (ipykernel)",
   "language": "python",
   "name": "python3"
  },
  "language_info": {
   "codemirror_mode": {
    "name": "ipython",
    "version": 3
   },
   "file_extension": ".py",
   "mimetype": "text/x-python",
   "name": "python",
   "nbconvert_exporter": "python",
   "pygments_lexer": "ipython3",
   "version": "3.9.13"
  }
 },
 "nbformat": 4,
 "nbformat_minor": 5
}
