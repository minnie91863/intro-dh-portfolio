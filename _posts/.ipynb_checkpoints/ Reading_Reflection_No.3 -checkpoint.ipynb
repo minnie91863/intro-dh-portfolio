{
 "cells": [
  {
   "cell_type": "markdown",
   "id": "2b974ddd",
   "metadata": {},
   "source": [
    "## Considering Context in Historiography: Gibbon's \"Decline and Fall\n",
    "\n",
    "### Reading Reflection No.3\n",
    "\n",
    "### 5 December 2022"
   ]
  },
  {
   "cell_type": "markdown",
   "id": "1e459580",
   "metadata": {},
   "source": [
    "Source:\n",
    "\n",
    "Pocock, J. G. A. “An Overview of The Decline and Fall of the Roman Empire.” In The Cambridge Companion to Edward Gibbon, edited by Brian Young and Karen O’Brien, 20–40. Cambridge: Cambridge University Press, 2018.\n"
   ]
  },
  {
   "cell_type": "markdown",
   "id": "958f1e44",
   "metadata": {},
   "source": [
    "J . G. A. Pocock summarizes the entirety of Gibbon’s The Decline and Fall of the Roman Empire in his passage, “An Overview of The Decline and Fall” while commenting on Gibbon’s voice and approach to specific historical events. As someone who has little experience in classics, theology,  and general world history fields, this summarized version still proved to be a challenging read in understanding the scope and significance  of Gibbon’s work. To my comprehension, there is no core issue or question the author attempts to address in the reading, and instead analyzes how Gibbon’s specific method of documenting history relates to other contexts we are now aware of today. This overview is  a study not of the history that Gibbon addresses, but rather of this history Gibbon partook in as the author for his Decline and Fall as a precursor for the modern understanding of the history of the Roman Empire. \n",
    "\n",
    "Much of the passage informatively covers the evolution of religion in relation to the history covered by Gibbon, and how these narratives were “constantly implicit in the modern history in which he perceived the setting for his work” (23). Pocock describes Gibbon’s text as involved in “Hanoverian ecclesiology”, which contrasts his considerations that iconoclasm similar to those of eastern religion, as superstitious. Gibbon’s perspective, therefore, focused on the “western and Latin, rather than Greek or oriental” (27), as Pocock considers. The author attempts to, in many aspects of Gibbon’s documentation, to rationalize his writings by contextualizing Gibbon’s own history. However, many of these reflections remain vague and ambivalent.\n",
    "\n",
    "An important aspect to consider in reading this overview is how it relates to digital humanities, and what kind of impact it may have on Gibbon studies. While this body of text is not an example of a digital humanities project, it is a clear attempt at a combination of a close and distant read of The Decline and Fall. Thus, we can compare Pocock’s observations to what can be quantitatively observed through some Natural Language Processing, or NLP. Do Pocock’s understandings correspond to what a machine may observe from scraping Gibbon’s text? Summaries such as these are beneficial in better comprehending large historical texts such as The Decline and Fall, and, when referenced in tandem with numerical data describing the work, can prove to be a wonderfully holistic interpretation.\n"
   ]
  },
  {
   "cell_type": "code",
   "execution_count": null,
   "id": "aed1bdde",
   "metadata": {},
   "outputs": [],
   "source": []
  }
 ],
 "metadata": {
  "kernelspec": {
   "display_name": "Python 3 (ipykernel)",
   "language": "python",
   "name": "python3"
  },
  "language_info": {
   "codemirror_mode": {
    "name": "ipython",
    "version": 3
   },
   "file_extension": ".py",
   "mimetype": "text/x-python",
   "name": "python",
   "nbconvert_exporter": "python",
   "pygments_lexer": "ipython3",
   "version": "3.9.13"
  }
 },
 "nbformat": 4,
 "nbformat_minor": 5
}
