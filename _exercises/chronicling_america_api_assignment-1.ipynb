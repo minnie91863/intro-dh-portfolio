{
 "cells": [
  {
   "cell_type": "markdown",
   "metadata": {},
   "source": [
    "# Chronicling America API Assignment\n",
    "In this assignment, you are tasked with:\n",
    "* searching Chronicling America's API for a key word of your choice\n",
    "* parsing your results from a dictionary to a `DataFrame` with headings \"title\", \"city\", 'date\", and \"raw_text\"\n",
    "* processing the raw text by removing \"\\n\" characters, stopwords, and then lemmatizing the raw text before adding it to a new column called \"lemmas.\"\n",
    "* saving your `DataFrame` to a csv file\n",
    "\n",
    "If you need any help with this assignment please email micah.saxton@tufts.edu\n"
   ]
  },
  {
   "cell_type": "code",
   "execution_count": 1,
   "metadata": {},
   "outputs": [],
   "source": [
    "# imports\n",
    "import pandas as pd\n",
    "import requests\n",
    "import json"
   ]
  },
  {
   "cell_type": "code",
   "execution_count": 2,
   "metadata": {},
   "outputs": [],
   "source": [
    "# initial search\n",
    "url = 'https://chroniclingamerica.loc.gov/search/pages/results/?state=&date1=1945&date2=1963&proxtext=socialism&x=16&y=8&dateFilterType=yearRange&rows=20&searchType=basic&format=json'\n",
    "response = requests.get(url)\n",
    "raw = response.text\n",
    "results = json.loads(raw)"
   ]
  },
  {
   "cell_type": "code",
   "execution_count": 3,
   "metadata": {},
   "outputs": [
    {
     "data": {
      "text/plain": [
       "dict_keys(['totalItems', 'endIndex', 'startIndex', 'itemsPerPage', 'items'])"
      ]
     },
     "execution_count": 3,
     "metadata": {},
     "output_type": "execute_result"
    }
   ],
   "source": [
    "results.keys()"
   ]
  },
  {
   "cell_type": "code",
   "execution_count": 4,
   "metadata": {
    "scrolled": true
   },
   "outputs": [
    {
     "name": "stdout",
     "output_type": "stream",
     "text": [
      "totalItems: 209609\n"
     ]
    }
   ],
   "source": [
    "print('totalItems:', results['totalItems'])\n"
   ]
  },
  {
   "cell_type": "code",
   "execution_count": 5,
   "metadata": {},
   "outputs": [
    {
     "name": "stdout",
     "output_type": "stream",
     "text": [
      "endIndex: 20\n"
     ]
    }
   ],
   "source": [
    "print('endIndex:', results['endIndex'])\n"
   ]
  },
  {
   "cell_type": "code",
   "execution_count": 6,
   "metadata": {},
   "outputs": [
    {
     "name": "stdout",
     "output_type": "stream",
     "text": [
      "Length and type of items: 20 <class 'list'>\n"
     ]
    }
   ],
   "source": [
    "print('Length and type of items:', len(results['items']), type(results['items']))"
   ]
  },
  {
   "cell_type": "code",
   "execution_count": 11,
   "metadata": {},
   "outputs": [
    {
     "name": "stdout",
     "output_type": "stream",
     "text": [
      "10481\n"
     ]
    }
   ],
   "source": [
    "# find total amount of pages\n",
    "import math\n",
    "total_pages = math.ceil(results['totalItems'] / results['itemsPerPage'])\n",
    "print(total_pages)"
   ]
  },
  {
   "cell_type": "code",
   "execution_count": 14,
   "metadata": {},
   "outputs": [
    {
     "name": "stdout",
     "output_type": "stream",
     "text": [
      "200\n",
      "200\n",
      "200\n",
      "200\n",
      "200\n",
      "200\n",
      "200\n",
      "200\n",
      "200\n",
      "200\n"
     ]
    }
   ],
   "source": [
    "# query the api and save to dict \n",
    "data = []\n",
    "start_date = '1945'\n",
    "end_date = '1963'\n",
    "search_term = 'socialism'\n",
    "\n",
    "for i in range(1,11):\n",
    "    url = (f'https://chroniclingamerica.loc.gov/search/pages/results/?state=&date1={start_date}'\n",
    "           f'&date2={end_date}&proxtext={search_term}&x=16&y=8&dateFilterType=yearRange&rows=20'\n",
    "           f'&searchType=basic&format=json&page={i}')\n",
    "    response = requests.get(url)\n",
    "    raw = response.text\n",
    "    print(response.status_code)\n",
    "    results = json.loads(raw)\n",
    "    items_ = results['items']\n",
    "    for item_ in items_:\n",
    "        temp_dict = {}\n",
    "        temp_dict['title'] = item_['title_normal']\n",
    "        temp_dict['city'] = item_['city']\n",
    "        temp_dict['date'] = item_['date']\n",
    "        temp_dict['raw_text'] = item_['ocr_eng']\n",
    "        data.append(temp_dict)"
   ]
  },
  {
   "cell_type": "code",
   "execution_count": null,
   "metadata": {},
   "outputs": [],
   "source": []
  },
  {
   "cell_type": "code",
   "execution_count": 15,
   "metadata": {},
   "outputs": [],
   "source": [
    "# convert dict to dataframe\n",
    "df = pd.DataFrame.from_dict(data)"
   ]
  },
  {
   "cell_type": "code",
   "execution_count": 16,
   "metadata": {},
   "outputs": [
    {
     "data": {
      "text/html": [
       "<div>\n",
       "<style scoped>\n",
       "    .dataframe tbody tr th:only-of-type {\n",
       "        vertical-align: middle;\n",
       "    }\n",
       "\n",
       "    .dataframe tbody tr th {\n",
       "        vertical-align: top;\n",
       "    }\n",
       "\n",
       "    .dataframe thead th {\n",
       "        text-align: right;\n",
       "    }\n",
       "</style>\n",
       "<table border=\"1\" class=\"dataframe\">\n",
       "  <thead>\n",
       "    <tr style=\"text-align: right;\">\n",
       "      <th></th>\n",
       "      <th>title</th>\n",
       "      <th>city</th>\n",
       "      <th>date</th>\n",
       "      <th>raw_text</th>\n",
       "    </tr>\n",
       "  </thead>\n",
       "  <tbody>\n",
       "    <tr>\n",
       "      <th>0</th>\n",
       "      <td>evening star.</td>\n",
       "      <td>[Washington]</td>\n",
       "      <td>19580921</td>\n",
       "      <td>&gt;; sy '\\n■ •■ / ;, • .\\nWill you leave these f...</td>\n",
       "    </tr>\n",
       "    <tr>\n",
       "      <th>1</th>\n",
       "      <td>valley settler.</td>\n",
       "      <td>[Palmer]</td>\n",
       "      <td>19460801</td>\n",
       "      <td>Storage\\nCACHE YOUR\\nFOOD\\nTHE\\nMODERN WAY\\n' ...</td>\n",
       "    </tr>\n",
       "    <tr>\n",
       "      <th>2</th>\n",
       "      <td>automotive news.</td>\n",
       "      <td>[Detroit]</td>\n",
       "      <td>19451022</td>\n",
       "      <td>Itai/ck section\\nWash. Idaho\\nAgreement\\nOn Re...</td>\n",
       "    </tr>\n",
       "    <tr>\n",
       "      <th>3</th>\n",
       "      <td>valley settler.</td>\n",
       "      <td>[Palmer]</td>\n",
       "      <td>19460228</td>\n",
       "      <td>PALMER, ALASKA Dorothy Boll Editor St Publishe...</td>\n",
       "    </tr>\n",
       "    <tr>\n",
       "      <th>4</th>\n",
       "      <td>chicago star.</td>\n",
       "      <td>[Chicago]</td>\n",
       "      <td>19480724</td>\n",
       "      <td>* — 1\\nThe Chicago\\nVol. 3. No. 30\\nPublished\\...</td>\n",
       "    </tr>\n",
       "  </tbody>\n",
       "</table>\n",
       "</div>"
      ],
      "text/plain": [
       "              title          city      date  \\\n",
       "0     evening star.  [Washington]  19580921   \n",
       "1   valley settler.      [Palmer]  19460801   \n",
       "2  automotive news.     [Detroit]  19451022   \n",
       "3   valley settler.      [Palmer]  19460228   \n",
       "4     chicago star.     [Chicago]  19480724   \n",
       "\n",
       "                                            raw_text  \n",
       "0  >; sy '\\n■ •■ / ;, • .\\nWill you leave these f...  \n",
       "1  Storage\\nCACHE YOUR\\nFOOD\\nTHE\\nMODERN WAY\\n' ...  \n",
       "2  Itai/ck section\\nWash. Idaho\\nAgreement\\nOn Re...  \n",
       "3  PALMER, ALASKA Dorothy Boll Editor St Publishe...  \n",
       "4  * — 1\\nThe Chicago\\nVol. 3. No. 30\\nPublished\\...  "
      ]
     },
     "execution_count": 16,
     "metadata": {},
     "output_type": "execute_result"
    }
   ],
   "source": [
    "df.head()"
   ]
  },
  {
   "cell_type": "code",
   "execution_count": 17,
   "metadata": {},
   "outputs": [],
   "source": [
    "# convert date column from string to date-time object\n",
    "df['date'] = pd.to_datetime(df['date'])"
   ]
  },
  {
   "cell_type": "code",
   "execution_count": 19,
   "metadata": {},
   "outputs": [],
   "source": [
    "# sort by date\n",
    "sorted_df = df.sort_values(by = 'date')"
   ]
  },
  {
   "cell_type": "code",
   "execution_count": 23,
   "metadata": {},
   "outputs": [],
   "source": [
    "# write fuction to process text\n",
    "import spacy\n",
    "\n",
    "nlp = spacy.load(\"en_core_web_sm\")\n",
    "nlp.disable_pipes('ner', 'parser')\n",
    "\n",
    "junk_words = ['hesse']\n",
    "\n",
    "def process_text(text):\n",
    "    text = text.replace('\\n', ' ')\n",
    "    doc = nlp(text)\n",
    "    tokens = [token for token in doc]\n",
    "    no_stops = [token for token in tokens if not token.is_stop]\n",
    "    no_punct = [token for token in no_stops if token.is_alpha]\n",
    "    lemmas = [token.lemma_ for token in no_punct]\n",
    "    lemmas_lower = [lemma.lower() for lemma in lemmas]\n",
    "    lemmas_string = ' '.join(lemmas_lower)\n",
    "    return lemmas_string"
   ]
  },
  {
   "cell_type": "code",
   "execution_count": 24,
   "metadata": {},
   "outputs": [
    {
     "data": {
      "text/html": [
       "<div>\n",
       "<style scoped>\n",
       "    .dataframe tbody tr th:only-of-type {\n",
       "        vertical-align: middle;\n",
       "    }\n",
       "\n",
       "    .dataframe tbody tr th {\n",
       "        vertical-align: top;\n",
       "    }\n",
       "\n",
       "    .dataframe thead th {\n",
       "        text-align: right;\n",
       "    }\n",
       "</style>\n",
       "<table border=\"1\" class=\"dataframe\">\n",
       "  <thead>\n",
       "    <tr style=\"text-align: right;\">\n",
       "      <th></th>\n",
       "      <th>title</th>\n",
       "      <th>city</th>\n",
       "      <th>date</th>\n",
       "      <th>raw_text</th>\n",
       "      <th>lemmas</th>\n",
       "    </tr>\n",
       "  </thead>\n",
       "  <tbody>\n",
       "    <tr>\n",
       "      <th>117</th>\n",
       "      <td>coolidge examiner.</td>\n",
       "      <td>[Coolidge]</td>\n",
       "      <td>1945-03-30</td>\n",
       "      <td>Page Six\\nCooli\\nPUBLISHED EVERY FRIDAY MORNIN...</td>\n",
       "      <td>page cooli published friday morning enter seco...</td>\n",
       "    </tr>\n",
       "    <tr>\n",
       "      <th>40</th>\n",
       "      <td>proletarec.</td>\n",
       "      <td>[Chicago]</td>\n",
       "      <td>1945-05-30</td>\n",
       "      <td>A Yugoslav Weekly Devoted to the\\nInterest of ...</td>\n",
       "      <td>yugoslav weekly devoted interest workers offic...</td>\n",
       "    </tr>\n",
       "    <tr>\n",
       "      <th>195</th>\n",
       "      <td>detroit evening times.</td>\n",
       "      <td>[Detroit]</td>\n",
       "      <td>1945-06-12</td>\n",
       "      <td>End the Pacific War VICTORIOUSLY. Make the Pea...</td>\n",
       "      <td>end pacific war victoriously peace permanently...</td>\n",
       "    </tr>\n",
       "    <tr>\n",
       "      <th>49</th>\n",
       "      <td>detroit evening times.</td>\n",
       "      <td>[Detroit]</td>\n",
       "      <td>1945-07-04</td>\n",
       "      <td>End the Pacific War VICTORIOUSLY. Make the Pea...</td>\n",
       "      <td>end pacific war victoriously peace permanently...</td>\n",
       "    </tr>\n",
       "    <tr>\n",
       "      <th>76</th>\n",
       "      <td>detroit evening times.</td>\n",
       "      <td>[Detroit]</td>\n",
       "      <td>1945-07-06</td>\n",
       "      <td>End the Pacific War VICTORIOUSLY. Make the Pea...</td>\n",
       "      <td>end pacific war victoriously peace permanently...</td>\n",
       "    </tr>\n",
       "  </tbody>\n",
       "</table>\n",
       "</div>"
      ],
      "text/plain": [
       "                      title        city       date  \\\n",
       "117      coolidge examiner.  [Coolidge] 1945-03-30   \n",
       "40              proletarec.   [Chicago] 1945-05-30   \n",
       "195  detroit evening times.   [Detroit] 1945-06-12   \n",
       "49   detroit evening times.   [Detroit] 1945-07-04   \n",
       "76   detroit evening times.   [Detroit] 1945-07-06   \n",
       "\n",
       "                                              raw_text  \\\n",
       "117  Page Six\\nCooli\\nPUBLISHED EVERY FRIDAY MORNIN...   \n",
       "40   A Yugoslav Weekly Devoted to the\\nInterest of ...   \n",
       "195  End the Pacific War VICTORIOUSLY. Make the Pea...   \n",
       "49   End the Pacific War VICTORIOUSLY. Make the Pea...   \n",
       "76   End the Pacific War VICTORIOUSLY. Make the Pea...   \n",
       "\n",
       "                                                lemmas  \n",
       "117  page cooli published friday morning enter seco...  \n",
       "40   yugoslav weekly devoted interest workers offic...  \n",
       "195  end pacific war victoriously peace permanently...  \n",
       "49   end pacific war victoriously peace permanently...  \n",
       "76   end pacific war victoriously peace permanently...  "
      ]
     },
     "execution_count": 24,
     "metadata": {},
     "output_type": "execute_result"
    }
   ],
   "source": [
    "# apply process_text function to raw_text column\n",
    "sorted_df['lemmas'] = sorted_df['raw_text'].apply(process_text)\n",
    "sorted_df.head()"
   ]
  },
  {
   "cell_type": "code",
   "execution_count": 27,
   "metadata": {},
   "outputs": [],
   "source": [
    "# save to csv\n",
    "sorted_df.to_csv(f'{search_term}{start_date}-{end_date}.csv', index = False)"
   ]
  },
  {
   "cell_type": "markdown",
   "metadata": {},
   "source": [
    "Please see github to view csv file output!"
   ]
  }
 ],
 "metadata": {
  "kernelspec": {
   "display_name": "Python 3 (ipykernel)",
   "language": "python",
   "name": "python3"
  },
  "language_info": {
   "codemirror_mode": {
    "name": "ipython",
    "version": 3
   },
   "file_extension": ".py",
   "mimetype": "text/x-python",
   "name": "python",
   "nbconvert_exporter": "python",
   "pygments_lexer": "ipython3",
   "version": "3.9.13"
  }
 },
 "nbformat": 4,
 "nbformat_minor": 4
}
