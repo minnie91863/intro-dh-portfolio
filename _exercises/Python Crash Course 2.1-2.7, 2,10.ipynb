{
 "cells": [
  {
   "cell_type": "markdown",
   "id": "028e2972",
   "metadata": {},
   "source": [
    "### 2.1"
   ]
  },
  {
   "cell_type": "code",
   "execution_count": 4,
   "id": "816a1287",
   "metadata": {},
   "outputs": [],
   "source": [
    "message = \"Hello!\""
   ]
  },
  {
   "cell_type": "code",
   "execution_count": 5,
   "id": "e7d18875",
   "metadata": {},
   "outputs": [
    {
     "name": "stdout",
     "output_type": "stream",
     "text": [
      "Hello!\n"
     ]
    }
   ],
   "source": [
    "print(message)"
   ]
  },
  {
   "cell_type": "markdown",
   "id": "2265390b",
   "metadata": {},
   "source": [
    "### 2.2"
   ]
  },
  {
   "cell_type": "code",
   "execution_count": 8,
   "id": "d80a9574",
   "metadata": {},
   "outputs": [],
   "source": [
    "message2 = \"Python\""
   ]
  },
  {
   "cell_type": "code",
   "execution_count": 10,
   "id": "8bf9f93f",
   "metadata": {},
   "outputs": [
    {
     "name": "stdout",
     "output_type": "stream",
     "text": [
      "I am practicing Python\n"
     ]
    }
   ],
   "source": [
    "print(\"I am practicing \" + message2)"
   ]
  },
  {
   "cell_type": "code",
   "execution_count": 11,
   "id": "d4e74488",
   "metadata": {},
   "outputs": [],
   "source": [
    "message2 = \"coding\""
   ]
  },
  {
   "cell_type": "code",
   "execution_count": 12,
   "id": "7e85c304",
   "metadata": {},
   "outputs": [
    {
     "name": "stdout",
     "output_type": "stream",
     "text": [
      "I am practicing coding\n"
     ]
    }
   ],
   "source": [
    "print(\"I am practicing \" + message2)"
   ]
  },
  {
   "cell_type": "markdown",
   "id": "ef3f1a19",
   "metadata": {},
   "source": [
    "### 2.3"
   ]
  },
  {
   "cell_type": "code",
   "execution_count": 13,
   "id": "da1038fc",
   "metadata": {},
   "outputs": [],
   "source": [
    "name = \"Minnie\""
   ]
  },
  {
   "cell_type": "code",
   "execution_count": 14,
   "id": "18b4086d",
   "metadata": {},
   "outputs": [
    {
     "name": "stdout",
     "output_type": "stream",
     "text": [
      "Hi, my name is Minnie\n"
     ]
    }
   ],
   "source": [
    "print(\"Hi, my name is \" + name)"
   ]
  },
  {
   "cell_type": "markdown",
   "id": "fcfcd6c2",
   "metadata": {},
   "source": [
    "### 2.4"
   ]
  },
  {
   "cell_type": "code",
   "execution_count": 15,
   "id": "4e0c8ce9",
   "metadata": {},
   "outputs": [
    {
     "name": "stdout",
     "output_type": "stream",
     "text": [
      "minnie\n",
      "Minnie\n",
      "MINNIE\n"
     ]
    }
   ],
   "source": [
    "print(name.lower())\n",
    "print(name.title())\n",
    "print(name.upper())"
   ]
  },
  {
   "cell_type": "markdown",
   "id": "c11027c1",
   "metadata": {},
   "source": [
    "### 2.5"
   ]
  },
  {
   "cell_type": "code",
   "execution_count": 18,
   "id": "378cb596",
   "metadata": {},
   "outputs": [],
   "source": [
    "quote = \"In the play \\\"Hamlet\\\", Polonius humors, \\\" Therefore, since brevity is the soul of wit, And tediousness the limbs and outward flourishes, I will be brief. \\\"\""
   ]
  },
  {
   "cell_type": "code",
   "execution_count": 19,
   "id": "919e6a08",
   "metadata": {},
   "outputs": [
    {
     "name": "stdout",
     "output_type": "stream",
     "text": [
      "In the play \"Hamlet\", Polonius humors, \" Therefore, since brevity is the soul of wit, And tediousness the limbs and outward flourishes, I will be brief. \"\n"
     ]
    }
   ],
   "source": [
    "print(quote)"
   ]
  },
  {
   "cell_type": "markdown",
   "id": "a66fa19e",
   "metadata": {},
   "source": [
    "### 2.6"
   ]
  },
  {
   "cell_type": "code",
   "execution_count": 23,
   "id": "9b8593ab",
   "metadata": {},
   "outputs": [],
   "source": [
    "character_person = \"Polonius\"\n",
    "quote = \"In the play \\\"Hamlet\\\", \"+ character_person + \" humors, \\\" Therefore, since brevity is the soul of wit, And tediousness the limbs and outward flourishes, I will be brief. \\\"\""
   ]
  },
  {
   "cell_type": "code",
   "execution_count": 24,
   "id": "99c276f5",
   "metadata": {},
   "outputs": [
    {
     "name": "stdout",
     "output_type": "stream",
     "text": [
      "In the play \"Hamlet\", Polonius humors, \" Therefore, since brevity is the soul of wit, And tediousness the limbs and outward flourishes, I will be brief. \"\n"
     ]
    }
   ],
   "source": [
    "print(quote)"
   ]
  },
  {
   "cell_type": "markdown",
   "id": "a0fb1b33",
   "metadata": {},
   "source": [
    "### 2.7"
   ]
  },
  {
   "cell_type": "code",
   "execution_count": 26,
   "id": "225d5a89",
   "metadata": {},
   "outputs": [],
   "source": [
    "name = \"Minnie\""
   ]
  },
  {
   "cell_type": "code",
   "execution_count": 32,
   "id": "71801b23",
   "metadata": {},
   "outputs": [
    {
     "name": "stdout",
     "output_type": "stream",
     "text": [
      "\n",
      "\tMinnie\n",
      "\n"
     ]
    }
   ],
   "source": [
    "print(\"\\n\\t\" + name + \"\\n\")"
   ]
  },
  {
   "cell_type": "code",
   "execution_count": 35,
   "id": "c72b451f",
   "metadata": {},
   "outputs": [
    {
     "name": "stdout",
     "output_type": "stream",
     "text": [
      "Minnie\n",
      "Minnie\n",
      "Minnie\n"
     ]
    }
   ],
   "source": [
    "print(name.lstrip())\n",
    "print(name.rstrip())\n",
    "print(name.strip())"
   ]
  },
  {
   "cell_type": "markdown",
   "id": "59184f4f",
   "metadata": {},
   "source": [
    "### 2.10"
   ]
  },
  {
   "cell_type": "code",
   "execution_count": 36,
   "id": "8dffd897",
   "metadata": {},
   "outputs": [],
   "source": [
    "# this is a comment!\n",
    "# Name: Minnie Xie\n",
    "# Course: CLS161\n",
    "# this is the first python exercise hw"
   ]
  },
  {
   "cell_type": "code",
   "execution_count": null,
   "id": "6e7a3b54",
   "metadata": {},
   "outputs": [],
   "source": []
  }
 ],
 "metadata": {
  "kernelspec": {
   "display_name": "Python 3 (ipykernel)",
   "language": "python",
   "name": "python3"
  },
  "language_info": {
   "codemirror_mode": {
    "name": "ipython",
    "version": 3
   },
   "file_extension": ".py",
   "mimetype": "text/x-python",
   "name": "python",
   "nbconvert_exporter": "python",
   "pygments_lexer": "ipython3",
   "version": "3.9.13"
  }
 },
 "nbformat": 4,
 "nbformat_minor": 5
}
