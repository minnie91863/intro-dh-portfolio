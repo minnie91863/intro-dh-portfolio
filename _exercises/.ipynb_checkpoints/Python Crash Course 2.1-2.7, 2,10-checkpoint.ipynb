{
 "cells": [
  {
   "cell_type": "markdown",
   "id": "7ea3a812",
   "metadata": {},
   "source": [
    "### 2.1"
   ]
  },
  {
   "cell_type": "code",
   "execution_count": 4,
   "id": "94b132cf",
   "metadata": {},
   "outputs": [],
   "source": [
    "message = \"Hello!\""
   ]
  },
  {
   "cell_type": "code",
   "execution_count": 5,
   "id": "cf31c8fc",
   "metadata": {},
   "outputs": [
    {
     "name": "stdout",
     "output_type": "stream",
     "text": [
      "Hello!\n"
     ]
    }
   ],
   "source": [
    "print(message)"
   ]
  },
  {
   "cell_type": "markdown",
   "id": "40350b9d",
   "metadata": {},
   "source": [
    "### 2.2"
   ]
  },
  {
   "cell_type": "code",
   "execution_count": 8,
   "id": "cda00d2f",
   "metadata": {},
   "outputs": [],
   "source": [
    "message2 = \"Python\""
   ]
  },
  {
   "cell_type": "code",
   "execution_count": 10,
   "id": "59c52b98",
   "metadata": {},
   "outputs": [
    {
     "name": "stdout",
     "output_type": "stream",
     "text": [
      "I am practicing Python\n"
     ]
    }
   ],
   "source": [
    "print(\"I am practicing \" + message2)"
   ]
  },
  {
   "cell_type": "code",
   "execution_count": 11,
   "id": "9a021e76",
   "metadata": {},
   "outputs": [],
   "source": [
    "message2 = \"coding\""
   ]
  },
  {
   "cell_type": "code",
   "execution_count": 12,
   "id": "20ef1a64",
   "metadata": {},
   "outputs": [
    {
     "name": "stdout",
     "output_type": "stream",
     "text": [
      "I am practicing coding\n"
     ]
    }
   ],
   "source": [
    "print(\"I am practicing \" + message2)"
   ]
  },
  {
   "cell_type": "markdown",
   "id": "50c695a7",
   "metadata": {},
   "source": [
    "### 2.3"
   ]
  },
  {
   "cell_type": "code",
   "execution_count": 13,
   "id": "f14793ee",
   "metadata": {},
   "outputs": [],
   "source": [
    "name = \"Minnie\""
   ]
  },
  {
   "cell_type": "code",
   "execution_count": 14,
   "id": "811d5942",
   "metadata": {},
   "outputs": [
    {
     "name": "stdout",
     "output_type": "stream",
     "text": [
      "Hi, my name is Minnie\n"
     ]
    }
   ],
   "source": [
    "print(\"Hi, my name is \" + name)"
   ]
  },
  {
   "cell_type": "markdown",
   "id": "4b9f673e",
   "metadata": {},
   "source": [
    "### 2.4"
   ]
  },
  {
   "cell_type": "code",
   "execution_count": 15,
   "id": "e79a27bd",
   "metadata": {},
   "outputs": [
    {
     "name": "stdout",
     "output_type": "stream",
     "text": [
      "minnie\n",
      "Minnie\n",
      "MINNIE\n"
     ]
    }
   ],
   "source": [
    "print(name.lower())\n",
    "print(name.title())\n",
    "print(name.upper())"
   ]
  },
  {
   "cell_type": "markdown",
   "id": "5e419b9a",
   "metadata": {},
   "source": [
    "### 2.5"
   ]
  },
  {
   "cell_type": "code",
   "execution_count": 18,
   "id": "1390f47d",
   "metadata": {},
   "outputs": [],
   "source": [
    "quote = \"In the play \\\"Hamlet\\\", Polonius humors, \\\" Therefore, since brevity is the soul of wit, And tediousness the limbs and outward flourishes, I will be brief. \\\"\""
   ]
  },
  {
   "cell_type": "code",
   "execution_count": 19,
   "id": "b2485c5d",
   "metadata": {},
   "outputs": [
    {
     "name": "stdout",
     "output_type": "stream",
     "text": [
      "In the play \"Hamlet\", Polonius humors, \" Therefore, since brevity is the soul of wit, And tediousness the limbs and outward flourishes, I will be brief. \"\n"
     ]
    }
   ],
   "source": [
    "print(quote)"
   ]
  },
  {
   "cell_type": "markdown",
   "id": "e158c895",
   "metadata": {},
   "source": [
    "### 2.6"
   ]
  },
  {
   "cell_type": "code",
   "execution_count": 23,
   "id": "5ebccb78",
   "metadata": {},
   "outputs": [],
   "source": [
    "character_person = \"Polonius\"\n",
    "quote = \"In the play \\\"Hamlet\\\", \"+ character_person + \" humors, \\\" Therefore, since brevity is the soul of wit, And tediousness the limbs and outward flourishes, I will be brief. \\\"\""
   ]
  },
  {
   "cell_type": "code",
   "execution_count": 24,
   "id": "971f5ca1",
   "metadata": {},
   "outputs": [
    {
     "name": "stdout",
     "output_type": "stream",
     "text": [
      "In the play \"Hamlet\", Polonius humors, \" Therefore, since brevity is the soul of wit, And tediousness the limbs and outward flourishes, I will be brief. \"\n"
     ]
    }
   ],
   "source": [
    "print(quote)"
   ]
  },
  {
   "cell_type": "markdown",
   "id": "2e083da5",
   "metadata": {},
   "source": [
    "### 2.7"
   ]
  },
  {
   "cell_type": "code",
   "execution_count": 26,
   "id": "1fdb54a7",
   "metadata": {},
   "outputs": [],
   "source": [
    "name = \"Minnie\""
   ]
  },
  {
   "cell_type": "code",
   "execution_count": 32,
   "id": "0a24aa95",
   "metadata": {},
   "outputs": [
    {
     "name": "stdout",
     "output_type": "stream",
     "text": [
      "\n",
      "\tMinnie\n",
      "\n"
     ]
    }
   ],
   "source": [
    "print(\"\\n\\t\" + name + \"\\n\")"
   ]
  },
  {
   "cell_type": "code",
   "execution_count": 35,
   "id": "0f8b860e",
   "metadata": {},
   "outputs": [
    {
     "name": "stdout",
     "output_type": "stream",
     "text": [
      "Minnie\n",
      "Minnie\n",
      "Minnie\n"
     ]
    }
   ],
   "source": [
    "print(name.lstrip())\n",
    "print(name.rstrip())\n",
    "print(name.strip())"
   ]
  },
  {
   "cell_type": "markdown",
   "id": "89362c57",
   "metadata": {},
   "source": [
    "### 2.10"
   ]
  },
  {
   "cell_type": "code",
   "execution_count": null,
   "id": "523c4790",
   "metadata": {},
   "outputs": [],
   "source": [
    "# this is a comment!\n",
    "# Name: Minnie Xie\n",
    "# Course: CLS161\n",
    "# this is the first python exercise hw"
   ]
  }
 ],
 "metadata": {
  "kernelspec": {
   "display_name": "Python 3 (ipykernel)",
   "language": "python",
   "name": "python3"
  },
  "language_info": {
   "codemirror_mode": {
    "name": "ipython",
    "version": 3
   },
   "file_extension": ".py",
   "mimetype": "text/x-python",
   "name": "python",
   "nbconvert_exporter": "python",
   "pygments_lexer": "ipython3",
   "version": "3.9.12"
  }
 },
 "nbformat": 4,
 "nbformat_minor": 5
}
