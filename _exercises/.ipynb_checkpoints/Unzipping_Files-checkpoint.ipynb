{
 "cells": [
  {
   "cell_type": "markdown",
   "id": "fd5fdb02",
   "metadata": {},
   "source": [
    "### tutorial from https://stackoverflow.com/questions/34734714/ipython-jupyter-uploading-folder"
   ]
  },
  {
   "cell_type": "code",
   "execution_count": 6,
   "id": "d21438f2",
   "metadata": {},
   "outputs": [],
   "source": [
    "import zipfile as zf"
   ]
  },
  {
   "cell_type": "code",
   "execution_count": 7,
   "id": "a3be5374",
   "metadata": {},
   "outputs": [],
   "source": [
    "files = zf.ZipFile(\"chronicling_america_api-1.zip\", 'r')"
   ]
  },
  {
   "cell_type": "code",
   "execution_count": 8,
   "id": "23a07ccb",
   "metadata": {},
   "outputs": [],
   "source": [
    "files.extractall('')"
   ]
  },
  {
   "cell_type": "code",
   "execution_count": 9,
   "id": "bbdb3a3d",
   "metadata": {},
   "outputs": [],
   "source": [
    "files.close()"
   ]
  },
  {
   "cell_type": "code",
   "execution_count": null,
   "id": "4a743248",
   "metadata": {},
   "outputs": [],
   "source": []
  }
 ],
 "metadata": {
  "kernelspec": {
   "display_name": "Python 3 (ipykernel)",
   "language": "python",
   "name": "python3"
  },
  "language_info": {
   "codemirror_mode": {
    "name": "ipython",
    "version": 3
   },
   "file_extension": ".py",
   "mimetype": "text/x-python",
   "name": "python",
   "nbconvert_exporter": "python",
   "pygments_lexer": "ipython3",
   "version": "3.9.12"
  }
 },
 "nbformat": 4,
 "nbformat_minor": 5
}
