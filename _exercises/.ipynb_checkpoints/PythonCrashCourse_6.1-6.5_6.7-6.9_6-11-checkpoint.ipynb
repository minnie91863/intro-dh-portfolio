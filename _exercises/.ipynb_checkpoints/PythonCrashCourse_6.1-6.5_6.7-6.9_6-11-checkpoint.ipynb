{
 "cells": [
  {
   "cell_type": "markdown",
   "id": "32ac650b",
   "metadata": {},
   "source": [
    "### 6.1"
   ]
  },
  {
   "cell_type": "code",
   "execution_count": 10,
   "id": "52603769",
   "metadata": {},
   "outputs": [],
   "source": [
    "person = {}"
   ]
  },
  {
   "cell_type": "code",
   "execution_count": 11,
   "id": "59c59292",
   "metadata": {},
   "outputs": [],
   "source": [
    "person['first_name'] = 'Minnie'\n",
    "person['last_name'] = 'Xie'\n",
    "person['age'] = '21'\n",
    "person['city'] = 'Medford'"
   ]
  },
  {
   "cell_type": "code",
   "execution_count": 12,
   "id": "2f969a9d",
   "metadata": {},
   "outputs": [
    {
     "name": "stdout",
     "output_type": "stream",
     "text": [
      "{'first_name': 'Minnie', 'last_name': 'Xie', 'age': '21', 'city': 'Medford'}\n"
     ]
    }
   ],
   "source": [
    "print(person)"
   ]
  },
  {
   "cell_type": "markdown",
   "id": "215f0db7",
   "metadata": {},
   "source": [
    "### 6.2"
   ]
  },
  {
   "cell_type": "code",
   "execution_count": 14,
   "id": "c8518818",
   "metadata": {},
   "outputs": [
    {
     "name": "stdout",
     "output_type": "stream",
     "text": [
      "{'minnie': 1, 'emma': 2, 'casey': 3, 'julien': 4, 'colby': 5}\n"
     ]
    }
   ],
   "source": [
    "fav_nums = {}\n",
    "fav_nums['minnie'] = 1\n",
    "fav_nums['emma'] = 2\n",
    "fav_nums['casey'] = 3\n",
    "fav_nums['julien'] = 4\n",
    "fav_nums['colby'] = 5\n",
    "print(fav_nums)"
   ]
  },
  {
   "cell_type": "markdown",
   "id": "66d571c3",
   "metadata": {},
   "source": [
    "### 6.3"
   ]
  },
  {
   "cell_type": "code",
   "execution_count": 20,
   "id": "9d6f5b3d",
   "metadata": {},
   "outputs": [
    {
     "name": "stdout",
     "output_type": "stream",
     "text": [
      "{'int': 'integer value', 'string': 'list of chars', 'elif': 'else if', 'python': 'coding language', 'dictionary': 'like a list with keys'}\n",
      "integer value\n"
     ]
    }
   ],
   "source": [
    "vocab = {\n",
    "    'int': 'integer value',\n",
    "    'string': 'list of chars',\n",
    "    'elif': 'else if',\n",
    "    'python': 'coding language',\n",
    "    'dictionary': 'like a list with keys'\n",
    "}\n",
    "print(\"int: \")\n",
    "print(vocab['int'])\n",
    "print(\\n)"
   ]
  },
  {
   "cell_type": "markdown",
   "id": "d5d814eb",
   "metadata": {},
   "source": [
    "### 6.4"
   ]
  },
  {
   "cell_type": "code",
   "execution_count": null,
   "id": "2e826aed",
   "metadata": {},
   "outputs": [],
   "source": []
  },
  {
   "cell_type": "markdown",
   "id": "72d1d51f",
   "metadata": {},
   "source": [
    "### 6.5"
   ]
  },
  {
   "cell_type": "code",
   "execution_count": null,
   "id": "3c76d1ee",
   "metadata": {},
   "outputs": [],
   "source": []
  },
  {
   "cell_type": "markdown",
   "id": "da4bacbd",
   "metadata": {},
   "source": [
    "### 6.7"
   ]
  },
  {
   "cell_type": "code",
   "execution_count": null,
   "id": "a6ee6571",
   "metadata": {},
   "outputs": [],
   "source": []
  },
  {
   "cell_type": "markdown",
   "id": "70919eab",
   "metadata": {},
   "source": [
    "### 6.8"
   ]
  },
  {
   "cell_type": "code",
   "execution_count": null,
   "id": "398dcae4",
   "metadata": {},
   "outputs": [],
   "source": []
  },
  {
   "cell_type": "markdown",
   "id": "9137ecb8",
   "metadata": {},
   "source": [
    "### 6.9"
   ]
  },
  {
   "cell_type": "code",
   "execution_count": null,
   "id": "e2787af1",
   "metadata": {},
   "outputs": [],
   "source": []
  },
  {
   "cell_type": "markdown",
   "id": "e0e492f5",
   "metadata": {},
   "source": [
    "### 6.11"
   ]
  },
  {
   "cell_type": "code",
   "execution_count": null,
   "id": "1adcb8e8",
   "metadata": {},
   "outputs": [],
   "source": []
  },
  {
   "cell_type": "code",
   "execution_count": null,
   "id": "ee5fb749",
   "metadata": {},
   "outputs": [],
   "source": []
  }
 ],
 "metadata": {
  "kernelspec": {
   "display_name": "Python 3 (ipykernel)",
   "language": "python",
   "name": "python3"
  },
  "language_info": {
   "codemirror_mode": {
    "name": "ipython",
    "version": 3
   },
   "file_extension": ".py",
   "mimetype": "text/x-python",
   "name": "python",
   "nbconvert_exporter": "python",
   "pygments_lexer": "ipython3",
   "version": "3.9.13"
  }
 },
 "nbformat": 4,
 "nbformat_minor": 5
}
