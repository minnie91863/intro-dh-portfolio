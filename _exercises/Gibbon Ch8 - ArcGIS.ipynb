{
 "cells": [
  {
   "cell_type": "markdown",
   "id": "bc998461",
   "metadata": {},
   "source": [
    "## GIS Map - Gibbon Chapter 8"
   ]
  },
  {
   "cell_type": "markdown",
   "id": "53936445",
   "metadata": {},
   "source": [
    "Link to Map:\n",
    "https://arcg.is/XTujT"
   ]
  },
  {
   "cell_type": "markdown",
   "id": "a6580620",
   "metadata": {},
   "source": [
    "Overview: This map visualizes how frequently certain places are mentioned in chapter 8 of Gibbon's \"The History of the Decline and Fall of the Roman Empire\". The map also includes visuals on the area of the Roman Empire during the chapter's time period (200AD), as well as major trading routes. "
   ]
  },
  {
   "cell_type": "code",
   "execution_count": null,
   "id": "db1971cb",
   "metadata": {},
   "outputs": [],
   "source": []
  }
 ],
 "metadata": {
  "kernelspec": {
   "display_name": "Python 3 (ipykernel)",
   "language": "python",
   "name": "python3"
  },
  "language_info": {
   "codemirror_mode": {
    "name": "ipython",
    "version": 3
   },
   "file_extension": ".py",
   "mimetype": "text/x-python",
   "name": "python",
   "nbconvert_exporter": "python",
   "pygments_lexer": "ipython3",
   "version": "3.9.13"
  }
 },
 "nbformat": 4,
 "nbformat_minor": 5
}
