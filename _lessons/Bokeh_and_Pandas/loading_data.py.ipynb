{
 "cells": [
  {
   "cell_type": "code",
   "execution_count": 1,
   "id": "179df046",
   "metadata": {},
   "outputs": [],
   "source": [
    "import pandas as pd"
   ]
  },
  {
   "cell_type": "code",
   "execution_count": 3,
   "id": "9b64f312",
   "metadata": {},
   "outputs": [
    {
     "name": "stdout",
     "output_type": "stream",
     "text": [
      "           MSNDATE      THEATER COUNTRY_FLYING_MISSION    NAF   UNIT_ID  \\\n",
      "0       03/30/1941          ETO          GREAT BRITAIN    RAF   84 SQDN   \n",
      "1       11/24/1940          ETO          GREAT BRITAIN    RAF  211 SQDN   \n",
      "2       12/04/1940          ETO          GREAT BRITAIN    RAF  211 SQDN   \n",
      "3       12/31/1940          ETO          GREAT BRITAIN    RAF  211 SQDN   \n",
      "4       01/06/1941          ETO          GREAT BRITAIN    RAF  211 SQDN   \n",
      "...            ...          ...                    ...    ...       ...   \n",
      "178276  08/01/1945          PTO                    USA  20 AF     73 BW   \n",
      "178277  07/22/1942          MTO          GREAT BRITAIN    RAF       NaN   \n",
      "178278  08/17/1940  EAST AFRICA          GREAT BRITAIN    RAF   47 SQDN   \n",
      "178279  08/06/1945          PTO                    USA  20 AF    509 CG   \n",
      "178280  08/09/1945          PTO                    USA  20 AF    509 CG   \n",
      "\n",
      "       AIRCRAFT_NAME  AC_ATTACKING TAKEOFF_BASE TAKEOFF_COUNTRY  \\\n",
      "0           BLENHEIM          10.0          NaN             NaN   \n",
      "1           BLENHEIM           9.0          NaN             NaN   \n",
      "2           BLENHEIM           9.0          NaN             NaN   \n",
      "3           BLENHEIM           9.0          NaN             NaN   \n",
      "4           BLENHEIM           9.0          NaN             NaN   \n",
      "...              ...           ...          ...             ...   \n",
      "178276           B29          99.0          NaN             NaN   \n",
      "178277      BLENHEIM           NaN          NaN             NaN   \n",
      "178278     WELLESLEY           6.0      ERKOWIT           SUDAN   \n",
      "178279           B29           1.0          NaN             NaN   \n",
      "178280           B29           1.0          NaN             NaN   \n",
      "\n",
      "        TAKEOFF_LATITUDE  TAKEOFF_LONGITUDE TGT_COUNTRY  TGT_LOCATION  \\\n",
      "0                    NaN                NaN     ALBANIA       ELBASAN   \n",
      "1                    NaN                NaN     ALBANIA       DURAZZO   \n",
      "2                    NaN                NaN     ALBANIA      TEPELENE   \n",
      "3                    NaN                NaN     ALBANIA        VALONA   \n",
      "4                    NaN                NaN     ALBANIA        VALONA   \n",
      "...                  ...                ...         ...           ...   \n",
      "178276               NaN                NaN       JAPAN        TOYAMA   \n",
      "178277               NaN                NaN       EGYPT  MERSA MATRUH   \n",
      "178278             18.75               37.0       SUDAN       KASSALA   \n",
      "178279               NaN                NaN       JAPAN     HIROSHIMA   \n",
      "178280               NaN                NaN       JAPAN      NAGASAKI   \n",
      "\n",
      "        TGT_LATITUDE  TGT_LONGITUDE  TONS_HE  TONS_IC  TONS_FRAG  TOTAL_TONS  \n",
      "0          41.100000      20.070000      0.0      0.0        0.0         0.0  \n",
      "1          41.320000      19.450000      0.0      0.0        0.0         0.0  \n",
      "2          40.300000      20.020000      0.0      0.0        0.0         0.0  \n",
      "3          40.470000      19.490000      0.0      0.0        0.0         0.0  \n",
      "4          40.470000      19.490000      0.0      0.0        0.0         0.0  \n",
      "...              ...            ...      ...      ...        ...         ...  \n",
      "178276     36.700000     137.216667      0.0    999.0        0.0       999.0  \n",
      "178277     31.330000      27.200000      0.0      0.0        0.0      1300.0  \n",
      "178278     15.450000      36.400000   4750.0      0.0        0.0      4750.0  \n",
      "178279     34.400000     132.466667  15000.0      0.0        0.0     15000.0  \n",
      "178280     32.733333     129.866667  20000.0      0.0        0.0     20000.0  \n",
      "\n",
      "[178281 rows x 19 columns]\n"
     ]
    }
   ],
   "source": [
    "df = pd.read_csv('thor_wwii.csv')\n",
    "print(df)"
   ]
  },
  {
   "cell_type": "code",
   "execution_count": 4,
   "id": "af0ff74f",
   "metadata": {},
   "outputs": [
    {
     "data": {
      "text/plain": [
       "['MSNDATE',\n",
       " 'THEATER',\n",
       " 'COUNTRY_FLYING_MISSION',\n",
       " 'NAF',\n",
       " 'UNIT_ID',\n",
       " 'AIRCRAFT_NAME',\n",
       " 'AC_ATTACKING',\n",
       " 'TAKEOFF_BASE',\n",
       " 'TAKEOFF_COUNTRY',\n",
       " 'TAKEOFF_LATITUDE',\n",
       " 'TAKEOFF_LONGITUDE',\n",
       " 'TGT_COUNTRY',\n",
       " 'TGT_LOCATION',\n",
       " 'TGT_LATITUDE',\n",
       " 'TGT_LONGITUDE',\n",
       " 'TONS_HE',\n",
       " 'TONS_IC',\n",
       " 'TONS_FRAG',\n",
       " 'TOTAL_TONS']"
      ]
     },
     "execution_count": 4,
     "metadata": {},
     "output_type": "execute_result"
    }
   ],
   "source": [
    "df.columns.tolist()"
   ]
  },
  {
   "cell_type": "code",
   "execution_count": null,
   "id": "9ac84712",
   "metadata": {},
   "outputs": [],
   "source": []
  }
 ],
 "metadata": {
  "kernelspec": {
   "display_name": "Python 3 (ipykernel)",
   "language": "python",
   "name": "python3"
  },
  "language_info": {
   "codemirror_mode": {
    "name": "ipython",
    "version": 3
   },
   "file_extension": ".py",
   "mimetype": "text/x-python",
   "name": "python",
   "nbconvert_exporter": "python",
   "pygments_lexer": "ipython3",
   "version": "3.9.13"
  }
 },
 "nbformat": 4,
 "nbformat_minor": 5
}
