{
 "cells": [
  {
   "cell_type": "markdown",
   "id": "a5815f68",
   "metadata": {},
   "source": [
    "# Visualizing Data with Bokeh and Pandas"
   ]
  },
  {
   "cell_type": "markdown",
   "id": "f6d63e93",
   "metadata": {},
   "source": [
    "## Source"
   ]
  },
  {
   "cell_type": "markdown",
   "id": "6e0c0f5f",
   "metadata": {},
   "source": [
    "https://programminghistorian.org/en/lessons/visualizing-with-bokeh [https://programminghistorian.org/en/lessons/visualizing-with-bokeh] "
   ]
  },
  {
   "cell_type": "markdown",
   "id": "2c268da3",
   "metadata": {},
   "source": [
    "## Reflection"
   ]
  },
  {
   "cell_type": "markdown",
   "id": "1f670461",
   "metadata": {},
   "source": [
    "Boken is a library that helps visualize a dataset given in a csv file in a graph format. It offers functions that help aggregate, filter, and sub-sample raw data. In this lesson, I visualize a given data set from the Theater History of Operations Reports about aerial bombing operations during WWII through plotted points, categorical data as bar graphs, and plotted coordinates on a map. With Pandas to process and read the .csv data, the Bokeh library easily shows this data in graph form as an image either directly in Jupyter Notebooks or as an HTML file.\n",
    "\n",
    "This lesson was straightforward and easy to follow. There were a couple of errors in the provided code, but they were easily fixed based on the explanations given in the lesson. The main issue I had was with the final section of the lesson with plotting points on the map. For whatever reason, the coordinates were output incorrectly, maybe from how I filtered the data. However, the overall process wasn’t too difficult to follow, and the functions in the Bokeh library are useful and their purposes are easy to understand. \n",
    "\n",
    "A key point I learned in this lesson was the importance and usefulness of filtering data. In order for a dataset to be more legible, filtering the data is necessary to focus on specific data. Filtering based on keywords was much easier than I expected, although somewhat time-consuming. I also learned how to aggregate data to be categorical, which can be helpful depending on what kind of information you aim to present in the visualizations. I found the spatial data section to not be as useful as using a tool such as ArcGIS, but is definitely much simpler to implement, and may be ideal for smaller representations of geographical data.\n"
   ]
  },
  {
   "cell_type": "markdown",
   "id": "46a7d38e",
   "metadata": {},
   "source": [
    "## Code"
   ]
  },
  {
   "cell_type": "markdown",
   "id": "0da17b20",
   "metadata": {},
   "source": [
    "For all the code in their individual files and the HTML files of each graph, please see this folder in my repo :)\n"
   ]
  },
  {
   "cell_type": "markdown",
   "id": "9e58456a",
   "metadata": {},
   "source": [
    "### Your First Plot"
   ]
  },
  {
   "cell_type": "code",
   "execution_count": null,
   "id": "00f8156a",
   "metadata": {},
   "outputs": [],
   "source": []
  },
  {
   "cell_type": "code",
   "execution_count": 2,
   "id": "1416f104",
   "metadata": {},
   "outputs": [],
   "source": [
    "### Loading Data in Pandas"
   ]
  },
  {
   "cell_type": "code",
   "execution_count": 3,
   "id": "23908693",
   "metadata": {},
   "outputs": [],
   "source": [
    "### The Bokeh ColumnDataSource"
   ]
  },
  {
   "cell_type": "code",
   "execution_count": 4,
   "id": "e2c4786e",
   "metadata": {},
   "outputs": [],
   "source": [
    "### Categorical Data and Bar Charts: Munitions Dropped by Country"
   ]
  },
  {
   "cell_type": "code",
   "execution_count": 5,
   "id": "3ba1c691",
   "metadata": {},
   "outputs": [],
   "source": [
    "### Stacked Bar Charts and Sub-sampling Data: Types of Munitions Dropped by Country"
   ]
  },
  {
   "cell_type": "code",
   "execution_count": 6,
   "id": "414853e8",
   "metadata": {},
   "outputs": [],
   "source": [
    "### Time-Series and Annotiations: Bombing Operations over Time"
   ]
  },
  {
   "cell_type": "code",
   "execution_count": null,
   "id": "9086127b",
   "metadata": {},
   "outputs": [],
   "source": [
    "### Spatial Data: Mapping "
   ]
  }
 ],
 "metadata": {
  "kernelspec": {
   "display_name": "Python 3 (ipykernel)",
   "language": "python",
   "name": "python3"
  },
  "language_info": {
   "codemirror_mode": {
    "name": "ipython",
    "version": 3
   },
   "file_extension": ".py",
   "mimetype": "text/x-python",
   "name": "python",
   "nbconvert_exporter": "python",
   "pygments_lexer": "ipython3",
   "version": "3.9.13"
  }
 },
 "nbformat": 4,
 "nbformat_minor": 5
}
