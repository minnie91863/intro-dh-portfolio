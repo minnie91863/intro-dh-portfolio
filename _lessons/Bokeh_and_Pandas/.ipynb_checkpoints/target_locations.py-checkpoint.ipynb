{
 "cells": [
  {
   "cell_type": "code",
   "execution_count": 5,
   "id": "b9e1a4ab",
   "metadata": {},
   "outputs": [],
   "source": [
    "import pandas as pd\n",
    "from bokeh.plotting import figure, output_file, show\n",
    "from bokeh.models import ColumnDataSource, Range1d\n",
    "from bokeh.layouts import layout\n",
    "from bokeh.palettes import Spectral3\n",
    "from bokeh.tile_providers import get_provider\n",
    "from pyproj import Transformer\n",
    "output_file('mapping_targets.html')"
   ]
  },
  {
   "cell_type": "code",
   "execution_count": 6,
   "id": "ceaa8d20",
   "metadata": {},
   "outputs": [],
   "source": [
    "def LongLat_to_EN(long, lat):\n",
    "    try:\n",
    "        transformer = Transformer.from_crs('epsg:4326',\n",
    "                                          'epsg:3857')\n",
    "        easting, northing = transformer.transform(long, lat)\n",
    "        return easting, northing\n",
    "    except:\n",
    "        return None, None"
   ]
  },
  {
   "cell_type": "code",
   "execution_count": 7,
   "id": "f2567fe0",
   "metadata": {},
   "outputs": [],
   "source": [
    "df = pd.read_csv(\"thor_wwii.csv\")"
   ]
  },
  {
   "cell_type": "code",
   "execution_count": null,
   "id": "ece705c4",
   "metadata": {},
   "outputs": [],
   "source": [
    "df['E'], df['N'] = zip(\n",
    "#                 *df.apply(\n",
    "#                         lambda x: LongLat_to_EN(x['TGT_LONGITUDE'], x['TGT_LATITUDE']),\n",
    "#                         axis = 1\n",
    "#                         )\n",
    "#                     )\n",
    "        *df.apply(lambda x: LongLat_to_EN(x['TGT_LONGITUDE'], x['TGT_LATITUDE']), axis=1)))\n"
   ]
  },
  {
   "cell_type": "code",
   "execution_count": null,
   "id": "8054c92a",
   "metadata": {},
   "outputs": [],
   "source": [
    "grouped = df.groupby(['E', 'N'])[\n",
    "                    ['TONS_IC', 'TONS_FRAG']\n",
    "                                ].sum().reset_index()\n"
   ]
  }
 ],
 "metadata": {
  "kernelspec": {
   "display_name": "Python 3 (ipykernel)",
   "language": "python",
   "name": "python3"
  },
  "language_info": {
   "codemirror_mode": {
    "name": "ipython",
    "version": 3
   },
   "file_extension": ".py",
   "mimetype": "text/x-python",
   "name": "python",
   "nbconvert_exporter": "python",
   "pygments_lexer": "ipython3",
   "version": "3.9.13"
  }
 },
 "nbformat": 4,
 "nbformat_minor": 5
}
