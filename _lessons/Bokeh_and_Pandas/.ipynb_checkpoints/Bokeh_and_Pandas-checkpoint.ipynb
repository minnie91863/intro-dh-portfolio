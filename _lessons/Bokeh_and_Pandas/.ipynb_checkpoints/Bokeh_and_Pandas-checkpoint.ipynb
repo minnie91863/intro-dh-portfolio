{
 "cells": [
  {
   "cell_type": "markdown",
   "id": "6fd44cd3",
   "metadata": {},
   "source": [
    "# Visualizing Data with Bokeh and Pandas"
   ]
  },
  {
   "cell_type": "markdown",
   "id": "680b9f0c",
   "metadata": {},
   "source": [
    "## Source"
   ]
  },
  {
   "cell_type": "markdown",
   "id": "7fe5ecc9",
   "metadata": {},
   "source": [
    "(https://programminghistorian.org/en/lessons/visualizing-with-bokeh) [https://programminghistorian.org/en/lessons/visualizing-with-bokeh] "
   ]
  },
  {
   "cell_type": "markdown",
   "id": "d15d190b",
   "metadata": {},
   "source": [
    "## Reflection"
   ]
  },
  {
   "cell_type": "markdown",
   "id": "85f99b7d",
   "metadata": {},
   "source": [
    "Boken is a library that helps visualize a dataset given in a csv file in a graph format. It offers functions that help aggregate, filter, and sub-sample raw data. In this lesson, I visualize a given data set from the Theater History of Operations Reports about aerial bombing operations during WWII through plotted points, categorical data as bar graphs, and plotted coordinates on a map. With Pandas to process and read the .csv data, the Bokeh library easily shows this data in graph form as an image either directly in Jupyter Notebooks or as an HTML file.\n",
    "\n",
    "This lesson was straightforward and easy to follow. There were a couple of errors in the provided code, but they were easily fixed based on the explanations given in the lesson. The main issue I had was with the final section of the lesson with plotting points on the map. For whatever reason, the coordinates were output incorrectly, maybe from how I filtered the data. However, the overall process wasn’t too difficult to follow, and the functions in the Bokeh library are useful and their purposes are easy to understand. \n",
    "\n",
    "A key point I learned in this lesson was the importance and usefulness of filtering data. In order for a dataset to be more legible, filtering the data is necessary to focus on specific data. Filtering based on keywords was much easier than I expected, although somewhat time-consuming. I also learned how to aggregate data to be categorical, which can be helpful depending on what kind of information you aim to present in the visualizations. I found the spatial data section to not be as useful as using a tool such as ArcGIS, but is definitely much simpler to implement, and may be ideal for smaller representations of geographical data.\n"
   ]
  },
  {
   "cell_type": "markdown",
   "id": "e6d7ee26",
   "metadata": {},
   "source": [
    "## Code"
   ]
  },
  {
   "cell_type": "markdown",
   "id": "3833eabf",
   "metadata": {},
   "source": [
    "For all the code in their individual files and the HTML files of each graph, please see this folder in my repo :)\n",
    "Link: (Bokeh_and_Pandas)[https://github.com/minnie91863/intro-dh-portfolio/tree/gh-pages/_lessons/Bokeh_and_Pandas]"
   ]
  },
  {
   "cell_type": "markdown",
   "id": "e05c5a2b",
   "metadata": {},
   "source": [
    "### Your First Plot"
   ]
  },
  {
   "cell_type": "code",
   "execution_count": null,
   "id": "aa2058fd",
   "metadata": {},
   "outputs": [],
   "source": [
    "from bokeh.plotting import figure, output_file, show\n",
    "\n",
    "output_file('my_first_graph.html')\n",
    "\n",
    "x = [1, 3, 5, 7]\n",
    "y = [2, 4, 6, 8]\n",
    "\n",
    "p = figure()\n",
    "\n",
    "p.circle(x, y, size = 10, color = 'red', legend_field = 'circle')\n",
    "p.line(x, y, color = 'blue', legend_field = 'line')\n",
    "p.triangle(y, x, color = 'gold', size = 10, legend_field = 'triangle')\n",
    "\n",
    "p.legend.click_policy = 'hide'\n",
    "\n",
    "show(p)"
   ]
  },
  {
   "cell_type": "markdown",
   "id": "472f07ec",
   "metadata": {},
   "source": [
    "Photo of Graph"
   ]
  },
  {
   "cell_type": "markdown",
   "id": "bcdc93e6",
   "metadata": {},
   "source": [
    "### Loading Data in Pandas"
   ]
  },
  {
   "cell_type": "code",
   "execution_count": null,
   "id": "85c00d72",
   "metadata": {},
   "outputs": [],
   "source": [
    "import pandas as pd\n",
    "\n",
    "df = pd.read_csv('thor_wwii.csv')\n",
    "print(df)\n",
    "\n",
    "df.columns.tolist()"
   ]
  },
  {
   "cell_type": "markdown",
   "id": "80635ca7",
   "metadata": {},
   "source": [
    "Photo of Graph"
   ]
  },
  {
   "cell_type": "markdown",
   "id": "06e0616b",
   "metadata": {},
   "source": [
    "### The Bokeh ColumnDataSource"
   ]
  },
  {
   "cell_type": "code",
   "execution_count": null,
   "id": "ab58ca1f",
   "metadata": {},
   "outputs": [],
   "source": [
    "import pandas as pd\n",
    "from bokeh.plotting import figure, output_file, show\n",
    "from bokeh.models import ColumnDataSource\n",
    "from bokeh.models.tools import HoverTool\n",
    "\n",
    "output_file('columndatasource_example.html')\n",
    "\n",
    "df = pd.read_csv('thor_wwii.csv')\n",
    "\n",
    "sample = df.sample(50)\n",
    "source = ColumnDataSource(sample)\n",
    "\n",
    "p = figure()\n",
    "p.circle(x = 'TOTAL_TONS', y = 'AC_ATTACKING', \n",
    "        source = source, \n",
    "        size = 10, color = 'green')\n",
    "\n",
    "p.title.text = 'Attacking Raircraft and Munitions Dropped'\n",
    "p.xaxis.axis_label = 'Tons of Munitions Dropped'\n",
    "p.yaxis.axis_label = 'Number of Attacking Aircraft'\n",
    "\n",
    "hover = HoverTool()\n",
    "hover.tooltips = [\n",
    "    ('Attack Date', '@MSNDATE'),\n",
    "    ('Attacking Aircraft', '@AC_ATTACKING'),\n",
    "    ('Tons of Munitions', '@TOTAL_TONS'),\n",
    "    ('Type of Aircraft', '@AIRCRAFT_NAME')\n",
    "]\n",
    "p.add_tools(hover)\n",
    "\n",
    "show(p)"
   ]
  },
  {
   "cell_type": "markdown",
   "id": "2203b3dd",
   "metadata": {},
   "source": [
    "Photo of Graph"
   ]
  },
  {
   "cell_type": "markdown",
   "id": "a326eb0f",
   "metadata": {},
   "source": [
    "### Categorical Data and Bar Charts: Munitions Dropped by Country"
   ]
  },
  {
   "cell_type": "code",
   "execution_count": null,
   "id": "5f2de69f",
   "metadata": {},
   "outputs": [],
   "source": [
    "import pandas as pd\n",
    "from bokeh.plotting import figure, output_file, show\n",
    "from bokeh.models import ColumnDataSource\n",
    "from bokeh.models.tools import HoverTool\n",
    "\n",
    "from bokeh.palettes import Spectral5\n",
    "from bokeh.transform import factor_cmap\n",
    "output_file('munitions_by_country.html')\n",
    "\n",
    "df = pd.read_csv('thor_wwii.csv')\n",
    "\n",
    "grouped = df.groupby('COUNTRY_FLYING_MISSION')[['TOTAL_TONS', 'TONS_HE', 'TONS_IC', 'TONS_FRAG']].sum()\n",
    "\n",
    "print(grouped)\n",
    "\n",
    "#plotting data to scale it down\n",
    "grouped = grouped / 1000\n",
    "\n",
    "source = ColumnDataSource(grouped)\n",
    "countries = source.data['COUNTRY_FLYING_MISSION'].tolist()\n",
    "p = figure(x_range = countries)\n",
    "\n",
    "color_map = factor_cmap(field_name = 'COUNTRY_FLYING_MISSION', palette = Spectral5, factors = countries)\n",
    "p.vbar(x = 'COUNTRY_FLYING_MISSION',\n",
    "      top = 'TOTAL_TONS',\n",
    "      source = source,\n",
    "      width = 0.7,\n",
    "      color = color_map)\n",
    "p.title.text = 'Munitions Dropped by Allied Country'\n",
    "p.xaxis.axis_label = 'Country'\n",
    "p.yaxis.axis_label = 'Kilotons of Munitions'\n",
    "\n",
    "hover = HoverTool()\n",
    "hover.tooltips = [\n",
    "    (\"Totals\", '@TONS_HE High Explosive / @TONS_IC Incendiary / @TONS_FRAG Fragmentation')\n",
    "]\n",
    "\n",
    "hover.mode = 'vline'\n",
    "\n",
    "p.add_tools(hover)\n",
    "\n",
    "show(p)"
   ]
  },
  {
   "cell_type": "markdown",
   "id": "55a16fed",
   "metadata": {},
   "source": [
    "Photo of Graph"
   ]
  },
  {
   "cell_type": "markdown",
   "id": "3584bfd9",
   "metadata": {},
   "source": [
    "### Stacked Bar Charts and Sub-sampling Data: Types of Munitions Dropped by Country"
   ]
  },
  {
   "cell_type": "code",
   "execution_count": null,
   "id": "352b792d",
   "metadata": {},
   "outputs": [],
   "source": [
    "import pandas as pd\n",
    "from bokeh.plotting import figure, output_file, show\n",
    "from bokeh.models import ColumnDataSource\n",
    "from bokeh.palettes import Spectral3\n",
    "output_file('types_of_munitions.html')\n",
    "\n",
    "df = pd.read_csv('thor_wwii.csv')\n",
    "\n",
    "filter = df['COUNTRY_FLYING_MISSION'].isin((\n",
    "    'USA',\n",
    "    'GREAT BRITAIN'\n",
    "))\n",
    "\n",
    "df[filter]\n",
    "\n",
    "grouped = df.groupby('COUNTRY_FLYING_MISSION')[\n",
    "    'TONS_IC',\n",
    "    'TONS_FRAG',\n",
    "    'TONS_HE'\n",
    "].sum()\n",
    "\n",
    "grouped = grouped / 1000\n",
    "\n",
    "source = ColumnDataSource(grouped)\n",
    "#countries = source.data['COUNTRY_FLYING_MISSION'].tolist()\n",
    "countries = ['USA', 'GREAT BRITAIN']\n",
    "p = figure(x_range = countries)\n",
    "\n",
    "p.vbar_stack(\n",
    "            stackers = ['TONS_HE', 'TONS_FRAG', 'TONS_IC'],\n",
    "            x = 'COUNTRY_FLYING_MISSION',\n",
    "            source = source,\n",
    "            legend_label = ['High Explosive', 'Fragmentation', 'Incendiary'],\n",
    "            width = .5,\n",
    "            color = Spectral3\n",
    "            )\n",
    "\n",
    "p.title.text = 'Types of Munitions Dropped by Allied Country'\n",
    "p.legend.location = 'top_left'\n",
    "\n",
    "p.xaxis.axis_label = 'Country'\n",
    "p.xgrid.grid_line_color = None\n",
    "\n",
    "p.yaxis.axis_label = 'Kilotons of Munitions'\n",
    "\n",
    "show(p)"
   ]
  },
  {
   "cell_type": "markdown",
   "id": "2bdd9707",
   "metadata": {},
   "source": [
    "Photo of Graph"
   ]
  },
  {
   "cell_type": "markdown",
   "id": "fe3daf14",
   "metadata": {},
   "source": [
    "### Time-Series and Annotiations: Bombing Operations over Time"
   ]
  },
  {
   "cell_type": "code",
   "execution_count": null,
   "id": "1e6b3285",
   "metadata": {},
   "outputs": [],
   "source": [
    "import pandas as pd\n",
    "from bokeh.plotting import figure, output_file, show\n",
    "from bokeh.models import ColumnDataSource\n",
    "from bokeh.palettes import Spectral3\n",
    "output_file('simple_timeseries_plot.html')\n",
    "\n",
    "df = pd.read_csv('thor_wwii.csv')\n",
    "\n",
    "df['MSNDATE'] = pd.to_datetime(df['MSNDATE'], format = '%m/%d/%Y')\n",
    "\n",
    "grouped = df.groupby(pd.Grouper(\n",
    "                    key = 'MSNDATE',\n",
    "                    freq = 'M'\n",
    "                                )\n",
    "                    )[\n",
    "                        'TOTAL_TONS',\n",
    "                        'TONS_IC',\n",
    "                        'TONS_FRAG'\n",
    "                    ].sum()\n",
    "\n",
    "grouped = grouped / 1000\n",
    "\n",
    "source = ColumnDataSource(grouped)\n",
    "\n",
    "p = figure(x_axis_type = 'datetime')\n",
    "\n",
    "p.line(\n",
    "        x = 'MSNDATE',\n",
    "        y = 'TOTAL_TONS',\n",
    "        line_width = 2,\n",
    "        source = source,\n",
    "        legend_label = 'All Munitions'\n",
    ")\n",
    "\n",
    "p.line(\n",
    "        x = 'MSNDATE',\n",
    "        y = 'TONS_FRAG',\n",
    "        line_width = 2,\n",
    "        source = source,\n",
    "        color = Spectral3[1],\n",
    "        legend_label = 'Fragmentation'\n",
    ")\n",
    "\n",
    "p.line(\n",
    "        x = 'MSNDATE',\n",
    "        y = 'TONS_IC',\n",
    "        line_width = 2,\n",
    "        source = source,\n",
    "        color = Spectral3[2],\n",
    "        legend_label = 'Incendiary'\n",
    ")\n",
    "\n",
    "p.yaxis.axis_label = 'Kilotons of Munitions Dropped'\n",
    "\n",
    "p.title.text = 'A Time-Series Plot with Data Resampled to Months'\n",
    "p.legend.location = 'top_left'\n",
    "\n",
    "show(p)"
   ]
  },
  {
   "cell_type": "markdown",
   "id": "535df92a",
   "metadata": {},
   "source": [
    "Photo of Graph"
   ]
  },
  {
   "cell_type": "markdown",
   "id": "095f5e48",
   "metadata": {},
   "source": [
    "### Annotating Trends in Plots"
   ]
  },
  {
   "cell_type": "code",
   "execution_count": null,
   "id": "c97b4f39",
   "metadata": {},
   "outputs": [],
   "source": [
    "import pandas as pd\n",
    "from bokeh.plotting import figure, output_file, show\n",
    "from bokeh.models import ColumnDataSource\n",
    "from datetime import datetime\n",
    "from bokeh.palettes import Spectral3\n",
    "output_file('eto_operations.html')\n",
    "\n",
    "df = pd.read_csv('thor_wwii.csv')\n",
    "\n",
    "filter = df['THEATER'] == 'ETO'\n",
    "df = df[filter]\n",
    "\n",
    "df['MSNDATE'] = pd.to_datetime(\n",
    "                                df['MSNDATE'],\n",
    "                                format = '%m/%d/%Y')\n",
    "group = df.groupby(\n",
    "                    pd.Grouper(\n",
    "                                key = 'MSNDATE',\n",
    "                                freq = 'M')\n",
    "                    )[\n",
    "                        'TOTAL_TONS',\n",
    "                        'TONS_IC',\n",
    "                        'TONS_FRAG'\n",
    "                    ].sum()\n",
    "\n",
    "group = group / 1000\n",
    "\n",
    "source = ColumnDataSource(group)\n",
    "\n",
    "p = figure(x_axis_type = 'datetime')\n",
    "\n",
    "p.line(\n",
    "        x = 'MSNDATE',\n",
    "        y = 'TOTAL_TONS',\n",
    "        line_width = 2,\n",
    "        source = source,\n",
    "        legend_label = 'All Munitions'\n",
    ")\n",
    "\n",
    "p.line(\n",
    "        x = 'MSNDATE',\n",
    "        y = 'TONS_FRAG',\n",
    "        line_width = 2,\n",
    "        source = source,\n",
    "        color = Spectral3[1],\n",
    "        legend_label = 'Fragmentation'\n",
    ")\n",
    "\n",
    "p.line(\n",
    "        x = 'MSNDATE',\n",
    "        y = 'TONS_IC',\n",
    "        line_width = 2,\n",
    "        source = source,\n",
    "        color = Spectral3[2],\n",
    "        legend_label = 'Incendiary'\n",
    ")\n",
    "\n",
    "p.title.text = 'European Theater of Operations'\n",
    "p.yaxis.axis_label = 'Kilotons of Munitions Dropped'\n",
    "p.legend.location = 'top_left'\n",
    "\n",
    "from bokeh.models import BoxAnnotation\n",
    "\n",
    "box_left = pd.to_datetime('6-6-1944')\n",
    "box_right = pd.to_datetime('16-12-1944')\n",
    "infer_datetime_format = True\n",
    "\n",
    "box = BoxAnnotation(\n",
    "                    left = box_left,\n",
    "                    right = box_right,\n",
    "                    line_width = 1,\n",
    "                    line_color = 'black',\n",
    "                    line_dash = 'dashed',\n",
    "                    fill_alpha = .2,\n",
    "                    fill_color = 'orange'\n",
    "                    )\n",
    "p.add_layout(box)\n",
    "\n",
    "show(p)"
   ]
  },
  {
   "cell_type": "markdown",
   "id": "9c471f87",
   "metadata": {},
   "source": [
    "Photo of Graph"
   ]
  },
  {
   "cell_type": "markdown",
   "id": "f9eb020f",
   "metadata": {},
   "source": [
    "### Spatial Data: Mapping "
   ]
  },
  {
   "cell_type": "code",
   "execution_count": null,
   "id": "57993e7e",
   "metadata": {},
   "outputs": [],
   "source": [
    "import pandas as pd\n",
    "from bokeh.plotting import figure, output_file, show\n",
    "from bokeh.models import ColumnDataSource, Range1d\n",
    "from bokeh.layouts import layout\n",
    "from bokeh.palettes import Spectral3\n",
    "from bokeh.tile_providers import get_provider\n",
    "from pyproj import Transformer\n",
    "output_file('mapping_targets.html')\n",
    "\n",
    "def LongLat_to_EN(long, lat):\n",
    "    try:\n",
    "        transformer = Transformer.from_crs('epsg:4326',\n",
    "                                          'epsg:3857')\n",
    "        easting, northing = transformer.transform(long, lat)\n",
    "        return easting, northing\n",
    "    except:\n",
    "        return None, None\n",
    "    \n",
    "df = pd.read_csv(\"thor_wwii.csv\")\n",
    "\n",
    "df['E'], df['N'] = zip(\n",
    "                *df.apply(\n",
    "                        lambda x: LongLat_to_EN(x['TGT_LONGITUDE'], x['TGT_LATITUDE']),\n",
    "                        axis = 1\n",
    "                        )\n",
    "                    )\n",
    "#         *df.apply(lambda x: LongLat_to_EN(x['TGT_LONGITUDE'], x['TGT_LATITUDE']), axis=1)))\n",
    "\n",
    "grouped = df.groupby(['E', 'N'])[\n",
    "                    ['TONS_IC', 'TONS_FRAG']\n",
    "                                ].sum().reset_index()\n",
    "\n",
    "filter = grouped['TONS_FRAG'] != 0\n",
    "grouped = grouped[filter]\n",
    "\n",
    "source = ColumnDataSource(grouped)\n",
    "\n",
    "left = -2150000\n",
    "right = 18000000\n",
    "bottom = -5300000\n",
    "top = 11000000\n",
    "\n",
    "p = figure(\n",
    "            x_range = Range1d(left, right),\n",
    "            y_range = Range1d(bottom, top)\n",
    "          )\n",
    "\n",
    "provider = get_provider('CARTODBPOSITRON')\n",
    "p.add_tile(provider)\n",
    "p.circle(\n",
    "        x = 'E',\n",
    "        y = 'N',\n",
    "        source = source,\n",
    "        line_color = 'grey',\n",
    "        fill_color = 'yellow'\n",
    "        )\n",
    "p.axis.visible = False\n",
    "\n",
    "show(p)"
   ]
  },
  {
   "cell_type": "markdown",
   "id": "401faa48",
   "metadata": {},
   "source": [
    "Photo of Graph"
   ]
  }
 ],
 "metadata": {
  "kernelspec": {
   "display_name": "Python 3 (ipykernel)",
   "language": "python",
   "name": "python3"
  },
  "language_info": {
   "codemirror_mode": {
    "name": "ipython",
    "version": 3
   },
   "file_extension": ".py",
   "mimetype": "text/x-python",
   "name": "python",
   "nbconvert_exporter": "python",
   "pygments_lexer": "ipython3",
   "version": "3.9.13"
  }
 },
 "nbformat": 4,
 "nbformat_minor": 5
}
