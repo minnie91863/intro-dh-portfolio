{
 "cells": [
  {
   "cell_type": "code",
   "execution_count": 1,
   "id": "9c33e95d",
   "metadata": {},
   "outputs": [],
   "source": [
    "import pandas as pd\n",
    "from bokeh.plotting import figure, output_file, show\n",
    "from bokeh.models import ColumnDataSource\n",
    "from bokeh.models.tools import HoverTool\n",
    "\n",
    "from bokeh.palettes import Spectral5\n",
    "from bokeh.transform import factor_cmap\n",
    "output_file('munitions_by_country.html')\n",
    "\n",
    "df = pd.read_csv('thor_wwii.csv')"
   ]
  },
  {
   "cell_type": "code",
   "execution_count": 2,
   "id": "06867a32",
   "metadata": {},
   "outputs": [],
   "source": [
    "grouped = df.groupby('COUNTRY_FLYING_MISSION')[['TOTAL_TONS', 'TONS_HE', 'TONS_IC', 'TONS_FRAG']].sum()"
   ]
  },
  {
   "cell_type": "code",
   "execution_count": 3,
   "id": "4f5ae653",
   "metadata": {},
   "outputs": [
    {
     "name": "stdout",
     "output_type": "stream",
     "text": [
      "                        TOTAL_TONS     TONS_HE     TONS_IC  TONS_FRAG\n",
      "COUNTRY_FLYING_MISSION                                               \n",
      "AUSTRALIA                   479.89      453.90      13.600      18.64\n",
      "GREAT BRITAIN           1112598.95   868277.23  209036.158    1208.00\n",
      "NEW ZEALAND                2629.06     4263.70     166.500       0.00\n",
      "SOUTH AFRICA                 11.69       15.00       0.000       0.00\n",
      "USA                     1625487.68  1297955.65  205288.200  127655.98\n"
     ]
    }
   ],
   "source": [
    "print(grouped)"
   ]
  },
  {
   "cell_type": "code",
   "execution_count": 4,
   "id": "26890dc5",
   "metadata": {},
   "outputs": [],
   "source": [
    "#plotting data to scale it down\n",
    "grouped = grouped / 1000"
   ]
  },
  {
   "cell_type": "code",
   "execution_count": 6,
   "id": "f126a78e",
   "metadata": {},
   "outputs": [],
   "source": [
    "source = ColumnDataSource(grouped)\n",
    "countries = source.data['COUNTRY_FLYING_MISSION'].tolist()\n",
    "p = figure(x_range = countries)"
   ]
  },
  {
   "cell_type": "code",
   "execution_count": 9,
   "id": "75ec4d2e",
   "metadata": {},
   "outputs": [],
   "source": [
    "color_map = factor_cmap(field_name = 'COUNTRY_FLYING_MISSION', palette = Spectral5, factors = countries)\n",
    "p.vbar(x = 'COUNTRY_FLYING_MISSION',\n",
    "      top = 'TOTAL_TONS',\n",
    "      source = source,\n",
    "      width = 0.7,\n",
    "      color = color_map)\n",
    "p.title.text = 'Munitions Dropped by Allied Country'\n",
    "p.xaxis.axis_label = 'Country'\n",
    "p.yaxis.axis_label = 'Kilotons of Munitions'"
   ]
  },
  {
   "cell_type": "code",
   "execution_count": 10,
   "id": "08cb79bb",
   "metadata": {},
   "outputs": [
    {
     "name": "stderr",
     "output_type": "stream",
     "text": [
      "ERROR:bokeh.core.validation.check:E-1001 (BAD_COLUMN_NAME): Glyph refers to nonexistent column name. This could either be due to a misspelling or typo, or due to an expected column being missing. : key \"top\" value \"TOTAP_TONS\" (closest match: \"TOTAL_TONS\") [renderer: GlyphRenderer(id='1039', ...)]\n"
     ]
    }
   ],
   "source": [
    "hover = HoverTool()\n",
    "hover.tooltips = [\n",
    "    (\"Totals\", '@TONS_HE High Explosive / @TONS_IC Incendiary / @TONS_FRAG Fragmentation')\n",
    "]\n",
    "\n",
    "hover.mode = 'vline'\n",
    "\n",
    "p.add_tools(hover)\n",
    "\n",
    "show(p)"
   ]
  },
  {
   "cell_type": "code",
   "execution_count": null,
   "id": "bd6386bd",
   "metadata": {},
   "outputs": [],
   "source": []
  }
 ],
 "metadata": {
  "kernelspec": {
   "display_name": "Python 3 (ipykernel)",
   "language": "python",
   "name": "python3"
  },
  "language_info": {
   "codemirror_mode": {
    "name": "ipython",
    "version": 3
   },
   "file_extension": ".py",
   "mimetype": "text/x-python",
   "name": "python",
   "nbconvert_exporter": "python",
   "pygments_lexer": "ipython3",
   "version": "3.9.13"
  }
 },
 "nbformat": 4,
 "nbformat_minor": 5
}
