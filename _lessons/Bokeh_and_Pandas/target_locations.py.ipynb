{
 "cells": [
  {
   "cell_type": "code",
   "execution_count": 3,
   "id": "b9e1a4ab",
   "metadata": {},
   "outputs": [],
   "source": [
    "import pandas as pd\n",
    "from bokeh.plotting import figure, output_file, show\n",
    "from bokeh.models import ColumnDataSource, Range1d\n",
    "from bokeh.layouts import layout\n",
    "from bokeh.palettes import Spectral3\n",
    "from bokeh.tile_providers import get_provider\n",
    "from pyproj import Transformer\n",
    "output_file('mapping_targets.html')"
   ]
  },
  {
   "cell_type": "code",
   "execution_count": 4,
   "id": "ceaa8d20",
   "metadata": {},
   "outputs": [],
   "source": [
    "def LongLat_to_EN(long, lat):\n",
    "    try:\n",
    "        transformer = Transformer.from_crs('epsg:4326',\n",
    "                                          'epsg:3857')\n",
    "        easting, northing = transformer.transform(long, lat)\n",
    "        return easting, northing\n",
    "    except:\n",
    "        return None, None"
   ]
  },
  {
   "cell_type": "code",
   "execution_count": 5,
   "id": "f2567fe0",
   "metadata": {},
   "outputs": [],
   "source": [
    "df = pd.read_csv(\"thor_wwii.csv\")"
   ]
  },
  {
   "cell_type": "code",
   "execution_count": 6,
   "id": "ece705c4",
   "metadata": {},
   "outputs": [],
   "source": [
    "df['E'], df['N'] = zip(\n",
    "                *df.apply(\n",
    "                        lambda x: LongLat_to_EN(x['TGT_LONGITUDE'], x['TGT_LATITUDE']),\n",
    "                        axis = 1\n",
    "                        )\n",
    "                    )\n",
    "#         *df.apply(lambda x: LongLat_to_EN(x['TGT_LONGITUDE'], x['TGT_LATITUDE']), axis=1)))\n"
   ]
  },
  {
   "cell_type": "code",
   "execution_count": 7,
   "id": "8054c92a",
   "metadata": {},
   "outputs": [],
   "source": [
    "grouped = df.groupby(['E', 'N'])[\n",
    "                    ['TONS_IC', 'TONS_FRAG']\n",
    "                                ].sum().reset_index()"
   ]
  },
  {
   "cell_type": "code",
   "execution_count": 8,
   "id": "46dd864a",
   "metadata": {},
   "outputs": [],
   "source": [
    "filter = grouped['TONS_FRAG'] != 0\n",
    "grouped = grouped[filter]"
   ]
  },
  {
   "cell_type": "code",
   "execution_count": 9,
   "id": "518864de",
   "metadata": {},
   "outputs": [],
   "source": [
    "source = ColumnDataSource(grouped)"
   ]
  },
  {
   "cell_type": "code",
   "execution_count": 10,
   "id": "df7d0f37",
   "metadata": {},
   "outputs": [],
   "source": [
    "left = -2150000\n",
    "right = 18000000\n",
    "bottom = -5300000\n",
    "top = 11000000"
   ]
  },
  {
   "cell_type": "code",
   "execution_count": 11,
   "id": "e28c82a4",
   "metadata": {},
   "outputs": [],
   "source": [
    "p = figure(\n",
    "            x_range = Range1d(left, right),\n",
    "            y_range = Range1d(bottom, top)\n",
    "          )"
   ]
  },
  {
   "cell_type": "code",
   "execution_count": 14,
   "id": "1e79a44f",
   "metadata": {},
   "outputs": [],
   "source": [
    "provider = get_provider('CARTODBPOSITRON')\n",
    "p.add_tile(provider)\n",
    "p.circle(\n",
    "        x = 'E',\n",
    "        y = 'N',\n",
    "        source = source,\n",
    "        line_color = 'grey',\n",
    "        fill_color = 'yellow'\n",
    "        )\n",
    "p.axis.visible = False"
   ]
  },
  {
   "cell_type": "code",
   "execution_count": 15,
   "id": "1904c1cf",
   "metadata": {},
   "outputs": [],
   "source": [
    "show(p)"
   ]
  },
  {
   "cell_type": "code",
   "execution_count": null,
   "id": "ac4121da",
   "metadata": {},
   "outputs": [],
   "source": []
  }
 ],
 "metadata": {
  "kernelspec": {
   "display_name": "Python 3 (ipykernel)",
   "language": "python",
   "name": "python3"
  },
  "language_info": {
   "codemirror_mode": {
    "name": "ipython",
    "version": 3
   },
   "file_extension": ".py",
   "mimetype": "text/x-python",
   "name": "python",
   "nbconvert_exporter": "python",
   "pygments_lexer": "ipython3",
   "version": "3.9.13"
  }
 },
 "nbformat": 4,
 "nbformat_minor": 5
}
